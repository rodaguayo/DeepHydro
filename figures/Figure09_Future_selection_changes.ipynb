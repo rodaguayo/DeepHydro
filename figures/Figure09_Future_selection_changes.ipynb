{
 "cells": [
  {
   "cell_type": "markdown",
   "id": "07a92871-4e9e-4d1c-9127-5ffca2a997c5",
   "metadata": {},
   "source": [
    "# Figure 9. Future seasonal changes"
   ]
  },
  {
   "cell_type": "code",
   "execution_count": null,
   "id": "13cdb07a-fdee-46ff-b467-566c73081214",
   "metadata": {},
   "outputs": [],
   "source": [
    "import os \n",
    "import numpy as np\n",
    "import pandas as pd\n",
    "import xarray as xr\n",
    "\n",
    "import plotly.express as px\n",
    "import plotly.graph_objects as go\n",
    "from plotly.subplots import make_subplots\n",
    "\n",
    "os.chdir('/home/rooda/OneDrive/Projects/DeepHydro/')"
   ]
  },
  {
   "cell_type": "code",
   "execution_count": null,
   "id": "fc0154cd-b23a-430f-82c3-3f057c2d8128",
   "metadata": {
    "tags": []
   },
   "outputs": [],
   "source": [
    "dict_basins = {\"Y00004842\":'Puelo', \n",
    "              \"Y00004886\":'Yelcho', \n",
    "              \"Y00004938\":'Palena', \n",
    "              \"Y00004983\":'Cisnes', \n",
    "              \"Y00004956\":'Aysen', \n",
    "              \"Y00004957\":'Baker', \n",
    "              \"Y00004946\":'Pascua', \n",
    "              \"Y00004814\":'Santa Cruz', \n",
    "              \"Y00004894\":'Grey'}"
   ]
  },
  {
   "cell_type": "markdown",
   "id": "8b0bbed8-65c6-44ab-b3de-4588219c45a0",
   "metadata": {},
   "source": [
    "## Data "
   ]
  },
  {
   "cell_type": "code",
   "execution_count": null,
   "id": "faa02f55-e02a-49df-aa15-c74d5976c43f",
   "metadata": {},
   "outputs": [],
   "source": [
    "metadata = pd.read_csv(\"data/Attributes_all_basins.csv\", index_col = 0)\n",
    "metadata = metadata.loc[dict_basins.keys()]"
   ]
  },
  {
   "cell_type": "code",
   "execution_count": null,
   "id": "61eee393-0c28-441f-b43a-c09ada933004",
   "metadata": {
    "tags": []
   },
   "outputs": [],
   "source": [
    "q_historical = xr.open_dataset(\"results/zenodo/Q_historical.nc\", chunks = \"auto\").sel(basin_id = list(dict_basins.keys()))\n",
    "q_historical = q_historical.groupby(q_historical.date.dt.dayofyear).mean()\n",
    "q_historical = q_historical.rolling(dayofyear = 7, center = True, min_periods = 2).mean()\n",
    "\n",
    "q_future = xr.open_dataset(\"results/zenodo/Q_future.nc\", chunks = \"auto\").sel(basin_id = list(dict_basins.keys()))\n",
    "q_future = q_future.sel(date = slice(\"2070-01-01\", \"2099-12-31\"))\n",
    "q_future = q_future.groupby(q_future.date.dt.dayofyear).mean()\n",
    "q_future = q_future.rolling(dayofyear = 7, center = True, min_periods = 2).mean()\n",
    "q_future = q_future.mean(dim = \"gcm\")\n",
    "q_future = ((q_future.Q / q_historical.Q) - 1)*100\n",
    "q_future = q_future.load()"
   ]
  },
  {
   "cell_type": "markdown",
   "id": "bcf64a31-f20f-4997-89aa-bd3e72447820",
   "metadata": {},
   "source": [
    "## Plot"
   ]
  },
  {
   "cell_type": "code",
   "execution_count": null,
   "id": "59fcc8dd-df69-4ee7-bc2b-59d130c54ada",
   "metadata": {
    "tags": []
   },
   "outputs": [],
   "source": [
    "cl = px.colors.qualitative.D3\n",
    "scen_dict = {\"ssp126\":\"SSP 1-2.6\", \"ssp585\": \"SSP 5-8.5\"}\n",
    "\n",
    "basins_xy  = np.reshape(list(dict_basins.keys()), (3, 3))\n",
    "basins_titles = [a + \" (\" + str(b) + \"%)\" for a, b in zip(list(dict_basins.values()), metadata.glacier_cover.to_list())]\n",
    "\n",
    "\n",
    "for scenario in [\"ssp126\", \"ssp585\"]:\n",
    "\n",
    "    fig    = make_subplots(rows=3, cols=3, horizontal_spacing = 0.03, vertical_spacing = 0.05, shared_xaxes= True, shared_yaxes= True, \n",
    "                           y_title = \"ΔRunoff (%) [{}]\".format(scen_dict[scenario]), subplot_titles = basins_titles)\n",
    "    \n",
    "    for x in range(0,3):\n",
    "        for y in range(0,3):\n",
    "        \n",
    "            fig.add_trace(go.Scatter(x=q_future.dayofyear, y=q_future.sel(ssp = scenario).sel(model = \"GR4J\").sel(basin_id = basins_xy[x,y]), \n",
    "                                     mode='lines', name= \"SSP 5-8.5\", line=dict(color= cl[1], width = 1.2, dash='dot'), showlegend=False), row=x+1, col=y+1)\n",
    "    \n",
    "            fig.add_trace(go.Scatter(x=q_future.dayofyear, y=q_future.sel(ssp = scenario).sel(model = \"TUWmodel\").sel(basin_id = basins_xy[x,y]), \n",
    "                                     mode='lines', name= \"SSP 5-8.5\", line=dict(color= cl[4], width = 1.2, dash='dot'), showlegend=False), row=x+1, col=y+1)\n",
    "\n",
    "            fig.add_trace(go.Scatter(x=q_future.dayofyear, y=q_future.sel(ssp = scenario).sel(model = \"LSTM_OGGM_off\").sel(basin_id = basins_xy[x,y]), \n",
    "                                     mode='lines', name= \"SSP 5-8.5\", line=dict(color= cl[2], width = 1.2, dash='dot'), showlegend=False), row=x+1, col=y+1)\n",
    "\n",
    "            fig.add_trace(go.Scatter(x=q_future.dayofyear, y=q_future.sel(ssp = scenario).sel(model = \"LSTM_OGGM_on\").sel(basin_id = basins_xy[x,y]), \n",
    "                                     mode='lines', name= \"SSP 5-8.5\", line=dict(color= cl[0], width = 1.5), showlegend=False), row=x+1, col=y+1)\n",
    "    \n",
    "    fig.add_trace(go.Scatter(x=[None], y=[None],  mode='lines', name= \"LSTM + OGGM\", line=dict(color= cl[0], width = 1.5), showlegend=True), row=1, col=1)\n",
    "    fig.add_trace(go.Scatter(x=[None], y=[None],  mode='lines', name= \"Only LSTM\", line=dict(color= cl[2], width = 1, dash = \"dot\"), showlegend=True), row=1, col=1)\n",
    "    fig.add_trace(go.Scatter(x=[None], y=[None],  mode='lines', name= \"TUWmodel + OGGM\", line=dict(color= cl[4], width = 1, dash = \"dot\"), showlegend=True), row=1, col=1)\n",
    "    fig.add_trace(go.Scatter(x=[None], y=[None],  mode='lines', name= \"GR4J + OGGM\", line=dict(color= cl[1], width = 1, dash = \"dot\"), showlegend=True), row=1, col=1)\n",
    "    \n",
    "    fig.update_yaxes(ticks=\"outside\", range = [-70, 70], dtick = 25, griddash = \"dot\", tickfont = dict(size=12), ticksuffix = \"%\",  title_standoff = 100)\n",
    "    fig.update_xaxes(ticks=\"outside\", griddash = \"dot\",\n",
    "                     tickvals=[15,46,74,105,135,166,196,227,258,288,319,349], tickfont = dict(size=15),\n",
    "                     ticktext = [\"J\", \"F\", \"M\", \"A\", \"M\", \"J\", \"J\", \"A\", \"S\", \"O\", \"N\", \"D\"])\n",
    "    \n",
    "    fig.update_layout(legend=dict(y=1.08, x=0.46, orientation=\"h\", bgcolor = 'rgba(0,0,0,0.0)', font_size = 15))\n",
    "    fig.update_layout(height=800, width=1200, template = \"seaborn\", margin = dict(l=65, r=20, b=20, t=20), hovermode = False)\n",
    "    fig.update_annotations(font_size=16)\n",
    "    \n",
    "    # save figure \n",
    "    fig.write_image(\"reports/figures/Figure9_seasonal_changes_{}.png\".format(scenario), scale=4)\n",
    "#fig.show()"
   ]
  },
  {
   "cell_type": "markdown",
   "id": "7722fd73",
   "metadata": {},
   "source": [
    "## Text"
   ]
  },
  {
   "cell_type": "code",
   "execution_count": null,
   "id": "192e7cd9",
   "metadata": {},
   "outputs": [],
   "source": [
    "q_historical = xr.open_dataset(\"results/zenodo/Q_historical.nc\").sel(basin_id = \"Y00004842\").sel(model = \"LSTM_OGGM_on\").Q\n",
    "q_historical = q_historical * metadata.total_area.loc[\"Y00004842\"] * 1e6 / (1e3*86400)\n",
    "\n",
    "q_future = xr.open_dataset(\"results/zenodo/Q_future.nc\").sel(basin_id = \"Y00004842\").sel(model = \"LSTM_OGGM_on\").Q\n",
    "q_future = q_future.sel(date = slice(\"2070-01-01\", \"2099-12-31\"))\n",
    "q_future = q_future * metadata.total_area.loc[\"Y00004842\"] * 1e6 / (1e3*86400)\n",
    "\n",
    "\n",
    "((q_future < 250).sum(dim = \"date\").mean(dim = \"gcm\")/len(q_future.date)) / ((q_historical < 250).sum(dim = \"date\")/len(q_historical) )"
   ]
  }
 ],
 "metadata": {
  "kernelspec": {
   "display_name": "climate",
   "language": "python",
   "name": "python3"
  },
  "language_info": {
   "codemirror_mode": {
    "name": "ipython",
    "version": 3
   },
   "file_extension": ".py",
   "mimetype": "text/x-python",
   "name": "python",
   "nbconvert_exporter": "python",
   "pygments_lexer": "ipython3",
   "version": "3.11.9"
  }
 },
 "nbformat": 4,
 "nbformat_minor": 5
}
