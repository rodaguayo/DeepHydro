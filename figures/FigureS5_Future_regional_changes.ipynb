{
 "cells": [
  {
   "cell_type": "markdown",
   "id": "7cc7f897-0ede-4c65-89ef-2c358545e970",
   "metadata": {},
   "source": [
    "# Figure S5: Future regional differences (map all models)"
   ]
  },
  {
   "cell_type": "code",
   "execution_count": null,
   "id": "29ea2f27-c2e5-4515-8fb4-7b6e5554709f",
   "metadata": {
    "tags": []
   },
   "outputs": [],
   "source": [
    "import os \n",
    "import numpy as np\n",
    "import pandas as pd\n",
    "import geopandas as gpd\n",
    "import xarray as xr\n",
    "\n",
    "import plotly.graph_objects as go\n",
    "from plotly.subplots import make_subplots\n",
    "import shapely.geometry\n",
    "\n",
    "os.chdir('/home/rooda/OneDrive/Projects/DeepHydro/')\n",
    "path_geo = \"/home/rooda/Datasets/GIS/\""
   ]
  },
  {
   "cell_type": "markdown",
   "id": "c0f7623b-b05b-44bb-8bb7-21dde3085292",
   "metadata": {},
   "source": [
    "## Data"
   ]
  },
  {
   "cell_type": "code",
   "execution_count": null,
   "id": "be04a2dc-b5b3-40cb-84f2-3f26e761e7c4",
   "metadata": {},
   "outputs": [],
   "source": [
    "q_historical = xr.open_mfdataset(\"results/zenodo/Q_historical.nc\")\n",
    "q_historical = q_historical.resample(date = \"YS\").sum().mean(dim = \"date\")\n",
    "\n",
    "q_future = xr.open_mfdataset(\"results/zenodo/Q_future.nc\")\n",
    "q_future = q_future.sel(date = slice(\"2070-01-01\", \"2099-12-31\"))\n",
    "q_future = q_future.resample(date = \"YS\").sum().mean(dim = \"date\")\n",
    "q_future = ((q_future.mean(dim = \"gcm\") / q_historical) - 1)*100\n",
    "q_future = q_future.Q.to_dataframe().reset_index()\n",
    "q_future = q_future.pivot(index=\"basin_id\", columns=[\"model\",\"ssp\"], values=\"Q\")\n",
    "q_future.columns = ['_'.join(col) for col in q_future.columns]"
   ]
  },
  {
   "cell_type": "code",
   "execution_count": null,
   "id": "2480caa2-792f-47b8-860a-c20ce2d1d6f6",
   "metadata": {},
   "outputs": [],
   "source": [
    "# relative change for ssp126 and ssp585\n",
    "pmet_shape = gpd.read_file(\"data/GIS/Basins_Patagonia_all_data.gpkg\") # Problem in Puelo \n",
    "pmet_shape = pmet_shape.set_index(\"gauge_id\")\n",
    "pmet_shape[\"total_area\"] = pmet_shape.total_area*1e6 # in m2 \n",
    "pmet_shape   = pd.concat([pmet_shape, q_future], axis = 1)"
   ]
  },
  {
   "cell_type": "markdown",
   "id": "27355329-4cf0-4731-ab6b-4df05e14510a",
   "metadata": {},
   "source": [
    "## Plot elements"
   ]
  },
  {
   "cell_type": "code",
   "execution_count": null,
   "id": "8bcd2878-a189-4ba0-a483-c68bb3c16655",
   "metadata": {
    "tags": []
   },
   "outputs": [],
   "source": [
    "# basemap for background\n",
    "geo_map = gpd.read_file(path_geo + \"/south_america.shp\")\n",
    "geo_map = geo_map[(geo_map.CC == \"CI\") | (geo_map.CC == \"AR\")]\n",
    "geo_map = geo_map.dissolve(by='REGION')\n",
    "geo_map[\"geometry\"] = geo_map.simplify(0.01)\n",
    "\n",
    "poly_gdf = shapely.geometry.Polygon([(-76, -54.99), (-76, -40.51), (-68.51, -40.51), (-68.51, -54.99), (-76, -54.99)])\n",
    "poly_gdf = gpd.GeoDataFrame([1], geometry=[poly_gdf], crs=geo_map.crs)\n",
    "\n",
    "geo_map = geo_map.clip(poly_gdf)"
   ]
  },
  {
   "cell_type": "code",
   "execution_count": null,
   "id": "5479b3c4-2fb7-451a-b8c8-c01c1ca016d5",
   "metadata": {},
   "outputs": [],
   "source": [
    "pmet_shape_main = pmet_shape[pmet_shape[\"total_area\"] > 5000*1e6].copy()\n",
    "pmet_shape_main[\"basin_name\"] = [\"Santa Cruz                          \", \"Puelo\", \"Yelcho\", \"Grey\",\"Palena\", \"Pascua\", \"Aysen\", \"Baker\", \"Cisnes\"]"
   ]
  },
  {
   "cell_type": "code",
   "execution_count": null,
   "id": "fee872e0-532d-4c5a-84c4-5e29b0543d53",
   "metadata": {},
   "outputs": [],
   "source": [
    "from  plotly.colors import unlabel_rgb, hex_to_rgb\n",
    "def binned_colorscale(seq, nr_swatches=5):\n",
    "    \n",
    "    if seq[0][0] == '#':\n",
    "        arr_colors=np.array([hex_to_rgb(s) for s in seq])/255\n",
    "    elif seq[0][0:3] == 'rgb':\n",
    "        arr_colors = np.array([unlabel_rgb(s) for s in seq])/255 \n",
    "    else:\n",
    "        raise ValueError(\"a plotly colorscale is given either with hex colors or as rgb colors\")\n",
    "    n = len(seq)\n",
    "    svals = [k/(n-1) for k in range(n)] #the scale values corresponding to the colors in seq\n",
    "    grid = [k/(nr_swatches-1) for k in range(nr_swatches)]# define the scale values corresponding nr_swatches\n",
    "    r, g, b = [np.interp(grid, svals, arr_colors[:, k]) for k in range(3)]  #np.interp interpolates linearly\n",
    "    cmap_arr = np.clip(np.vstack((r, g, b)).T, 0, 1)\n",
    "    new_colors = np.array(cmap_arr*255, dtype=int)\n",
    "    discrete_colorscale = []\n",
    "    N = len(new_colors+1)\n",
    "    for k in range(N):\n",
    "        discrete_colorscale.extend([[k/N, f'rgb{tuple(new_colors[k])}'], \n",
    "                                    [(k+1)/N,  f'rgb{tuple(new_colors[k])}']]) \n",
    "    return discrete_colorscale "
   ]
  },
  {
   "cell_type": "markdown",
   "id": "7c4dc0a1-3892-4078-942c-1394fff2d118",
   "metadata": {},
   "source": [
    "## Plot"
   ]
  },
  {
   "cell_type": "code",
   "execution_count": null,
   "id": "be1a2038-402e-440b-a471-a618878af808",
   "metadata": {
    "tags": []
   },
   "outputs": [],
   "source": [
    "fig = make_subplots(rows=2, cols=3, vertical_spacing = 0.01, horizontal_spacing = 0.01, \n",
    "                    column_titles = [\"Only LSTM\", \"TUWmodel + OGGM\", \"GR4J + OGGM\"], row_titles = [\"SSP 1-2.6\", \"SSP 5-8.5\"],\n",
    "                    specs=[[{\"type\": \"scattergeo\"}, {\"type\": \"scattergeo\"}, {\"type\": \"scattergeo\"}],\n",
    "                           [{\"type\": \"scattergeo\"}, {\"type\": \"scattergeo\"}, {\"type\": \"scattergeo\"}]])\n",
    "\n",
    "# colors\n",
    "colorsc = binned_colorscale([\"#fe7e0d\", \"#ffe9ba\", \"#1d78b4\"], nr_swatches=15) \n",
    "\n",
    "dtick = 2\n",
    "x = list(range(-76, 0 + dtick, dtick))\n",
    "y = list(range(-56, 0 + dtick, dtick))\n",
    "xpos = -75.9\n",
    "ypos = -55.9\n",
    "\n",
    "\n",
    "## Basemap -----------------------------------------------------------------------------------------------\n",
    "for x_plot in range(0,3):\n",
    "    for y_plot in range (0,2):\n",
    "        fig.add_trace(go.Choropleth(geojson = eval(geo_map['geometry'].to_json()),  locations = geo_map.index, z = geo_map['iso_num'], \n",
    "                                    colorscale = [\"#EAEAF2\", \"#EAEAF2\"],  showscale= False, marker_line_color ='white', marker_line_width=0.1), \n",
    "                                    row=y_plot+1, col=x_plot+1)\n",
    "\n",
    "        fig.add_trace(go.Scattergeo(lon = [lon + 0.25 for lon in x[1:-1]] + [xpos + 0.25] * (len(y) - 2),\n",
    "                                lat = [ypos + 0.1] * (len(x) - 2) + [lat + 0.1 for lat in y[1:-1]],\n",
    "                                showlegend = False,\n",
    "                                text = x[1:-1] + y[1:-1], textfont=dict(size=10, color = \"rgba(0,0,0,0.25)\"),\n",
    "                                mode = \"text\"), row=y_plot+1, col=x_plot+1)\n",
    "\n",
    "fig.add_scattergeo(geojson = eval(pmet_shape_main['geometry'].to_json()), locations = pmet_shape_main.index, text = pmet_shape_main['basin_name'], mode = 'text', \n",
    "                       showlegend = False, textfont=dict(size=11, color = \"rgba(0,0,0,0.3)\"),row=1, col=1)\n",
    "\n",
    "fig.add_trace(go.Choropleth(geojson = eval(pmet_shape['geometry'].to_json()),  locations = pmet_shape.index, z = pmet_shape['LSTM_OGGM_off_ssp126'], \n",
    "                            colorscale = colorsc, marker_line_color ='white', marker_line_width=0.1, \n",
    "                            zmin = -40, zmax = 40, colorbar=dict(len=0.95, x=1.01, title='Projected<br>runoff<br>change<br>(%)', thickness=25, tickwidth=1)), row=1, col=1)\n",
    "\n",
    "fig.add_trace(go.Choropleth(geojson = eval(pmet_shape['geometry'].to_json()),  locations = pmet_shape.index, z = pmet_shape['TUWmodel_ssp126'], \n",
    "                            colorscale = colorsc, marker_line_color ='white', marker_line_width=0.1, \n",
    "                            zmin = -40, zmax = 40, showscale = False), row=1, col=2)\n",
    "\n",
    "fig.add_trace(go.Choropleth(geojson = eval(pmet_shape['geometry'].to_json()),  locations = pmet_shape.index, z = pmet_shape['GR4J_ssp126'], \n",
    "                            colorscale = colorsc, marker_line_color ='white', marker_line_width=0.1, \n",
    "                            zmin = -40, zmax = 40, showscale = False), row=1, col=3)\n",
    "\n",
    "fig.add_trace(go.Choropleth(geojson = eval(pmet_shape['geometry'].to_json()),  locations = pmet_shape.index, z = pmet_shape['LSTM_OGGM_off_ssp585'], \n",
    "                            colorscale = colorsc, marker_line_color ='white', marker_line_width=0.1, \n",
    "                            zmin = -40, zmax = 40, showscale = False), row=2, col=1)\n",
    "\n",
    "fig.add_trace(go.Choropleth(geojson = eval(pmet_shape['geometry'].to_json()),  locations = pmet_shape.index, z = pmet_shape['TUWmodel_ssp585'], \n",
    "                            colorscale = colorsc, marker_line_color ='white', marker_line_width=0.1, \n",
    "                            zmin = -40, zmax = 40, showscale = False), row=2, col=2)\n",
    "\n",
    "fig.add_trace(go.Choropleth(geojson = eval(pmet_shape['geometry'].to_json()),  locations = pmet_shape.index, z = pmet_shape['GR4J_ssp585'], \n",
    "                            colorscale = colorsc, marker_line_color ='white', marker_line_width=0.1, \n",
    "                            zmin = -40, zmax = 40, showscale = False), row=2, col=3)\n",
    "\n",
    "## Annotations -----------------------------------------------------------------------------------------------\n",
    "fig.add_annotation(text=\"a)\", x=0.005, y=0.52,  xref = \"paper\", yref = \"paper\", showarrow=False)\n",
    "fig.add_annotation(text=\"b)\", x=0.35, y=0.52,  xref = \"paper\", yref = \"paper\", showarrow=False)\n",
    "fig.add_annotation(text=\"c)\", x=0.69, y=0.52,  xref = \"paper\", yref = \"paper\", showarrow=False)\n",
    "fig.add_annotation(text=\"d)\", x=0.005, y=0,  xref = \"paper\", yref = \"paper\", showarrow=False)\n",
    "fig.add_annotation(text=\"e)\", x=0.35, y=0,  xref = \"paper\", yref = \"paper\", showarrow=False)\n",
    "fig.add_annotation(text=\"f)\", x=0.69, y=0,  xref = \"paper\", yref = \"paper\", showarrow=False)\n",
    "\n",
    "## Layout -------------------------------------------------------------------------------------------------------------------\n",
    "fig.update_xaxes(showline = True, linecolor = 'rgba(0,0,0,0.5)', linewidth = 1, ticks=\"outside\", griddash = \"dot\", mirror=True)\n",
    "fig.update_yaxes(showline = True, linecolor = 'rgba(0,0,0,0.5)', linewidth = 1, ticks=\"outside\", griddash = \"dot\", mirror=True)\n",
    "\n",
    "fig.update_geos(showframe = True, framewidth = 1, framecolor = \"rgba(0,0,0,0.5)\", \n",
    "                lonaxis_range=[-76, -68.5], lataxis_range=[-56, -40.5], \n",
    "                bgcolor = \"rgb(255,255,255)\", \n",
    "                showland = False, showcoastlines = False, showlakes = False, \n",
    "                lataxis_showgrid=True, lonaxis_showgrid=True, \n",
    "                lonaxis_dtick = dtick, lataxis_dtick = dtick, \n",
    "                lonaxis_gridcolor = \"rgba(0,0,0,0.1)\", lataxis_gridcolor = \"rgba(0,0,0,0.1)\", \n",
    "                lonaxis_griddash = \"dot\", lataxis_griddash = \"dot\")\n",
    "\n",
    "fig.update_layout(autosize = False, width = 1000, height = 1200, template = \"seaborn\", font_size = 17, margin = dict(l=5, r=5, b=5, t=30))\n",
    "fig.write_image(\"reports/figures/FigureS5_regional_changes.png\", scale = 4)\n",
    "#fig.show()"
   ]
  },
  {
   "cell_type": "markdown",
   "id": "934e6401-808c-4aed-bbc0-cdf776ca424a",
   "metadata": {},
   "source": [
    "## Text"
   ]
  },
  {
   "cell_type": "code",
   "execution_count": null,
   "id": "976c13a4-ac8f-425a-9062-acd18c0477c8",
   "metadata": {},
   "outputs": [],
   "source": []
  }
 ],
 "metadata": {
  "kernelspec": {
   "display_name": "neural",
   "language": "python",
   "name": "python3"
  },
  "language_info": {
   "codemirror_mode": {
    "name": "ipython",
    "version": 3
   },
   "file_extension": ".py",
   "mimetype": "text/x-python",
   "name": "python",
   "nbconvert_exporter": "python",
   "pygments_lexer": "ipython3",
   "version": "3.10.13"
  }
 },
 "nbformat": 4,
 "nbformat_minor": 5
}
