{
 "cells": [
  {
   "cell_type": "markdown",
   "id": "07a92871-4e9e-4d1c-9127-5ffca2a997c5",
   "metadata": {},
   "source": [
    "# Figure 7. Regionalization differences (selection)"
   ]
  },
  {
   "cell_type": "code",
   "execution_count": null,
   "id": "13cdb07a-fdee-46ff-b467-566c73081214",
   "metadata": {},
   "outputs": [],
   "source": [
    "import os \n",
    "import numpy as np\n",
    "import pandas as pd\n",
    "import xarray as xr\n",
    "\n",
    "import plotly.express as px\n",
    "import plotly.graph_objects as go\n",
    "from plotly.subplots import make_subplots\n",
    "\n",
    "os.chdir('/home/rooda/OneDrive/Projects/DeepHydro/')"
   ]
  },
  {
   "cell_type": "code",
   "execution_count": null,
   "id": "fc0154cd-b23a-430f-82c3-3f057c2d8128",
   "metadata": {
    "tags": []
   },
   "outputs": [],
   "source": [
    "dict_basins = {\"Y00004842\":'Puelo', \n",
    "               \"Y00004886\":'Yelcho', \n",
    "               \"Y00004938\":'Palena', \n",
    "               \"Y00004983\":'Cisnes', \n",
    "               \"Y00004956\":'Aysen', \n",
    "               \"Y00004957\":'Baker', \n",
    "               \"Y00004946\":'Pascua', \n",
    "               \"Y00004814\":'Santa Cruz', \n",
    "               \"Y00004894\":'Grey'}"
   ]
  },
  {
   "cell_type": "markdown",
   "id": "8b0bbed8-65c6-44ab-b3de-4588219c45a0",
   "metadata": {},
   "source": [
    "## Data "
   ]
  },
  {
   "cell_type": "code",
   "execution_count": null,
   "id": "0c771ff6-7666-4e48-b38f-8841b313bba4",
   "metadata": {},
   "outputs": [],
   "source": [
    "metadata = pd.read_csv(\"data/Attributes_all_basins.csv\", index_col = 0)\n",
    "metadata = metadata.loc[dict_basins.keys()]"
   ]
  },
  {
   "cell_type": "code",
   "execution_count": null,
   "id": "c595089e-8d68-4cc4-aa83-622bb45b20c5",
   "metadata": {
    "tags": []
   },
   "outputs": [],
   "source": [
    "q_data = xr.open_dataset(\"results/zenodo/Q_historical.nc\").sel(basin_id = list(dict_basins.keys()))\n",
    "q_data = q_data.groupby(q_data.date.dt.dayofyear).mean()\n",
    "q_data = q_data.rolling(dayofyear = 7, center = True, min_periods = 1).mean()"
   ]
  },
  {
   "cell_type": "markdown",
   "id": "3b6914df-69be-498c-afd8-ed4deb3e9e05",
   "metadata": {},
   "source": [
    "## Plot"
   ]
  },
  {
   "cell_type": "code",
   "execution_count": null,
   "id": "59fcc8dd-df69-4ee7-bc2b-59d130c54ada",
   "metadata": {
    "tags": []
   },
   "outputs": [],
   "source": [
    "basins_xy  = np.reshape(list(dict_basins.keys()), (3, 3))\n",
    "basins_titles = [a + \" (\" + str(b) + \"%)\" for a, b in zip(list(dict_basins.values()), metadata.glacier_cover.to_list())]\n",
    "\n",
    "fig    = make_subplots(rows=3, cols=3, horizontal_spacing = 0.03, vertical_spacing = 0.05, \n",
    "                       shared_xaxes= True, shared_yaxes= False, y_title = \"Runoff (mm d <sup>-1</sup>)\", \n",
    "                       subplot_titles = basins_titles)\n",
    "\n",
    "cl = px.colors.qualitative.D3\n",
    "\n",
    "for x in range(0,3):\n",
    "    for y in range(0,3):\n",
    "\n",
    "        fig.add_trace(go.Scatter(x=q_data.dayofyear, y=q_data.sel(basin_id = basins_xy[x,y]).sel(model = \"TUWmodel\").Q, \n",
    "                                 mode='lines', name= \"TUWmodel\", line=dict(color= cl[4], width = 1.2, dash = \"dot\"), showlegend=False), row=x+1, col=y+1)\n",
    "\n",
    "        fig.add_trace(go.Scatter(x=q_data.dayofyear, y=q_data.sel(basin_id = basins_xy[x,y]).sel(model = \"GR4J\").Q, \n",
    "                                 mode='lines', name= \"GR4J\", line=dict(color= cl[1], width = 1.2, dash = \"dot\"), showlegend=False), row=x+1, col=y+1)\n",
    "\n",
    "        fig.add_trace(go.Scatter(x=q_data.dayofyear, y=q_data.sel(basin_id = basins_xy[x,y]).sel(model = \"LSTM_OGGM_off\").Q, \n",
    "                                 mode='lines', name= \"LSTM OGGM off\", line=dict(color= cl[2], dash = \"dot\", width = 1.2), showlegend=False), row=x+1, col=y+1)\n",
    "\n",
    "        fig.add_trace(go.Scatter(x=q_data.dayofyear, y=q_data.sel(basin_id = basins_xy[x,y]).sel(model = \"LSTM_OGGM_on\").Q, \n",
    "                                 mode='lines', name= \"LSTM OGGM on\", line=dict(color= cl[0], width = 1.5), showlegend=False), row=x+1, col=y+1)\n",
    "\n",
    "\n",
    "fig.add_trace(go.Scatter(x=[None], y=[None],  mode='lines', name= \"LSTM + OGGM\", line=dict(color= cl[0], width = 1.5), showlegend=True), row=1, col=1)\n",
    "fig.add_trace(go.Scatter(x=[None], y=[None],  mode='lines', name= \"Only LSTM\", line=dict(color= cl[2], width = 1), showlegend=True), row=1, col=1)\n",
    "fig.add_trace(go.Scatter(x=[None], y=[None],  mode='lines', name= \"TUWmodel + OGGM\", line=dict(color= cl[4], width = 1, dash = \"dot\"), showlegend=True), row=1, col=1)\n",
    "fig.add_trace(go.Scatter(x=[None], y=[None],  mode='lines', name= \"GR4J + OGGM\", line=dict(color= cl[1], width = 1, dash = \"dot\"), showlegend=True), row=1, col=1)\n",
    "\n",
    "\n",
    "fig.update_yaxes(title = \"\", row = 1, col = 1)\n",
    "fig.update_yaxes(ticks=\"outside\", griddash = \"dot\", tickfont = dict(size=15))\n",
    "fig.update_xaxes(ticks=\"outside\", griddash = \"dot\", tickvals=[15,46,74,105,135,166,196,227,258,288,319,349],  tickfont = dict(size=15),\n",
    "                                                     ticktext = [\"J\", \"F\", \"M\", \"A\", \"M\", \"J\", \"J\", \"A\", \"S\", \"O\", \"N\", \"D\"])\n",
    "\n",
    "fig.update_layout(legend=dict(y=1.08, x=0.46, orientation=\"h\", bgcolor = 'rgba(0,0,0,0.0)', font_size = 15))\n",
    "fig.update_layout(height=800, width=1200, template = \"seaborn\", margin = dict(l=10, r=10, b=10, t=10), hovermode = False)\n",
    "fig.update_annotations(font_size=16)\n",
    "\n",
    "# save figure \n",
    "fig.write_image(\"reports/figures/Figure7_Regionalization_diff_selection.png\", scale=4)\n",
    "fig.show()"
   ]
  },
  {
   "cell_type": "code",
   "execution_count": null,
   "id": "f753086b-96d5-4234-8699-b0e637604e2b",
   "metadata": {},
   "outputs": [],
   "source": []
  }
 ],
 "metadata": {
  "kernelspec": {
   "display_name": "climate",
   "language": "python",
   "name": "python3"
  },
  "language_info": {
   "codemirror_mode": {
    "name": "ipython",
    "version": 3
   },
   "file_extension": ".py",
   "mimetype": "text/x-python",
   "name": "python",
   "nbconvert_exporter": "python",
   "pygments_lexer": "ipython3",
   "version": "3.11.9"
  }
 },
 "nbformat": 4,
 "nbformat_minor": 5
}
