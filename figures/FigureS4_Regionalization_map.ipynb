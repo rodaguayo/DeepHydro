{
 "cells": [
  {
   "cell_type": "markdown",
   "id": "7cc7f897-0ede-4c65-89ef-2c358545e970",
   "metadata": {},
   "source": [
    "# Figure S4: Regionalization differences (map)"
   ]
  },
  {
   "cell_type": "code",
   "execution_count": 1,
   "id": "29ea2f27-c2e5-4515-8fb4-7b6e5554709f",
   "metadata": {
    "tags": []
   },
   "outputs": [],
   "source": [
    "import os \n",
    "import numpy as np\n",
    "import pandas as pd\n",
    "import geopandas as gpd\n",
    "import xarray as xr\n",
    "\n",
    "import plotly.graph_objects as go\n",
    "from plotly.subplots import make_subplots\n",
    "import shapely.geometry\n",
    "\n",
    "os.chdir('/home/rooda/OneDrive/Projects/DeepHydro/')\n",
    "path_pmet = \"/home/rooda/OneDrive/Projects/PatagoniaMet/\"\n",
    "path_geo = \"/home/rooda/Datasets/GIS/\""
   ]
  },
  {
   "cell_type": "markdown",
   "id": "c0f7623b-b05b-44bb-8bb7-21dde3085292",
   "metadata": {},
   "source": [
    "## Data"
   ]
  },
  {
   "cell_type": "code",
   "execution_count": 2,
   "id": "4e1efea8-4ae7-4209-a525-06ced8a087d3",
   "metadata": {
    "tags": []
   },
   "outputs": [],
   "source": [
    "q_data = xr.open_dataset(\"results/zenodo/Q_historical.nc\")\n",
    "q_data = q_data.resample(date = \"YS\").sum().mean(dim = \"date\")\n",
    "q_data = q_data.to_dataframe().reset_index()\n",
    "q_data = q_data.pivot(index=\"basin_id\", columns=\"model\", values=\"Q\")"
   ]
  },
  {
   "cell_type": "code",
   "execution_count": 3,
   "id": "4ad6c100-e6a2-46eb-bd78-f2848d18abe1",
   "metadata": {
    "tags": []
   },
   "outputs": [],
   "source": [
    "pmet_shape = gpd.read_file(\"data/GIS/Basins_Patagonia_all_data.gpkg\") # Problem in Puelo \n",
    "pmet_shape = pmet_shape.set_index(\"gauge_id\")\n",
    "pmet_shape[\"total_area\"] = pmet_shape.total_area*1e6 # in m2 \n",
    "pmet_shape   = pd.concat([pmet_shape, q_data], axis = 1)\n",
    "pmet_shape[\"Model_STD\"]   = pmet_shape[[\"LSTM_OGGM_on\", \"LSTM_OGGM_off\", \"TUWmodel\", \"GR4J\"]].std(axis = 1)\n",
    "pmet_shape[\"Model_MEAN\"]  = pmet_shape[[\"LSTM_OGGM_on\", \"LSTM_OGGM_off\", \"TUWmodel\", \"GR4J\"]].mean(axis = 1)"
   ]
  },
  {
   "cell_type": "markdown",
   "id": "27355329-4cf0-4731-ab6b-4df05e14510a",
   "metadata": {},
   "source": [
    "## Plot elements"
   ]
  },
  {
   "cell_type": "code",
   "execution_count": 4,
   "id": "8bcd2878-a189-4ba0-a483-c68bb3c16655",
   "metadata": {
    "tags": []
   },
   "outputs": [],
   "source": [
    "# basemap for background\n",
    "geo_map = gpd.read_file(path_geo + \"south_america.shp\")\n",
    "geo_map = geo_map[(geo_map.CC == \"CI\") | (geo_map.CC == \"AR\")]\n",
    "geo_map = geo_map.dissolve(by='REGION')\n",
    "geo_map[\"geometry\"] = geo_map.simplify(0.01)\n",
    "\n",
    "poly_gdf = shapely.geometry.Polygon([(-76, -54.99), (-76, -40.51), (-68.01, -40.51), (-68.01, -54.99), (-76, -54.99)])\n",
    "poly_gdf = gpd.GeoDataFrame([1], geometry=[poly_gdf], crs=geo_map.crs)\n",
    "\n",
    "geo_map = geo_map.clip(poly_gdf)"
   ]
  },
  {
   "cell_type": "code",
   "execution_count": 5,
   "id": "5479b3c4-2fb7-451a-b8c8-c01c1ca016d5",
   "metadata": {},
   "outputs": [],
   "source": [
    "pmet_shape_main = pmet_shape[pmet_shape[\"total_area\"] > 5000*1e6].copy()\n",
    "pmet_shape_main[\"basin_name\"] = [\"Santa Cruz                          \", \"Puelo\", \"Yelcho\", \"Grey\",\"Palena\", \"Pascua\", \"Aysen\", \"Baker\", \"Cisnes\"]"
   ]
  },
  {
   "cell_type": "code",
   "execution_count": 6,
   "id": "b4d70888-ca34-4134-aac9-d0c1df0abb56",
   "metadata": {},
   "outputs": [],
   "source": [
    "from  plotly.colors import unlabel_rgb, hex_to_rgb\n",
    "def binned_colorscale(seq, nr_swatches=5):\n",
    "    \n",
    "    if seq[0][0] == '#':\n",
    "        arr_colors=np.array([hex_to_rgb(s) for s in seq])/255\n",
    "    elif seq[0][0:3] == 'rgb':\n",
    "        arr_colors = np.array([unlabel_rgb(s) for s in seq])/255 \n",
    "    else:\n",
    "        raise ValueError(\"a plotly colorscale is given either with hex colors or as rgb colors\")\n",
    "    n = len(seq)\n",
    "    svals = [k/(n-1) for k in range(n)] #the scale values corresponding to the colors in seq\n",
    "    grid = [k/(nr_swatches-1) for k in range(nr_swatches)]# define the scale values corresponding nr_swatches\n",
    "    r, g, b = [np.interp(grid, svals, arr_colors[:, k]) for k in range(3)]  #np.interp interpolates linearly\n",
    "    cmap_arr = np.clip(np.vstack((r, g, b)).T, 0, 1)\n",
    "    new_colors = np.array(cmap_arr*255, dtype=int)\n",
    "    discrete_colorscale = []\n",
    "    N = len(new_colors+1)\n",
    "    for k in range(N):\n",
    "        discrete_colorscale.extend([[k/N, f'rgb{tuple(new_colors[k])}'], \n",
    "                                    [(k+1)/N,  f'rgb{tuple(new_colors[k])}']]) \n",
    "    return discrete_colorscale "
   ]
  },
  {
   "cell_type": "markdown",
   "id": "7c4dc0a1-3892-4078-942c-1394fff2d118",
   "metadata": {},
   "source": [
    "## Plot"
   ]
  },
  {
   "cell_type": "code",
   "execution_count": 7,
   "id": "be1a2038-402e-440b-a471-a618878af808",
   "metadata": {
    "tags": []
   },
   "outputs": [],
   "source": [
    "titles = [\"LSTM + OGGM on\", \"LSTM + OGGM off\", \"TUWmodel + OGGM\", \"GR4J + OGGM\"]\n",
    "fig = make_subplots(rows=1, cols=3, vertical_spacing = 0.01, horizontal_spacing = 0.01,\n",
    "                    specs=[[{\"type\": \"scattergeo\"}, {\"type\": \"scattergeo\"}, {\"type\": \"scattergeo\"}]])\n",
    "\n",
    "# colors\n",
    "colorsc = binned_colorscale([\"#fe7e0d\", \"#ffe9ba\", \"#1d78b4\"], nr_swatches=15)\n",
    "\n",
    "dtick = 2\n",
    "x = list(range(-74, 0 + dtick, dtick))\n",
    "y = list(range(-56, 0 + dtick, dtick))\n",
    "xpos = -75.9\n",
    "ypos = -55.9\n",
    "\n",
    "## Basemap -----------------------------------------------------------------------------------------------\n",
    "for x_plot in range(0,3):\n",
    "        fig.add_trace(go.Choropleth(geojson = eval(geo_map['geometry'].to_json()),  locations = geo_map.index, z = geo_map['iso_num'], \n",
    "                                    colorscale = [\"#EAEAF2\", \"#EAEAF2\"],  showscale= False, marker_line_color ='white', marker_line_width=0.1), \n",
    "                                    row=1, col=x_plot+1)\n",
    "    \n",
    "        fig.add_trace(go.Scattergeo(lon = [lon + 0.25 for lon in x[1:-1]] + [xpos + 0.25] * (len(y) - 2),\n",
    "                                lat = [ypos + 0.1] * (len(x) - 2) + [lat + 0.1 for lat in y[1:-1]],\n",
    "                                showlegend = False,\n",
    "                                text = x[1:-1] + y[1:-1], textfont=dict(size=10, color = \"rgba(0,0,0,0.25)\"),\n",
    "                                mode = \"text\"), row=1, col=x_plot+1)\n",
    "\n",
    "fig.add_scattergeo(geojson = eval(pmet_shape_main['geometry'].to_json()), locations = pmet_shape_main.index, text = pmet_shape_main['basin_name'], mode = 'text', \n",
    "                           showlegend = False, textfont=dict(size=11, color = \"rgba(0,0,0,0.3)\"),row=1, col=1)\n",
    "\n",
    "# Plot\n",
    "fig.add_trace(go.Choropleth(geojson = eval(pmet_shape['geometry'].to_json()),  locations = pmet_shape.index, z = (1-(pmet_shape['LSTM_OGGM_off']/pmet_shape['LSTM_OGGM_on']))*100, \n",
    "                            colorscale = colorsc, marker_line_color ='white', marker_line_width=0.2, \n",
    "                            zmin = -80, zmax = 80, colorbar=dict(len=0.97, x = 1.01, title='Relative<br>difference<br>(%)', thickness=20, tickwidth=1)), row=1, col=1)\n",
    "\n",
    "fig.add_trace(go.Choropleth(geojson = eval(pmet_shape['geometry'].to_json()),  locations = pmet_shape.index, z = (1-(pmet_shape['TUWmodel']/pmet_shape['LSTM_OGGM_on']))*100, \n",
    "                            colorscale = colorsc, marker_line_color ='white', marker_line_width=0.2, showscale=False,\n",
    "                            zmin = -80, zmax = 80), row=1, col=2)\n",
    "\n",
    "fig.add_trace(go.Choropleth(geojson = eval(pmet_shape['geometry'].to_json()),  locations = pmet_shape.index, z = (1-(pmet_shape['GR4J']/pmet_shape['LSTM_OGGM_on']))*100, \n",
    "                            colorscale = colorsc, marker_line_color ='white', marker_line_width=0.2, showscale=False,\n",
    "                            zmin = -80, zmax = 80), row=1, col=3)\n",
    "\n",
    "## Annotations -----------------------------------------------------------------------------------------------\n",
    "fig.add_annotation(text=\"a) Only LSTM\",  x=0.005, y=0.02,  xref = \"paper\", yref = \"paper\", showarrow=False)\n",
    "fig.add_annotation(text=\"b) TUWmodel + OGGM\", x=0.42, y=0.02,  xref = \"paper\", yref = \"paper\", showarrow=False)\n",
    "fig.add_annotation(text=\"c) GR4J + OGGM\", x=0.80, y=0.02,  xref = \"paper\", yref = \"paper\", showarrow=False)\n",
    "\n",
    "## Layout -------------------------------------------------------------------------------------------------------------------\n",
    "fig.update_xaxes(showline = True, linecolor = 'rgba(0,0,0,0.5)', linewidth = 1, ticks=\"outside\", griddash = \"dot\", mirror=True)\n",
    "fig.update_yaxes(showline = True, linecolor = 'rgba(0,0,0,0.5)', linewidth = 1, ticks=\"outside\", griddash = \"dot\", mirror=True)\n",
    "\n",
    "fig.update_geos(showframe = True, framewidth = 1, framecolor = \"rgba(0,0,0,0.5)\", \n",
    "                lonaxis_range=[-76, -68], lataxis_range=[-56, -40.5], \n",
    "                bgcolor = \"rgb(255,255,255)\", \n",
    "                showland = False, showcoastlines = False, showlakes = False, \n",
    "                lataxis_showgrid=True, lonaxis_showgrid=True, \n",
    "                lonaxis_dtick = dtick, lataxis_dtick = dtick, \n",
    "                lonaxis_gridcolor = \"rgba(0,0,0,0.1)\", lataxis_gridcolor = \"rgba(0,0,0,0.1)\", \n",
    "                lonaxis_griddash = \"dot\", lataxis_griddash = \"dot\")\n",
    "\n",
    "fig.update_layout(autosize = False, width = 950, height = 570, template = \"seaborn\", margin = dict(l=5, r=5, b=5, t=5))\n",
    "fig.write_image(\"reports/figures/FigureS4_Regionalization_diff_map.png\", scale = 4)\n",
    "#fig.show()"
   ]
  },
  {
   "cell_type": "markdown",
   "id": "934e6401-808c-4aed-bbc0-cdf776ca424a",
   "metadata": {},
   "source": [
    "## Text"
   ]
  },
  {
   "cell_type": "code",
   "execution_count": null,
   "id": "781c4bf9-f67b-4e15-9878-da9e14a016a9",
   "metadata": {},
   "outputs": [],
   "source": [
    "# comparison (LSTM OGGM on too low)\n",
    "pmet_shape[[\"LSTM_OGGM_on\", \"LSTM_OGGM_off\", \"TUWmodel\", \"GR4J\"]].mean() / pmet_shape[\"LSTM_OGGM_on\"].mean()"
   ]
  },
  {
   "cell_type": "code",
   "execution_count": null,
   "id": "52ea429e-de68-40f8-9dbc-151eb6ddd5cf",
   "metadata": {},
   "outputs": [],
   "source": [
    "# comparison TODOOOOOOOOOOOOO\n",
    "data = (1-(pmet_shape[[\"LSTM_OGGM_on\", \"LSTM_OGGM_off\", \"TUWmodel\", \"GR4J\"]] / pmet_shape[\"LSTM_OGGM_on\"].mean()))\n",
    "\"relative differences of {}\".format((data.LSTM_OGGM_off * pmet_shape.total_area).sum()/pmet_shape.total_area.sum())"
   ]
  },
  {
   "cell_type": "code",
   "execution_count": null,
   "id": "081b00a4-cc7e-4bc5-9b28-111fb7d969dd",
   "metadata": {},
   "outputs": [],
   "source": []
  }
 ],
 "metadata": {
  "kernelspec": {
   "display_name": "climate",
   "language": "python",
   "name": "python3"
  },
  "language_info": {
   "codemirror_mode": {
    "name": "ipython",
    "version": 3
   },
   "file_extension": ".py",
   "mimetype": "text/x-python",
   "name": "python",
   "nbconvert_exporter": "python",
   "pygments_lexer": "ipython3",
   "version": "3.11.9"
  }
 },
 "nbformat": 4,
 "nbformat_minor": 5
}
