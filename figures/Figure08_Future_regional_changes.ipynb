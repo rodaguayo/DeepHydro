{
 "cells": [
  {
   "cell_type": "markdown",
   "id": "7cc7f897-0ede-4c65-89ef-2c358545e970",
   "metadata": {},
   "source": [
    "# Figure 8: Future regional differences"
   ]
  },
  {
   "cell_type": "code",
   "execution_count": null,
   "id": "29ea2f27-c2e5-4515-8fb4-7b6e5554709f",
   "metadata": {
    "tags": []
   },
   "outputs": [],
   "source": [
    "import os \n",
    "import numpy as np\n",
    "import pandas as pd\n",
    "import geopandas as gpd\n",
    "import xarray as xr\n",
    "\n",
    "import plotly.graph_objects as go\n",
    "from plotly.subplots import make_subplots\n",
    "import shapely.geometry\n",
    "\n",
    "os.chdir('/home/rooda/OneDrive/Projects/DeepHydro/')\n",
    "path_geo = \"/home/rooda/Datasets/GIS/\""
   ]
  },
  {
   "cell_type": "markdown",
   "id": "c0f7623b-b05b-44bb-8bb7-21dde3085292",
   "metadata": {},
   "source": [
    "## Data"
   ]
  },
  {
   "cell_type": "code",
   "execution_count": null,
   "id": "1fc3aed2-1427-47ca-9fc5-ff0c8cc93045",
   "metadata": {
    "tags": []
   },
   "outputs": [],
   "source": [
    "q_historical = xr.open_mfdataset(\"results/zenodo/Q_historical.nc\")\n",
    "q_historical = q_historical.resample(date = \"YS\").sum().mean(dim = \"date\")"
   ]
  },
  {
   "cell_type": "code",
   "execution_count": null,
   "id": "47b27aa8-a0c3-4ef4-8948-f7a8e69e6b78",
   "metadata": {
    "tags": []
   },
   "outputs": [],
   "source": [
    "q_future = xr.open_mfdataset(\"results/zenodo/Q_future.nc\").sel(date = slice(\"2070-01-01\", \"2099-12-31\"))\n",
    "q_future = q_future.resample(date = \"YS\").sum().mean(dim = \"date\")\n",
    "q_future = (q_future / q_historical) - 1\n",
    "q_future = q_future.load()"
   ]
  },
  {
   "cell_type": "code",
   "execution_count": null,
   "id": "796779fc-68ab-4488-b181-48d5cf573cb7",
   "metadata": {},
   "outputs": [],
   "source": [
    "# relative change for ssp126 and ssp585\n",
    "q_future_lstm_oggm_mean = q_future.sel(model = \"LSTM_OGGM_on\").mean(dim = \"gcm\")\n",
    "q_future_lstm_oggm_mean = q_future_lstm_oggm_mean.to_dataframe().reset_index()\n",
    "q_future_lstm_oggm_mean = q_future_lstm_oggm_mean.pivot(index=\"basin_id\", columns=\"ssp\", values=\"Q\")\n",
    "\n",
    "q_future_lstm_oggm_sd = q_future.sel(model = \"LSTM_OGGM_on\").std(dim = \"gcm\")\n",
    "q_future_lstm_oggm_sd = q_future_lstm_oggm_sd.to_dataframe().reset_index()\n",
    "q_future_lstm_oggm_sd = q_future_lstm_oggm_sd.pivot(index=\"basin_id\", columns=\"ssp\", values=\"Q\")\n",
    "q_future_lstm_oggm_sd = q_future_lstm_oggm_sd.rename(columns = {\"ssp126\": \"ssp126_sd\", \"ssp585\": \"ssp585_sd\"})"
   ]
  },
  {
   "cell_type": "code",
   "execution_count": null,
   "id": "81214452-9789-43bb-9860-ad0773dcaf95",
   "metadata": {},
   "outputs": [],
   "source": [
    "pmet_shape = gpd.read_file(\"data/GIS/Basins_Patagonia_all_data.gpkg\") # Problem in Puelo \n",
    "pmet_shape = pmet_shape.set_index(\"gauge_id\")\n",
    "pmet_shape[\"total_area\"] = pmet_shape.total_area*1e6 # in m2 \n",
    "pmet_shape   = pd.concat([pmet_shape, q_future_lstm_oggm_mean, q_future_lstm_oggm_sd], axis = 1)"
   ]
  },
  {
   "cell_type": "code",
   "execution_count": null,
   "id": "6b04f3cc-ad7b-4849-84a7-eda963ea5af5",
   "metadata": {},
   "outputs": [],
   "source": [
    "# agreement all models on signal of change\n",
    "q_future_agreement = q_future.mean(dim = \"gcm\")\n",
    "q_future_agreement = q_future_agreement.where(q_future_agreement <= 0, -1).where(q_future_agreement> 0, 1)\n",
    "q_future_agreement = q_future_agreement.sum(dim = \"model\")\n",
    "q_future_agreement = q_future_agreement.to_dataframe().reset_index()\n",
    "q_future_agreement = q_future_agreement.pivot(index=\"basin_id\", columns=\"ssp\", values=\"Q\")\n",
    "\n",
    "pmet_shape_subset126 = pmet_shape[(q_future_agreement.ssp126 == 4) | (q_future_agreement.ssp126 == -4)]\n",
    "pmet_shape_subset585 = pmet_shape[(q_future_agreement.ssp585 == 4) | (q_future_agreement.ssp585 == -4)]"
   ]
  },
  {
   "cell_type": "markdown",
   "id": "27355329-4cf0-4731-ab6b-4df05e14510a",
   "metadata": {},
   "source": [
    "## Plot elements"
   ]
  },
  {
   "cell_type": "code",
   "execution_count": null,
   "id": "8bcd2878-a189-4ba0-a483-c68bb3c16655",
   "metadata": {
    "tags": []
   },
   "outputs": [],
   "source": [
    "# basemap for background\n",
    "geo_map = gpd.read_file(path_geo + \"south_america.shp\")\n",
    "geo_map = geo_map[(geo_map.CC == \"CI\") | (geo_map.CC == \"AR\")]\n",
    "geo_map = geo_map.dissolve(by='REGION')\n",
    "geo_map[\"geometry\"] = geo_map.simplify(0.01)\n",
    "\n",
    "poly_gdf = shapely.geometry.Polygon([(-76, -54.99), (-76, -40.51), (-68.01, -40.51), (-68.01, -54.99), (-76, -54.99)])\n",
    "poly_gdf = gpd.GeoDataFrame([1], geometry=[poly_gdf], crs=geo_map.crs)\n",
    "\n",
    "geo_map = geo_map.clip(poly_gdf)"
   ]
  },
  {
   "cell_type": "code",
   "execution_count": null,
   "id": "5479b3c4-2fb7-451a-b8c8-c01c1ca016d5",
   "metadata": {},
   "outputs": [],
   "source": [
    "pmet_shape_main = pmet_shape[pmet_shape[\"total_area\"] > 5000*1e6].copy()\n",
    "pmet_shape_main[\"basin_name\"] = [\"Santa Cruz                          \", \"Puelo\", \"Yelcho\", \"Grey\",\"Palena\", \"Pascua\", \"Aysen\", \"Baker\", \"Cisnes\"]"
   ]
  },
  {
   "cell_type": "code",
   "execution_count": null,
   "id": "62aa5474-28da-4383-b095-6c01984ec83c",
   "metadata": {},
   "outputs": [],
   "source": [
    "from  plotly.colors import unlabel_rgb, hex_to_rgb\n",
    "def binned_colorscale(seq, nr_swatches=5):\n",
    "    \n",
    "    if seq[0][0] == '#':\n",
    "        arr_colors=np.array([hex_to_rgb(s) for s in seq])/255\n",
    "    elif seq[0][0:3] == 'rgb':\n",
    "        arr_colors = np.array([unlabel_rgb(s) for s in seq])/255 \n",
    "    else:\n",
    "        raise ValueError(\"a plotly colorscale is given either with hex colors or as rgb colors\")\n",
    "    n = len(seq)\n",
    "    svals = [k/(n-1) for k in range(n)] #the scale values corresponding to the colors in seq\n",
    "    grid = [k/(nr_swatches-1) for k in range(nr_swatches)]# define the scale values corresponding nr_swatches\n",
    "    r, g, b = [np.interp(grid, svals, arr_colors[:, k]) for k in range(3)]  #np.interp interpolates linearly\n",
    "    cmap_arr = np.clip(np.vstack((r, g, b)).T, 0, 1)\n",
    "    new_colors = np.array(cmap_arr*255, dtype=int)\n",
    "    discrete_colorscale = []\n",
    "    N = len(new_colors+1)\n",
    "    for k in range(N):\n",
    "        discrete_colorscale.extend([[k/N, f'rgb{tuple(new_colors[k])}'], \n",
    "                                    [(k+1)/N,  f'rgb{tuple(new_colors[k])}']]) \n",
    "    return discrete_colorscale "
   ]
  },
  {
   "cell_type": "markdown",
   "id": "7c4dc0a1-3892-4078-942c-1394fff2d118",
   "metadata": {},
   "source": [
    "## Plot"
   ]
  },
  {
   "cell_type": "code",
   "execution_count": null,
   "id": "be1a2038-402e-440b-a471-a618878af808",
   "metadata": {
    "tags": []
   },
   "outputs": [],
   "source": [
    "fig = make_subplots(rows=1, cols=2, vertical_spacing = 0.01, horizontal_spacing = 0.01,\n",
    "                    specs=[[{\"type\": \"scattergeo\"}, {\"type\": \"scattergeo\"}]])\n",
    "\n",
    "# colors\n",
    "colorsc = binned_colorscale([\"#fe7e0d\", \"#ffe9ba\", \"#1d78b4\"], nr_swatches=15) \n",
    "\n",
    "dtick = 2\n",
    "x = list(range(-74, 0 + dtick, dtick))\n",
    "y = list(range(-56, 0 + dtick, dtick))\n",
    "xpos = -75.9\n",
    "ypos = -55.9\n",
    "\n",
    "## Basemap -----------------------------------------------------------------------------------------------\n",
    "for x_plot in range(0,2):\n",
    "    fig.add_trace(go.Choropleth(geojson = eval(geo_map['geometry'].to_json()),  locations = geo_map.index, z = geo_map['iso_num'], \n",
    "                                colorscale = [\"#EAEAF2\", \"#EAEAF2\"],  showscale= False, marker_line_color ='white', marker_line_width=0.1), row=1, col=x_plot+1)\n",
    "\n",
    "    fig.add_trace(go.Scattergeo(lon = [lon + 0.25 for lon in x[1:-1]] + [xpos + 0.25] * (len(y) - 2),\n",
    "                                lat = [ypos + 0.1] * (len(x) - 2) + [lat + 0.1 for lat in y[1:-1]],\n",
    "                                showlegend = False,\n",
    "                                text = x[1:-1] + y[1:-1], textfont=dict(size=10, color = \"rgba(0,0,0,0.25)\"),\n",
    "                                mode = \"text\"), row=1, col=x_plot+1)\n",
    "\n",
    "\n",
    "fig.add_scattergeo(geojson = eval(pmet_shape_main['geometry'].to_json()), locations = pmet_shape_main.index, text = pmet_shape_main['basin_name'], mode = 'text', \n",
    "                       showlegend = False, textfont=dict(size=9, color = \"rgba(0,0,0,0.25)\"),row=1, col=1)\n",
    "\n",
    "\n",
    "# relative differences\n",
    "fig.add_trace(go.Choropleth(geojson = eval(pmet_shape['geometry'].to_json()),  locations = pmet_shape.index, z = pmet_shape['ssp126']*100, \n",
    "                            colorscale = colorsc, marker_line_color ='white', marker_line_width=0.2, \n",
    "                            zmin = -30, zmax = 30, colorbar=dict(len=0.95, x = 1.01, title='Projected<br>runoff<br>change<br>(%)', thickness=15, tickwidth=1)), row=1, col=1)\n",
    "\n",
    "fig.add_trace(go.Choropleth(geojson = eval(pmet_shape['geometry'].to_json()),  locations = pmet_shape.index, z = pmet_shape['ssp585']*100, \n",
    "                            colorscale = colorsc, marker_line_color ='white', marker_line_width=0.2, \n",
    "                            zmin = -30, zmax = 30, showscale=False), row=1, col=2)\n",
    "\n",
    "# agreement on the signal\n",
    "fig.add_trace(go.Choropleth(geojson = eval(pmet_shape_subset126['geometry'].to_json()), locations = pmet_shape_subset126.index,  z = pmet_shape_subset126.ssp126, \n",
    "                            colorscale = [\"rgba(0,0,0,0)\", \"rgba(0,0,0,0)\"], marker_line_color ='black', marker_opacity = 0.8,\n",
    "                            showscale= False, marker_line_width=0.2), row=1, col=1)\n",
    "\n",
    "fig.add_trace(go.Choropleth(geojson = eval(pmet_shape_subset585['geometry'].to_json()), locations = pmet_shape_subset585.index,  z = pmet_shape_subset585.ssp585, \n",
    "                            colorscale = [\"rgba(0,0,0,0)\", \"rgba(0,0,0,0)\"], marker_line_color ='black', marker_opacity = 0.8,\n",
    "                            showscale= False, marker_line_width=0.2), row=1, col=2)\n",
    "\n",
    "## Annotations -----------------------------------------------------------------------------------------------\n",
    "fig.add_annotation(text=\"a) SSP 1-2.6\", x=0.01, y=0.01,  xref = \"paper\", yref = \"paper\", showarrow=False)\n",
    "fig.add_annotation(text=\"b) SSP 5-8.5\", x=0.58, y=0.01,  xref = \"paper\", yref = \"paper\", showarrow=False)\n",
    "\n",
    "## Layout -------------------------------------------------------------------------------------------------------------------\n",
    "fig.update_xaxes(showline = True, linecolor = 'rgba(0,0,0,0.5)', linewidth = 1, ticks=\"outside\", griddash = \"dot\", mirror=True)\n",
    "fig.update_yaxes(showline = True, linecolor = 'rgba(0,0,0,0.5)', linewidth = 1, ticks=\"outside\", griddash = \"dot\", mirror=True)\n",
    "\n",
    "fig.update_geos(showframe = True, framewidth = 1, framecolor = \"rgba(0,0,0,0.5)\", \n",
    "                lonaxis_range=[-76, -68], lataxis_range=[-56, -40.5], \n",
    "                bgcolor = \"rgb(255,255,255)\", \n",
    "                showland = False, showcoastlines = False, showlakes = False, \n",
    "                lataxis_showgrid=True, lonaxis_showgrid=True, \n",
    "                lonaxis_dtick = dtick, lataxis_dtick = dtick, \n",
    "                lonaxis_gridcolor = \"rgba(0,0,0,0.1)\", lataxis_gridcolor = \"rgba(0,0,0,0.1)\", \n",
    "                lonaxis_griddash = \"dot\", lataxis_griddash = \"dot\")\n",
    "\n",
    "fig.update_layout(autosize = False, width = 700, height = 600, template = \"seaborn\", margin = dict(l=5, r=5, b=5, t=5))\n",
    "fig.write_image(\"reports/figures/Figure8_regional_changes.png\", scale = 4)\n",
    "#fig.show()"
   ]
  },
  {
   "cell_type": "markdown",
   "id": "934e6401-808c-4aed-bbc0-cdf776ca424a",
   "metadata": {},
   "source": [
    "## Text"
   ]
  },
  {
   "cell_type": "code",
   "execution_count": null,
   "id": "2b85b5bb-8f4e-4134-80b6-42ec7cd0512f",
   "metadata": {},
   "outputs": [],
   "source": [
    "q_historical = q_historical.sel(model = \"LSTM_OGGM_on\").Q*pmet_shape.total_area/(365*1e3*86400)\n",
    "pmet_shape[\"q_historical_flux\"] = q_historical.rename(\"Q_historical\").to_series()"
   ]
  },
  {
   "cell_type": "code",
   "execution_count": null,
   "id": "df8c57dd-3651-4a77-a6f2-9bb1e95d17a2",
   "metadata": {},
   "outputs": [],
   "source": [
    "\"minor relative changes in discharge ranging from {:.1f} ± {:.1f}% under SSP1-2.6 to {:.1f}% ± {:.1f}% under SSP5-8.5\".format(\n",
    "    (pmet_shape.q_historical_flux * (pmet_shape.ssp126)).sum()*100 / pmet_shape.q_historical_flux.sum(),\n",
    "    (pmet_shape.q_historical_flux * (pmet_shape.ssp126_sd)).sum()*100 / pmet_shape.q_historical_flux.sum(),\n",
    "    (pmet_shape.q_historical_flux * (pmet_shape.ssp585)).sum()*100 / pmet_shape.q_historical_flux.sum(),\n",
    "    (pmet_shape.q_historical_flux * (pmet_shape.ssp585_sd)).sum()*100 / pmet_shape.q_historical_flux.sum())"
   ]
  },
  {
   "cell_type": "code",
   "execution_count": null,
   "id": "81faf5d4-cc9a-4d0d-bbda-09641fa95a1f",
   "metadata": {},
   "outputs": [],
   "source": [
    "\"SSP5-8.5: northern {:.1f} ± {:.1f}% central {:.1f}% ± {:.1f}% and southern {:.1f}% ± {:.1f}%\".format(\n",
    "    (pmet_shape.q_historical_flux * (pmet_shape.ssp585))[pmet_shape.lat > -46].sum()*100 / pmet_shape.q_historical_flux[pmet_shape.lat > -46].sum(),\n",
    "    (pmet_shape.q_historical_flux * (pmet_shape.ssp585_sd))[pmet_shape.lat > -46].sum()*100 / pmet_shape.q_historical_flux[pmet_shape.lat > -46].sum(),\n",
    "    (pmet_shape.q_historical_flux * (pmet_shape.ssp585))[(pmet_shape.lat < -46) & (pmet_shape.lat > -51)].sum()*100 / pmet_shape.q_historical_flux[(pmet_shape.lat < -46) & (pmet_shape.lat > -51)].sum(),\n",
    "    (pmet_shape.q_historical_flux * (pmet_shape.ssp585_sd))[(pmet_shape.lat < -46) & (pmet_shape.lat > -51)].sum()*100 / pmet_shape.q_historical_flux[(pmet_shape.lat < -46) & (pmet_shape.lat > -51)].sum(),\n",
    "    (pmet_shape.q_historical_flux * (pmet_shape.ssp585))[pmet_shape.lat < -51].sum()*100 / pmet_shape.q_historical_flux[pmet_shape.lat < -51].sum(),\n",
    "    (pmet_shape.q_historical_flux * (pmet_shape.ssp585_sd))[pmet_shape.lat < -51].sum()*100 / pmet_shape.q_historical_flux[pmet_shape.lat < -51].sum())"
   ]
  },
  {
   "cell_type": "code",
   "execution_count": null,
   "id": "4ba933ee-b8ad-45b5-889f-885e13663905",
   "metadata": {},
   "outputs": [],
   "source": [
    "# Agreement\n",
    "\"Agreement between 4 model on the direction of change under SSP126 and SSP585 are {:.1f}% and {:.1f}%\".format(\n",
    "    pmet_shape_subset126.total_area.sum()*100/pmet_shape.total_area.sum(),\n",
    "    pmet_shape_subset585.total_area.sum()*100/pmet_shape.total_area.sum())"
   ]
  },
  {
   "cell_type": "code",
   "execution_count": null,
   "id": "d4d079a8-0a50-4067-9337-667521ac4884",
   "metadata": {},
   "outputs": [],
   "source": []
  }
 ],
 "metadata": {
  "kernelspec": {
   "display_name": "neural",
   "language": "python",
   "name": "python3"
  },
  "language_info": {
   "codemirror_mode": {
    "name": "ipython",
    "version": 3
   },
   "file_extension": ".py",
   "mimetype": "text/x-python",
   "name": "python",
   "nbconvert_exporter": "python",
   "pygments_lexer": "ipython3",
   "version": "3.10.13"
  }
 },
 "nbformat": 4,
 "nbformat_minor": 5
}
