{
 "cells": [
  {
   "cell_type": "markdown",
   "id": "5d0b9751-c0ac-43b3-9e7b-5e1a297c7ed5",
   "metadata": {},
   "source": [
    "# Figure S2: Seasonal performance in selected basin with glaciers"
   ]
  },
  {
   "cell_type": "code",
   "execution_count": null,
   "id": "3e9ef5f0-99c1-4e92-bc1c-1b49fcccdf9b",
   "metadata": {
    "tags": []
   },
   "outputs": [],
   "source": [
    "import os \n",
    "import numpy as np\n",
    "import pandas as pd\n",
    "import geopandas as gpd\n",
    "\n",
    "import plotly.express as px\n",
    "import plotly.graph_objects as go\n",
    "from plotly.subplots import make_subplots\n",
    "\n",
    "os.chdir('/home/rooda/OneDrive/Projects/DeepHydro/')\n",
    "path_pmet = \"/home/rooda/OneDrive/Projects/PatagoniaMet/\""
   ]
  },
  {
   "cell_type": "markdown",
   "id": "61c90470-72cb-4687-862e-1cf2c5f504db",
   "metadata": {},
   "source": [
    "## Data"
   ]
  },
  {
   "cell_type": "code",
   "execution_count": null,
   "id": "4e1efea8-4ae7-4209-a525-06ced8a087d3",
   "metadata": {
    "tags": []
   },
   "outputs": [],
   "source": [
    "# pmet-obs\n",
    "selection = gpd.read_file(\"data/GIS/Basins_PMETobs_points_subset.gpkg\").set_index(\"gauge_id\")\n",
    "pmet_metadata = pd.read_csv(path_pmet + \"data/Zenodo/v11/Q_PMETobs_v11_metadata.csv\", index_col = 0)\n",
    "pmet_metadata = pmet_metadata.loc[selection.index]\n",
    "\n",
    "pmet_data = pd.read_csv(path_pmet + \"data/Zenodo/v11/Q_PMETobs_1950_2020_v11d.csv\")\n",
    "pmet_data[\"Date\"] = pd.to_datetime(pmet_data[\"Date\"])\n",
    "pmet_data = pmet_data.set_index(\"Date\")\n",
    "pmet_data = pmet_data['2000-01-01' :'2019-12-31']\n",
    "pmet_data = pmet_data[selection.index]\n",
    "pmet_data = (pmet_data*1000*86400) / (pmet_metadata.total_area*1e6)"
   ]
  },
  {
   "cell_type": "code",
   "execution_count": null,
   "id": "ba2418c3-f625-4765-a19a-bbccc08c5cd3",
   "metadata": {
    "tags": []
   },
   "outputs": [],
   "source": [
    "# experiment\n",
    "exp = \"PUB\"\n",
    "\n",
    "# time series\n",
    "ts_lstm_oggm_on  = pd.read_csv(\"results/runoff/total_runoff_historical_CV_{}_LSTM_OGGM_on.csv\".format(exp), parse_dates= [\"date\"], index_col = 0)\n",
    "ts_lstm_oggm_on = ts_lstm_oggm_on.where(~pmet_data.isna())\n",
    "\n",
    "ts_lstm_oggm_off = pd.read_csv(\"results/runoff/total_runoff_historical_CV_{}_LSTM_OGGM_off.csv\".format(exp), parse_dates= [\"date\"], index_col = 0)\n",
    "ts_lstm_oggm_off = ts_lstm_oggm_off.where(~pmet_data.isna())\n",
    "\n",
    "ts_gr4j = pd.read_csv(\"results/runoff/total_runoff_historical_GR4J_pmet_CV_{}.csv\".format(exp), index_col = 0)\n",
    "ts_gr4j.index = pd.to_datetime(ts_gr4j.index)\n",
    "ts_gr4j = ts_gr4j.where(~pmet_data.isna())\n",
    "\n",
    "ts_tuwmodel = pd.read_csv(\"results/runoff/total_runoff_historical_TUWmodel_pmet_CV_{}.csv\".format(exp), index_col = 0)\n",
    "ts_tuwmodel.index = pd.to_datetime(ts_tuwmodel.index)\n",
    "ts_tuwmodel = ts_tuwmodel.where(~pmet_data.isna())\n",
    "\n",
    "# aggregate\n",
    "pmet_data_mean  = pmet_data.groupby(pmet_data.index.dayofyear).median().rolling(7).mean()\n",
    "pmet_data_q25   = pmet_data.groupby(pmet_data.index.dayofyear).quantile(0.25)\n",
    "pmet_data_q75   = pmet_data.groupby(pmet_data.index.dayofyear).quantile(0.75)\n",
    "\n",
    "ts_lstm_oggm_on  = ts_lstm_oggm_on.groupby(ts_lstm_oggm_on.index.dayofyear).median().rolling(7).mean()\n",
    "ts_lstm_oggm_off = ts_lstm_oggm_off.groupby(ts_lstm_oggm_off.index.dayofyear).median().rolling(7).mean()\n",
    "ts_gr4j          = ts_gr4j.groupby(ts_gr4j.index.dayofyear).median().rolling(7).mean()\n",
    "ts_tuwmodel      = ts_tuwmodel.groupby(ts_tuwmodel.index.dayofyear).median().rolling(7).mean()"
   ]
  },
  {
   "cell_type": "markdown",
   "id": "6f4c23cd-3a79-4a13-a8c0-faa372b39232",
   "metadata": {},
   "source": [
    "## Plot"
   ]
  },
  {
   "cell_type": "code",
   "execution_count": null,
   "id": "0fb4eaae-2936-42d3-a9fa-f7e81e1efb15",
   "metadata": {},
   "outputs": [],
   "source": [
    "basins_xy  = ['X10514001', # Puelo\n",
    "              'X11545000', # Baker Bajo Ñadis\n",
    "              'X11711000', # Pascua\n",
    "              'X00002802', # Santa_Cruz_Charles_Fuhr\n",
    "              'X12287001', # Grey\n",
    "              'X12289001'] # Serrano\n",
    "\n",
    "basins_xy  = np.reshape(basins_xy, (2, 3))\n",
    "cl = px.colors.qualitative.D3\n",
    "\n",
    "fig = make_subplots(rows=2, cols=3, horizontal_spacing = 0.04, vertical_spacing= 0.06, shared_xaxes= True)\n",
    "\n",
    "for x in range(0,2): \n",
    "    for y in range(0,3): \n",
    "        \n",
    "        fig.add_trace(go.Scatter(x=pmet_data_q25.index, y=pmet_data_q25[basins_xy[x,y]], mode='lines',\n",
    "                                        line=dict(width=0), fillcolor= \"rgba(0, 0, 0, 0.1)\",  showlegend=False), row=x+1, col=y+1)\n",
    "        fig.add_trace(go.Scatter(x=pmet_data_q75.index, y=pmet_data_q75[basins_xy[x,y]], mode='lines',\n",
    "                                       line=dict(width=0), fillcolor=\"rgba(0, 0, 0, 0.1)\", fill='tonexty', showlegend=False), row=x+1, col=y+1)\n",
    "\n",
    "        fig.add_trace(go.Scatter(x= ts_gr4j.index, y= ts_gr4j[basins_xy[x,y]], mode='lines', name=\"GR4J + OGGM\", marker_color= cl[1], \n",
    "                                 line=dict(width = 1.2, dash = \"dot\"), showlegend = False, opacity = 0.8), row = x+1, col = y+1)\n",
    "\n",
    "        fig.add_trace(go.Scatter(x= ts_tuwmodel.index, y= ts_tuwmodel[basins_xy[x,y]], mode='lines', name=\"TUWmodel + OGGM\", marker_color= cl[4], \n",
    "                                 line=dict(width = 1.2, dash = \"dot\"), showlegend = False, opacity = 0.8), row = x+1, col = y+1)\n",
    "\n",
    "        fig.add_trace(go.Scatter(x= ts_lstm_oggm_off.index, y= ts_lstm_oggm_off[basins_xy[x,y]], mode='lines', name=\"Only LSTM\", marker_color= cl[2], \n",
    "                                 line=dict(width = 1.2, dash = \"dot\"), showlegend = False, opacity = 0.8), row = x+1, col = y+1)\n",
    "        \n",
    "        fig.add_trace(go.Scatter(x= ts_lstm_oggm_on.index,  y= ts_lstm_oggm_on[basins_xy[x,y]], mode='lines', name=\"LSTM + OGGM\", marker_color= cl[0], \n",
    "                                 line=dict(width = 1.5), showlegend = False, opacity = 0.8), row = x+1, col = y+1)\n",
    "        \n",
    "        fig.add_trace(go.Scatter(x= pmet_data_mean.index,   y= pmet_data_mean[basins_xy[x,y]], mode='lines', name=\"Observed\", marker_color= \"Black\", \n",
    "                                 line=dict(width = 1.5), opacity = 0.7, showlegend = False), row = x+1, col = y+1)\n",
    "\n",
    "# annotations (names + glacier cover + latitude)\n",
    "fig.add_annotation(text=\"a) Puelo ({:.1f}%; {:.1f}°S)\".format(pmet_metadata.glacier_cover.loc[\"X10514001\"], -pmet_metadata.gauge_lat.loc[\"X10514001\"]),      \n",
    "                   font=dict(size=16), xref = \"paper\", yref = \"paper\", x=0,  y=0.55, showarrow=False)\n",
    "\n",
    "fig.add_annotation(text=\"b) Baker ({:.1f}%; {:.1f}°S)\".format(pmet_metadata.glacier_cover.loc[\"X11545000\"], -pmet_metadata.gauge_lat.loc[\"X11545000\"]),      \n",
    "                   font=dict(size=16), xref = \"paper\", yref = \"paper\", x=0.44,  y=0.55, showarrow=False)\n",
    "\n",
    "fig.add_annotation(text=\"c) Pascua ({:.1f}%; {:.1f}°S)\".format(pmet_metadata.glacier_cover.loc[\"X11711000\"], -pmet_metadata.gauge_lat.loc[\"X11711000\"]),   \n",
    "                   font=dict(size=16), xref = \"paper\", yref = \"paper\", x=0.88,  y=0.55,  showarrow=False)\n",
    "\n",
    "fig.add_annotation(text=\"d) Santa Cruz ({:.1f}%; {:.1f}°S)\".format(pmet_metadata.glacier_cover.loc[\"X00002802\"], -pmet_metadata.gauge_lat.loc[\"X00002802\"]),     \n",
    "                   font=dict(size=16), xref = \"paper\", yref = \"paper\", x=0,  y=0, showarrow=False)\n",
    "\n",
    "fig.add_annotation(text=\"e) Grey ({:.1f}% ; {:.1f}°S)\".format(pmet_metadata.glacier_cover.loc[\"X12287001\"], -pmet_metadata.gauge_lat.loc[\"X12287001\"]),           \n",
    "                   font=dict(size=16), xref = \"paper\", yref = \"paper\", x=0.44,  y=0, showarrow=False)\n",
    "\n",
    "fig.add_annotation(text=\"f) Serrano ({:.1f}%; {:.1f}°S)\".format(pmet_metadata.glacier_cover.loc[\"X12289001\"], -pmet_metadata.gauge_lat.loc[\"X12289001\"]),        \n",
    "                   font=dict(size=16), xref = \"paper\", yref = \"paper\", x=0.88,  y=0, showarrow=False)\n",
    "\n",
    "# legends \n",
    "fig.add_trace(go.Scatter(x=[None], y=[None],  mode='lines', name= \"GR4J + OGGM\", line=dict(color= cl[1], width = 1.2, dash = \"dot\"), showlegend=True), row=1, col=1)\n",
    "fig.add_trace(go.Scatter(x=[None], y=[None],  mode='lines', name= \"TUWmodel + OGGM\", line=dict(color= cl[4], width = 1.2, dash = \"dot\"), showlegend=True), row=1, col=1)\n",
    "fig.add_trace(go.Scatter(x=[None], y=[None],  mode='lines', name= \"Only LSTM\", line=dict(color= cl[2], width = 1.2, dash = \"dot\"), showlegend=True), row=1, col=1)\n",
    "fig.add_trace(go.Scatter(x=[None], y=[None],  mode='lines', name= \"LSTM + OGGM\", line=dict(color= cl[0], width = 1.5), showlegend=True), row=1, col=1)\n",
    "fig.add_trace(go.Scatter(x=[None], y=[None],  mode='lines', name= \"Observed\", line=dict(color= \"black\", width = 1.5), showlegend=True), row=1, col=1)\n",
    "\n",
    "\n",
    "fig.update_yaxes(range = [0,14], row=1, col=1, title= \"Runoff (mm d<sup>-1</sup>)\",  tickfont = dict(size=14))\n",
    "fig.update_yaxes(range = [0,8],  row=2, col=1, title= \"Runoff (mm d<sup>-1</sup>)\",  tickfont = dict(size=14))\n",
    "fig.update_yaxes(range = [0,6],  row=1, col=2)\n",
    "fig.update_yaxes(range = [0,35],  row=2, col=2)\n",
    "fig.update_yaxes(range = [0,9], row=1, col=3)\n",
    "fig.update_yaxes(range = [0,12],  row=2, col=3)\n",
    "fig.update_yaxes(ticks=\"outside\", griddash = \"dot\")\n",
    "\n",
    "fig.update_xaxes(ticks=\"outside\", griddash = \"dot\", range = [0, 365],\n",
    "                     tickvals=[15,46,74,105,135,166,196,227,258,288,319,349], tickfont = dict(size=15),\n",
    "                     ticktext = [\"J\", \"F\", \"M\", \"A\", \"M\", \"J\", \"J\", \"A\", \"S\", \"O\", \"N\", \"D\"])\n",
    "\n",
    "fig.update_layout(autosize = False, width = 1100, height = 650, template = \"seaborn\", margin = dict(l=10, r=10, b=10, t=10))\n",
    "fig.update_layout(legend=dict(y=1.05, x = 0.36, orientation=\"h\", bgcolor = 'rgba(0,0,0,0.0)', font_size = 13))\n",
    "fig.update_annotations(font_size=15)\n",
    "\n",
    "fig.write_image(\"reports/figures/FigureS2_Seasonal_performance_{}.png\".format(exp), scale = 4)\n",
    "#fig.show()"
   ]
  },
  {
   "cell_type": "code",
   "execution_count": null,
   "id": "7deb8729-2d5b-4988-8cba-aacbf327b9d5",
   "metadata": {},
   "outputs": [],
   "source": []
  }
 ],
 "metadata": {
  "kernelspec": {
   "display_name": "climate",
   "language": "python",
   "name": "python3"
  },
  "language_info": {
   "codemirror_mode": {
    "name": "ipython",
    "version": 3
   },
   "file_extension": ".py",
   "mimetype": "text/x-python",
   "name": "python",
   "nbconvert_exporter": "python",
   "pygments_lexer": "ipython3",
   "version": "3.11.9"
  }
 },
 "nbformat": 4,
 "nbformat_minor": 5
}
