{
 "cells": [
  {
   "cell_type": "markdown",
   "id": "7cc7f897-0ede-4c65-89ef-2c358545e970",
   "metadata": {},
   "source": [
    "# Figure 6: Regionalization differences (map)"
   ]
  },
  {
   "cell_type": "code",
   "execution_count": null,
   "id": "29ea2f27-c2e5-4515-8fb4-7b6e5554709f",
   "metadata": {
    "tags": []
   },
   "outputs": [],
   "source": [
    "import os \n",
    "import numpy as np\n",
    "import pandas as pd\n",
    "import geopandas as gpd\n",
    "import xarray as xr\n",
    "\n",
    "import plotly.express as px\n",
    "import plotly.graph_objects as go\n",
    "from plotly.subplots import make_subplots\n",
    "import shapely.geometry\n",
    "\n",
    "os.chdir('/home/rooda/OneDrive/Projects/DeepHydro/')\n",
    "path_pmet = \"/home/rooda/OneDrive/PatagoniaMet/\"\n",
    "path_geo = \"/home/rooda/Datasets/GIS/\""
   ]
  },
  {
   "cell_type": "markdown",
   "id": "c0f7623b-b05b-44bb-8bb7-21dde3085292",
   "metadata": {},
   "source": [
    "## Data (historical)"
   ]
  },
  {
   "cell_type": "code",
   "execution_count": null,
   "id": "e85d4309-5737-4ffc-83e9-86faf58020b7",
   "metadata": {},
   "outputs": [],
   "source": [
    "q_data = xr.open_dataset(\"results/zenodo/Q_historical.nc\")\n",
    "q_data = q_data.resample(date = \"YS\").sum().mean(dim = \"date\")\n",
    "q_data = q_data.to_dataframe().reset_index()\n",
    "q_data = q_data.pivot(index=\"basin_id\", columns=\"model\", values=\"Q\")"
   ]
  },
  {
   "cell_type": "code",
   "execution_count": null,
   "id": "a9dd65b6-d2e2-4315-962a-13fabbf2bc80",
   "metadata": {},
   "outputs": [],
   "source": [
    "pmet_shape = gpd.read_file(\"data/GIS/Basins_Patagonia_all_data.gpkg\") # Problem in Puelo \n",
    "pmet_shape = pmet_shape.set_index(\"gauge_id\")\n",
    "pmet_shape[\"total_area\"] = pmet_shape.total_area*1e6 # in m2 \n",
    "pmet_shape   = pd.concat([pmet_shape, q_data], axis = 1)\n",
    "pmet_shape[\"Model_STD\"]   = pmet_shape[[\"LSTM_OGGM_on\", \"LSTM_OGGM_off\", \"TUWmodel\", \"GR4J\"]].std(axis = 1)\n",
    "pmet_shape[\"Model_MEAN\"]  = pmet_shape[[\"LSTM_OGGM_on\", \"LSTM_OGGM_off\", \"TUWmodel\", \"GR4J\"]].mean(axis = 1)\n",
    "\n",
    "pmet_shape_subset = pmet_shape[((pmet_shape.LSTM_OGGM_on-pmet_shape.Model_MEAN)/pmet_shape.Model_STD).abs() > 1]"
   ]
  },
  {
   "cell_type": "markdown",
   "id": "27355329-4cf0-4731-ab6b-4df05e14510a",
   "metadata": {},
   "source": [
    "## Plot elements"
   ]
  },
  {
   "cell_type": "code",
   "execution_count": null,
   "id": "8bcd2878-a189-4ba0-a483-c68bb3c16655",
   "metadata": {
    "tags": []
   },
   "outputs": [],
   "source": [
    "# basemap for background\n",
    "geo_map = gpd.read_file(path_geo + \"south_america.shp\")\n",
    "geo_map = geo_map[(geo_map.CC == \"CI\") | (geo_map.CC == \"AR\")]\n",
    "geo_map = geo_map.dissolve(by='REGION')\n",
    "geo_map[\"geometry\"] = geo_map.simplify(0.01)\n",
    "\n",
    "poly_gdf = shapely.geometry.Polygon([(-76, -54.99), (-76, -40.51), (-68.01, -40.51), (-68.01, -54.99), (-76, -54.99)])\n",
    "poly_gdf = gpd.GeoDataFrame([1], geometry=[poly_gdf], crs=geo_map.crs)\n",
    "\n",
    "geo_map = geo_map.clip(poly_gdf)"
   ]
  },
  {
   "cell_type": "code",
   "execution_count": null,
   "id": "5479b3c4-2fb7-451a-b8c8-c01c1ca016d5",
   "metadata": {},
   "outputs": [],
   "source": [
    "pmet_shape_main = pmet_shape[pmet_shape[\"total_area\"] > 5000*1e6]\n",
    "pmet_shape_main[\"basin_name\"] = [\"Santa Cruz                          \", \"Puelo\", \"Yelcho\", \"Grey\",\"Palena\", \"Pascua\", \"Aysen\", \"Baker\", \"Cisnes\"]"
   ]
  },
  {
   "cell_type": "markdown",
   "id": "7c4dc0a1-3892-4078-942c-1394fff2d118",
   "metadata": {},
   "source": [
    "## Plot"
   ]
  },
  {
   "cell_type": "code",
   "execution_count": null,
   "id": "be1a2038-402e-440b-a471-a618878af808",
   "metadata": {
    "tags": []
   },
   "outputs": [],
   "source": [
    "fig = make_subplots(rows=1, cols=2, vertical_spacing = 0.01, horizontal_spacing = 0.01,\n",
    "                    specs=[[{\"type\": \"scattergeo\"}, {\"type\": \"scattergeo\"}]])\n",
    "\n",
    "# colors\n",
    "cl = px.colors.qualitative.D3\n",
    "cs = px.colors.colorbrewer.GnBu\n",
    "colorsc_a = [cs[1], cs[4], cs[8]]\n",
    "colorsc_b = [(0,\"#fe7e0d\"),(0.5, \"rgba(255,233,186,0.7)\"),(1, \"#1d78b4\")]\n",
    "\n",
    "dtick = 2\n",
    "x = list(range(-74, 0 + dtick, dtick))\n",
    "y = list(range(-56, 0 + dtick, dtick))\n",
    "xpos = -75.9\n",
    "ypos = -56\n",
    "\n",
    "## Basemap -----------------------------------------------------------------------------------------------\n",
    "for x_plot in range(0,2):\n",
    "        fig.add_trace(go.Choropleth(geojson = eval(geo_map['geometry'].to_json()),  locations = geo_map.index, z = geo_map['iso_num'], \n",
    "                                    colorscale = [\"#EAEAF2\", \"#EAEAF2\"],  showscale= False, marker_line_color ='white', marker_line_width=0.1), row=1, col=x_plot+1)\n",
    "    \n",
    "        fig.add_trace(go.Scattergeo(lon = [lon + 0.25 for lon in x[1:-1]] + [xpos + 0.25] * (len(y) - 2),\n",
    "                                lat = [ypos + 0.1] * (len(x) - 2) + [lat + 0.1 for lat in y[1:-1]],\n",
    "                                showlegend = False,\n",
    "                                text = x[1:-1] + y[1:-1], textfont=dict(size=11, color = \"rgba(0,0,0,0.25)\"),\n",
    "                                mode = \"text\"), row=1, col=x_plot+1)\n",
    "\n",
    "fig.add_scattergeo(geojson = eval(pmet_shape_main['geometry'].to_json()), locations = pmet_shape_main.index, text = pmet_shape_main['basin_name'], mode = 'text', \n",
    "                           showlegend = False, textfont=dict(size=11, color = \"rgba(0,0,0,0.3)\"),row=1, col=1)\n",
    "\n",
    "fig.add_trace(go.Choropleth(geojson = eval(pmet_shape['geometry'].to_json()),  locations = pmet_shape.index, z = pmet_shape['LSTM_OGGM_on'], \n",
    "                            colorscale = colorsc_a, marker_line_color ='white', marker_line_width=0.2, \n",
    "                            zmin = 0, zmax = 7000, colorbar=dict(len=0.4, x=0.36, y= 0.80, title='Runoff <br>(mm yr<sup>-1</sup>)', thickness=15, tickwidth=1)), row=1, col=1)\n",
    "\n",
    "fig.add_trace(go.Choropleth(geojson = eval(pmet_shape['geometry'].to_json()),  locations = pmet_shape.index, z = pmet_shape.Model_STD/pmet_shape.Model_MEAN, \n",
    "                            colorscale = colorsc_a, marker_line_color ='white', marker_line_width=0.2, \n",
    "                            zmin = 0, zmax = 0.6, colorbar=dict(len=0.4, x=0.87, y= 0.80, title='CV (-)', thickness=15, tickwidth=1)), row=1, col=2)\n",
    "\n",
    "fig.add_trace(go.Choropleth(geojson = eval(pmet_shape['geometry'].to_json()), locations = pmet_shape_subset.index,  z = pmet_shape_subset.Model_STD, \n",
    "                            colorscale = [\"rgba(0,0,0,0)\", \"rgba(0,0,0,0)\"], marker_line_color ='black', marker_opacity = 0.5,\n",
    "                            showscale= False, marker_line_width=0.3), row=1, col=2)\n",
    "\n",
    "## Annotations -----------------------------------------------------------------------------------------------\n",
    "fig.add_annotation(text=\"a) Runoff (LSTM + OGGM)\",  x=0.01, y=0.001,  xref = \"paper\", yref = \"paper\", showarrow=False)\n",
    "fig.add_annotation(text=\"b) Multi-model variability\", x=0.62, y=0.0001,  xref = \"paper\", yref = \"paper\", showarrow=False)\n",
    "\n",
    "## Layout -------------------------------------------------------------------------------------------------------------------\n",
    "fig.update_xaxes(showline = True, linecolor = 'rgba(0,0,0,0.5)', linewidth = 1, ticks=\"outside\", griddash = \"dot\", mirror=True)\n",
    "fig.update_yaxes(showline = True, linecolor = 'rgba(0,0,0,0.5)', linewidth = 1, ticks=\"outside\", griddash = \"dot\", mirror=True)\n",
    "\n",
    "fig.update_geos(showframe = True, framewidth = 1, framecolor = \"rgba(0,0,0,0.5)\", \n",
    "                lonaxis_range=[-76, -68], lataxis_range=[-56, -40.5], \n",
    "                bgcolor = \"rgb(255,255,255)\", \n",
    "                showland = False, showcoastlines = False, showlakes = False, \n",
    "                lataxis_showgrid=True, lonaxis_showgrid=True, \n",
    "                lonaxis_dtick = dtick, lataxis_dtick = dtick, \n",
    "                lonaxis_gridcolor = \"rgba(0,0,0,0.1)\", lataxis_gridcolor = \"rgba(0,0,0,0.1)\", \n",
    "                lonaxis_griddash = \"dot\", lataxis_griddash = \"dot\")\n",
    "\n",
    "fig.update_layout(autosize = False, width = 650, height = 600, template = \"seaborn\", margin = dict(l=5, r=5, b=5, t=5))\n",
    "fig.write_image(\"reports/figures/Figure6_Regionalization_diff_map.png\", scale = 4)\n",
    "#fig.show()"
   ]
  },
  {
   "cell_type": "markdown",
   "id": "934e6401-808c-4aed-bbc0-cdf776ca424a",
   "metadata": {},
   "source": [
    "# Text"
   ]
  },
  {
   "cell_type": "code",
   "execution_count": null,
   "id": "282920de-7f9c-404e-a3f9-2d23ab59b131",
   "metadata": {},
   "outputs": [],
   "source": [
    "data_runoff = xr.open_dataset(\"results/runoff/total_runoff_historical_LSTM_OGGM_on_all.nc\").Q ## mm d-1\n",
    "data_runoff = data_runoff.resample(date = \"YS\").sum()\n",
    "data_runoff = data_runoff.to_pandas().transpose()\n",
    "data_runoff = data_runoff * pmet_shape.total_area/(365*1e3*86400)\n",
    "\"The total runoff flux for the study area is {:.0f} +- {:.0f} m3/s\".format(data_runoff.sum(axis = 1).mean(), data_runoff.sum(axis = 1).std())"
   ]
  },
  {
   "cell_type": "code",
   "execution_count": null,
   "id": "859320aa-bb25-48a4-a48e-679be970ee62",
   "metadata": {},
   "outputs": [],
   "source": [
    "data_glacier_runoff = pd.read_csv(\"results/runoff/glacier_runoff_historical_all.csv\", index_col = 0, parse_dates= [\"time\"])\n",
    "data_glacier_runoff = data_glacier_runoff[data_glacier_runoff.index.year >= 2000]\n",
    "data_glacier_runoff = data_glacier_runoff.resample(\"YS\").mean().sum(axis = 1)\n",
    "\n",
    "data_glacier_melt = pd.read_csv(\"results/runoff/glacier_melt_historical_all.csv\", index_col = 0, parse_dates= [\"time\"])\n",
    "data_glacier_melt = data_glacier_melt[data_glacier_melt.index.year >= 2000]\n",
    "data_glacier_melt = data_glacier_melt.resample(\"YS\").mean().sum(axis = 1)\n",
    "\n",
    "\"Glacier runoff and melt accounted for {:.0f} ± {:.0f}% and {:.0f}% ± {:.0f}% of this total\".format(data_glacier_runoff.mean()*100 / data_runoff.sum(axis = 1).mean(), \n",
    "                                                                                                    data_glacier_runoff.std()*100  / data_runoff.sum(axis = 1).std(),\n",
    "                                                                                                    data_glacier_melt.mean()*100   / data_runoff.sum(axis = 1).mean(),\n",
    "                                                                                                    data_glacier_melt.std()*100    / data_runoff.sum(axis = 1).std()  )"
   ]
  },
  {
   "cell_type": "code",
   "execution_count": null,
   "id": "52e1e347-95c1-4ca8-ab12-60e4cec8f04d",
   "metadata": {},
   "outputs": [],
   "source": [
    "\"When analysed by latitude, the northern, central, and southern zones contributed {:.0f}%, {:.0f}%, and {:.0f}% of the total discharge\".format(\n",
    "    data_runoff.mean()[pmet_shape.lat > -46].sum() * 100 / data_runoff.mean().sum(),\n",
    "    data_runoff.mean()[(pmet_shape.lat < -46) & (pmet_shape.lat > -51)].sum() * 100 / data_runoff.mean().sum(),\n",
    "    data_runoff.mean()[pmet_shape.lat < -51].sum() * 100 / data_runoff.mean().sum())"
   ]
  },
  {
   "cell_type": "code",
   "execution_count": null,
   "id": "5e0d5e44",
   "metadata": {},
   "outputs": [],
   "source": [
    "pmet_shape[\"LSTM_OGGM_on_flux\"] = pmet_shape.LSTM_OGGM_on * pmet_shape.total_area/(365*1e3*86400)\n",
    "pmet_shape.LSTM_OGGM_on_flux.groupby(pmet_shape.lat.round(0)).sum().sort_index()\n"
   ]
  },
  {
   "cell_type": "code",
   "execution_count": null,
   "id": "781c4bf9-f67b-4e15-9878-da9e14a016a9",
   "metadata": {},
   "outputs": [],
   "source": [
    "# consistency between LSTM OGGM_on and alternatives\n",
    "\"{:.1f}% of the total study area showed agreement in the annual runoff \".format(pmet_shape_subset.total_area.sum()*100/pmet_shape.total_area.sum())"
   ]
  },
  {
   "cell_type": "code",
   "execution_count": null,
   "id": "fe9af167-c258-4a55-b345-551116bc00df",
   "metadata": {
    "tags": []
   },
   "outputs": [],
   "source": [
    "\"{:.1f}% of the total study area showed a CV lower than 0.2\".format(\n",
    "    pmet_shape[(pmet_shape.Model_STD/pmet_shape.Model_MEAN) > 0.2].total_area.sum()*100 / pmet_shape.total_area.sum())"
   ]
  },
  {
   "cell_type": "code",
   "execution_count": null,
   "id": "331e548a",
   "metadata": {},
   "outputs": [],
   "source": []
  }
 ],
 "metadata": {
  "kernelspec": {
   "display_name": "climate",
   "language": "python",
   "name": "python3"
  },
  "language_info": {
   "codemirror_mode": {
    "name": "ipython",
    "version": 3
   },
   "file_extension": ".py",
   "mimetype": "text/x-python",
   "name": "python",
   "nbconvert_exporter": "python",
   "pygments_lexer": "ipython3",
   "version": "3.11.9"
  }
 },
 "nbformat": 4,
 "nbformat_minor": 5
}
