{
 "cells": [
  {
   "cell_type": "markdown",
   "id": "f922caf9-511a-4e4d-87a0-56977678f68a",
   "metadata": {},
   "source": [
    "# Figure S6. Runoff ratio"
   ]
  },
  {
   "cell_type": "code",
   "execution_count": null,
   "id": "e6a0e5c0-9f4f-47ec-959b-bb65d086c2da",
   "metadata": {},
   "outputs": [],
   "source": [
    "import os \n",
    "import numpy as np\n",
    "import pandas as pd\n",
    "import xarray as xr\n",
    "\n",
    "import plotly.express as px\n",
    "import plotly.graph_objects as go\n",
    "from plotly.subplots import make_subplots\n",
    "import shapely.geometry\n",
    "\n",
    "from tqdm import tqdm\n",
    "import geopandas as gpd\n",
    "\n",
    "os.chdir('/home/rooda/OneDrive/Projects/DeepHydro/') \n",
    "path_climate = \"/home/rooda/Pipeline/DeepHydro/CLIMATE/catchments\"\n",
    "path_geo = \"/home/rooda/Datasets/GIS/\""
   ]
  },
  {
   "cell_type": "code",
   "execution_count": null,
   "id": "e15cf4fd-185a-491d-ae8c-6e77052928c1",
   "metadata": {},
   "outputs": [],
   "source": [
    "def pp_preprocessing(df, initial_date):\n",
    "    df = df[df.index >= initial_date]\n",
    "    df = df.resample(\"YS\").sum().mean()\n",
    "    df.index.name = \"basin_id\"\n",
    "    df = df.to_xarray()\n",
    "    return(df)"
   ]
  },
  {
   "cell_type": "markdown",
   "id": "9148bfb8-3f92-4928-94f8-1e46a3fce260",
   "metadata": {},
   "source": [
    "## Data"
   ]
  },
  {
   "cell_type": "code",
   "execution_count": null,
   "id": "1a4130d7-216b-4065-8b0b-8a6f7b35bf4e",
   "metadata": {
    "tags": []
   },
   "outputs": [],
   "source": [
    "# historical\n",
    "pp_base = pd.read_parquet(path_climate + \"/PP_ref_all_basins_full.parquet\").set_index(\"date\")\n",
    "pp_base.index = pd.to_datetime(pp_base.index)\n",
    "pp_base = pp_preprocessing(pp_base, \"2000-01-01\")\n",
    "\n",
    "q_historical = xr.open_dataset(\"results/zenodo/Q_historical.nc\")\n",
    "q_historical = q_historical.resample(date = \"YS\").sum().mean(dim = \"date\").Q\n",
    "q_historical = q_historical/pp_base\n",
    "\n",
    "# to df\n",
    "q_historical = q_historical.to_pandas().transpose()\n",
    "q_historical = q_historical.reset_index().set_index(\"basin_id\")\n",
    "q_historical.columns = \"hist_\" + q_historical.columns\n"
   ]
  },
  {
   "cell_type": "code",
   "execution_count": null,
   "id": "d00c2f84-f533-4956-a0fe-faa9d5784c9e",
   "metadata": {},
   "outputs": [],
   "source": [
    "gcms  = [\"GFDL-ESM4\", \"IPSL-CM6A-LR\", \"MIROC6\", \"MPI-ESM1-2-LR\", \"MRI-ESM2-0\"]\n",
    "ssps  = [\"ssp126\", \"ssp585\"]\n",
    "\n",
    "# future\n",
    "df_ssp = []\n",
    "for ssp in tqdm(ssps):\n",
    "\n",
    "    df_gcm = []\n",
    "    for gcm in tqdm(gcms, leave = False):\n",
    "        \n",
    "        df_i = pd.read_parquet(path_climate + \"/PP_{}_{}_all_basins_full.parquet\".format(gcm, ssp)).set_index(\"date\")\n",
    "        df_i.index = pd.to_datetime(df_i.index)\n",
    "        df_i = pp_preprocessing(df_i, \"2070-01-01\")\n",
    "        df_gcm.append(df_i)\n",
    "\n",
    "    df_gcm = xr.concat(df_gcm, dim='gcm')\n",
    "    df_ssp.append(df_gcm)\n",
    "\n",
    "df_ssp = xr.concat(df_ssp, dim='ssp')\n",
    "pp_future = df_ssp.assign_coords(gcm=gcms, ssp=ssps)\n",
    "\n",
    "q_future = xr.open_dataset(\"results/zenodo/Q_future.nc\", chunks = \"auto\")\n",
    "q_future = q_future.sel(date = slice(\"2070-01-01\", \"2099-12-31\"))\n",
    "q_future = q_future.resample(date = \"YS\").sum().mean(dim = \"date\").Q.load()\n",
    "q_future = q_future / pp_future\n",
    "q_future = q_future.mean(dim = \"gcm\")\n",
    "\n",
    "# analysis will consider only SSP 585\n",
    "q_future = q_future.sel(ssp = \"ssp585\").drop(\"ssp\")\n",
    "q_future = q_future.to_pandas().transpose()\n",
    "q_future = q_future.reset_index().set_index(\"basin_id\")\n",
    "q_future.columns = \"SSP_\" + q_future.columns\n"
   ]
  },
  {
   "cell_type": "code",
   "execution_count": null,
   "id": "667c091a-6084-4228-85c6-0db596dfce6b",
   "metadata": {},
   "outputs": [],
   "source": [
    "pmet_shape = gpd.read_file(\"data/GIS/Basins_Patagonia_all_data.gpkg\") # Problem in Puelo \n",
    "pmet_shape = pmet_shape.set_index(\"gauge_id\")\n",
    "pmet_shape[\"total_area\"] = pmet_shape.total_area*1e6 # in m2 \n",
    "pmet_shape = pd.concat([pmet_shape, q_historical, q_future], axis = 1)"
   ]
  },
  {
   "cell_type": "markdown",
   "id": "6bec25d5-0aaf-4f16-ab54-a61f19484785",
   "metadata": {},
   "source": [
    "## Plot"
   ]
  },
  {
   "cell_type": "code",
   "execution_count": null,
   "id": "420a2357",
   "metadata": {},
   "outputs": [],
   "source": [
    "# basemap for background\n",
    "geo_map = gpd.read_file(path_geo + \"south_america.shp\")\n",
    "geo_map = geo_map[(geo_map.CC == \"CI\") | (geo_map.CC == \"AR\")]\n",
    "geo_map = geo_map.dissolve(by='REGION')\n",
    "geo_map[\"geometry\"] = geo_map.simplify(0.01)\n",
    "\n",
    "poly_gdf = shapely.geometry.Polygon([(-76, -54.99), (-76, -40.51), (-68.01, -40.51), (-68.01, -54.99), (-76, -54.99)])\n",
    "poly_gdf = gpd.GeoDataFrame([1], geometry=[poly_gdf], crs=geo_map.crs)\n",
    "\n",
    "geo_map = geo_map.clip(poly_gdf)"
   ]
  },
  {
   "cell_type": "code",
   "execution_count": null,
   "id": "40dc77c6",
   "metadata": {},
   "outputs": [],
   "source": [
    "from  plotly.colors import unlabel_rgb, hex_to_rgb\n",
    "def binned_colorscale(seq, nr_swatches=5):\n",
    "    \n",
    "    if seq[0][0] == '#':\n",
    "        arr_colors=np.array([hex_to_rgb(s) for s in seq])/255\n",
    "    elif seq[0][0:3] == 'rgb':\n",
    "        arr_colors = np.array([unlabel_rgb(s) for s in seq])/255 \n",
    "    else:\n",
    "        raise ValueError(\"a plotly colorscale is given either with hex colors or as rgb colors\")\n",
    "    n = len(seq)\n",
    "    svals = [k/(n-1) for k in range(n)] #the scale values corresponding to the colors in seq\n",
    "    grid = [k/(nr_swatches-1) for k in range(nr_swatches)]# define the scale values corresponding nr_swatches\n",
    "    r, g, b = [np.interp(grid, svals, arr_colors[:, k]) for k in range(3)]  #np.interp interpolates linearly\n",
    "    cmap_arr = np.clip(np.vstack((r, g, b)).T, 0, 1)\n",
    "    new_colors = np.array(cmap_arr*255, dtype=int)\n",
    "    discrete_colorscale = []\n",
    "    N = len(new_colors+1)\n",
    "    for k in range(N):\n",
    "        discrete_colorscale.extend([[k/N, f'rgb{tuple(new_colors[k])}'], \n",
    "                                    [(k+1)/N,  f'rgb{tuple(new_colors[k])}']]) \n",
    "    return discrete_colorscale "
   ]
  },
  {
   "cell_type": "code",
   "execution_count": null,
   "id": "48f8faf5",
   "metadata": {},
   "outputs": [],
   "source": [
    "fig = make_subplots(rows=2, cols=2, vertical_spacing = 0.03, horizontal_spacing = 0.01, \n",
    "                    subplot_titles = [\"a) LSTM + OGGM\", \"b) Only LSTM\", \"c) TUWmodel + OGGM\", \"d) GR4J + OGGM\"],\n",
    "                    specs=[[{\"type\": \"scattergeo\"}, {\"type\": \"scattergeo\"}],\n",
    "                           [{\"type\": \"scattergeo\"}, {\"type\": \"scattergeo\"}]])\n",
    "\n",
    "# colors\n",
    "cl = px.colors.qualitative.D3\n",
    "cs = px.colors.colorbrewer.GnBu\n",
    "colorsc = binned_colorscale([\"#fe7e0d\", \"#ffe9ba\", \"#1d78b4\"], nr_swatches=15) \n",
    "\n",
    "\n",
    "dtick = 2\n",
    "x = list(range(-78, 0 + dtick, dtick))\n",
    "y = list(range(-56, 0 + dtick, dtick))\n",
    "xpos = -75.9\n",
    "ypos = -56\n",
    "\n",
    "## Basemap -----------------------------------------------------------------------------------------------\n",
    "for x_plot in range(0,2):\n",
    "        for y_plot in range(0,2):\n",
    "\n",
    "          fig.add_trace(go.Choropleth(geojson = eval(geo_map['geometry'].to_json()),  locations = geo_map.index, z = geo_map['iso_num'], \n",
    "                                      colorscale = [\"#EAEAF2\", \"#EAEAF2\"],  showscale= False, marker_line_color ='white', marker_line_width=0.1), row=y_plot+1, col=x_plot+1)\n",
    "      \n",
    "          fig.add_trace(go.Scattergeo(lon = [lon + 0.25 for lon in x[1:-1]] + [xpos + 0.25] * (len(y) - 2),\n",
    "                                  lat = [ypos + 0.1] * (len(x) - 2) + [lat + 0.1 for lat in y[1:-1]],\n",
    "                                  showlegend = False,\n",
    "                                  text = x[1:-1] + y[1:-1], textfont=dict(size=11, color = \"rgba(0,0,0,0.25)\"),\n",
    "                                  mode = \"text\"), row=y_plot+1, col=x_plot+1)\n",
    "\n",
    "fig.add_trace(go.Choropleth(geojson = eval(pmet_shape['geometry'].to_json()),  locations = pmet_shape.index, z = pmet_shape['SSP_LSTM_OGGM_on'] - pmet_shape['hist_LSTM_OGGM_on'], \n",
    "                            colorscale = colorsc, marker_line_color ='white', marker_line_width=0.2, \n",
    "                            zmin = -0.5, zmax = 0.5, colorbar=dict(len=0.9, x=1, y= 0.50, title='Δ Runoff ratio<br>(Q/PP)', thickness=25, tickwidth=1)), row=1, col=1)\n",
    "\n",
    "fig.add_trace(go.Choropleth(geojson = eval(pmet_shape['geometry'].to_json()),  locations = pmet_shape.index, z = pmet_shape['SSP_LSTM_OGGM_off'] - pmet_shape['hist_LSTM_OGGM_off'], \n",
    "                            colorscale = colorsc, marker_line_color ='white', marker_line_width=0.2, \n",
    "                            zmin = -0.5, zmax = 0.5, showscale = False), row=1, col=2)\n",
    "\n",
    "fig.add_trace(go.Choropleth(geojson = eval(pmet_shape['geometry'].to_json()),  locations = pmet_shape.index, z = pmet_shape['SSP_TUWmodel'] - pmet_shape['hist_TUWmodel'], \n",
    "                            colorscale = colorsc, marker_line_color ='white', marker_line_width=0.2, \n",
    "                            zmin = -0.5, zmax = 0.5, showscale = False), row=2, col=1)\n",
    "\n",
    "fig.add_trace(go.Choropleth(geojson = eval(pmet_shape['geometry'].to_json()),  locations = pmet_shape.index, z = pmet_shape['SSP_GR4J'] - pmet_shape['hist_GR4J'], \n",
    "                            colorscale = colorsc, marker_line_color ='white', marker_line_width=0.2, \n",
    "                            zmin = -0.5, zmax = 0.5, showscale = False), row=2, col=2)\n",
    "\n",
    "## Layout -------------------------------------------------------------------------------------------------------------------\n",
    "fig.update_xaxes(showline = True, linecolor = 'rgba(0,0,0,0.5)', linewidth = 1, ticks=\"outside\", griddash = \"dot\", mirror=True)\n",
    "fig.update_yaxes(showline = True, linecolor = 'rgba(0,0,0,0.5)', linewidth = 1, ticks=\"outside\", griddash = \"dot\", mirror=True)\n",
    "\n",
    "fig.update_geos(showframe = True, framewidth = 1, framecolor = \"rgba(0,0,0,0.5)\", \n",
    "                lonaxis_range=[-76, -68], lataxis_range=[-56, -40.5], \n",
    "                bgcolor = \"rgb(255,255,255)\", \n",
    "                showland = False, showcoastlines = False, showlakes = False, \n",
    "                lataxis_showgrid=True, lonaxis_showgrid=True, \n",
    "                lonaxis_dtick = dtick, lataxis_dtick = dtick, \n",
    "                lonaxis_gridcolor = \"rgba(0,0,0,0.1)\", lataxis_gridcolor = \"rgba(0,0,0,0.1)\", \n",
    "                lonaxis_griddash = \"dot\", lataxis_griddash = \"dot\")\n",
    "\n",
    "fig.update_layout(autosize = False, width = 800, height = 1200, template = \"seaborn\", font_size = 17, margin = dict(l=5, r=5, b=5, t=30))\n",
    "fig.write_image(\"reports/figures/FigureS6_Runoff_ratio.png\", scale = 4)\n",
    "#fig.show()"
   ]
  },
  {
   "cell_type": "code",
   "execution_count": null,
   "id": "c5256b93",
   "metadata": {},
   "outputs": [],
   "source": []
  }
 ],
 "metadata": {
  "kernelspec": {
   "display_name": "neural",
   "language": "python",
   "name": "python3"
  },
  "language_info": {
   "codemirror_mode": {
    "name": "ipython",
    "version": 3
   },
   "file_extension": ".py",
   "mimetype": "text/x-python",
   "name": "python",
   "nbconvert_exporter": "python",
   "pygments_lexer": "ipython3",
   "version": "3.10.13"
  }
 },
 "nbformat": 4,
 "nbformat_minor": 5
}
