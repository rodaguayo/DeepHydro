{
 "cells": [
  {
   "cell_type": "markdown",
   "id": "e414093d-9bd7-4a0b-bf45-308cb66b04d1",
   "metadata": {},
   "source": [
    "# Figure 5. Regional glacier influence (2000-2019)"
   ]
  },
  {
   "cell_type": "code",
   "execution_count": 1,
   "id": "3e9ef5f0-99c1-4e92-bc1c-1b49fcccdf9b",
   "metadata": {
    "tags": []
   },
   "outputs": [],
   "source": [
    "import os \n",
    "import numpy as np\n",
    "import pandas as pd\n",
    "import geopandas as gpd\n",
    "\n",
    "import plotly.express as px\n",
    "import plotly.graph_objects as go\n",
    "import plotly.figure_factory as ff\n",
    "from plotly.subplots import make_subplots\n",
    "import shapely.geometry\n",
    "\n",
    "os.chdir('/home/rooda/OneDrive/Projects/DeepHydro/')\n",
    "path_pmet = \"/home/rooda/OneDrive/PatagoniaMet/\"\n",
    "path_geo = \"/home/rooda/Datasets/GIS/\""
   ]
  },
  {
   "cell_type": "markdown",
   "id": "9a74b680-65f7-498e-9d35-3faab67fb7e1",
   "metadata": {},
   "source": [
    "## Data"
   ]
  },
  {
   "cell_type": "code",
   "execution_count": 2,
   "id": "4e1efea8-4ae7-4209-a525-06ced8a087d3",
   "metadata": {
    "tags": []
   },
   "outputs": [],
   "source": [
    "pmet_shape = gpd.read_file(\"data/GIS/Basins_Patagonia_all_data.gpkg\")\n",
    "pmet_shape = pmet_shape.set_index(\"gauge_id\")\n",
    "\n",
    "# from km2 to m2\n",
    "pmet_shape[\"total_area\"] = pmet_shape.total_area * 1e6 "
   ]
  },
  {
   "cell_type": "code",
   "execution_count": 3,
   "id": "2046dfa9-22cd-4208-bc69-23c6f2e014a3",
   "metadata": {
    "tags": []
   },
   "outputs": [],
   "source": [
    "# glacier runoff (in m3/s)\n",
    "data_runoff = pd.read_csv(\"results/runoff/glacier_runoff_historical_all.csv\", index_col = 0, parse_dates= [\"time\"])\n",
    "data_runoff = data_runoff[data_runoff.index.year >= 2000]\n",
    "data_runoff = data_runoff.resample(\"YS\").mean()\n",
    "data_runoff = data_runoff.mean().rename(\"runoff_mean\")\n",
    "\n",
    "# glacier runoff (in m3/s)\n",
    "data_melt = pd.read_csv(\"results/runoff//glacier_melt_historical_all.csv\", index_col = 0, parse_dates= [\"time\"])\n",
    "data_melt = data_melt[data_melt.index.year >= 2000]\n",
    "data_melt = data_melt.resample(\"YS\").mean()\n",
    "data_melt = data_melt.mean().rename(\"melt_mean\")"
   ]
  },
  {
   "cell_type": "code",
   "execution_count": 4,
   "id": "663dbb55-cbf4-4d57-8a69-e4423c640187",
   "metadata": {
    "tags": []
   },
   "outputs": [],
   "source": [
    "pmet_shape   = pd.concat([pmet_shape, data_runoff, data_melt], axis = 1) \n",
    "pmet_shape   = pmet_shape.fillna(0)\n",
    "\n",
    "# from m3/s to mm/year\n",
    "pmet_shape[\"runoff_mean\"] = pmet_shape.runoff_mean*365*1000*86400 / pmet_shape.total_area \n",
    "pmet_shape[\"melt_mean\"] = pmet_shape.melt_mean*365*1000*86400 / pmet_shape.total_area \n",
    "\n",
    "# glacier relative\n",
    "pmet_shape[\"runoff_relative\"] = pmet_shape.runoff_mean / pmet_shape.p_mean_PMET\n",
    "pmet_shape[\"melt_relative\"] = pmet_shape.melt_mean / pmet_shape.runoff_mean"
   ]
  },
  {
   "cell_type": "markdown",
   "id": "5e1a6686-fadc-4b11-8d74-8b7204072b76",
   "metadata": {},
   "source": [
    "## Plot elements"
   ]
  },
  {
   "cell_type": "code",
   "execution_count": 5,
   "id": "8bcd2878-a189-4ba0-a483-c68bb3c16655",
   "metadata": {
    "tags": []
   },
   "outputs": [],
   "source": [
    "# basemap for background\n",
    "geo_map = gpd.read_file(path_geo + \"/south_america.shp\")\n",
    "geo_map = geo_map[(geo_map.CC == \"CI\") | (geo_map.CC == \"AR\")]\n",
    "geo_map = geo_map.dissolve(by='REGION')\n",
    "geo_map[\"geometry\"] = geo_map.simplify(0.01)\n",
    "\n",
    "poly_gdf = shapely.geometry.Polygon([(-76, -54.99), (-76, -40.51), (-68.01, -40.51), (-68.01, -54.99), (-76, -54.99)])\n",
    "poly_gdf = gpd.GeoDataFrame([1], geometry=[poly_gdf], crs=geo_map.crs)\n",
    "\n",
    "geo_map = geo_map.clip(poly_gdf)"
   ]
  },
  {
   "cell_type": "code",
   "execution_count": 6,
   "id": "08b71536-fac3-4a07-952f-cb5d3d17fe73",
   "metadata": {},
   "outputs": [],
   "source": [
    "pmet_shape_main = pmet_shape[pmet_shape[\"total_area\"] > 5000*1e6]\n",
    "pmet_shape_main[\"basin_name\"] = [\"Santa Cruz                          \", \"Puelo\", \"Yelcho\", \"Grey\",\"Palena\", \"Pascua\", \"Aysen\", \"Baker\", \"Cisnes\"]"
   ]
  },
  {
   "cell_type": "markdown",
   "id": "536e63e1-0e94-43d2-8c28-adb4b2441e51",
   "metadata": {},
   "source": [
    "## Plot"
   ]
  },
  {
   "cell_type": "code",
   "execution_count": 7,
   "id": "be1a2038-402e-440b-a471-a618878af808",
   "metadata": {
    "tags": []
   },
   "outputs": [],
   "source": [
    "# colors\n",
    "cl = px.colors.qualitative.D3\n",
    "cs = px.colors.colorbrewer.GnBu\n",
    "\n",
    "fig = make_subplots(rows=2, cols=3, vertical_spacing = 0.05, shared_xaxes = True, horizontal_spacing = 0.01, \n",
    "                    specs=[[{\"type\": \"scattergeo\", \"rowspan\": 2}, {\"type\": \"scattergeo\", \"rowspan\": 2}, {\"type\": \"scattergeo\", \"rowspan\": 2}], \n",
    "                                                      [None,                                 None, None]])\n",
    "\n",
    "dtick = 2\n",
    "x = list(range(-76, 0 + dtick, dtick))\n",
    "y = list(range(-56, 0 + dtick, dtick))\n",
    "xpos = -75.9\n",
    "ypos = -56\n",
    "\n",
    "## Basemap\n",
    "for x_plot in range(0,3):\n",
    "    fig.add_trace(go.Choropleth(geojson = eval(geo_map['geometry'].to_json()),  locations = geo_map.index, z = geo_map['iso_num'], \n",
    "                                colorscale = [\"#EAEAF2\", \"#EAEAF2\"],  showscale= False, marker_line_color ='white', marker_line_width=0.1), row=1, col=x_plot+1)\n",
    "\n",
    "    fig.add_trace(go.Scattergeo(lon = [lon + 0.25 for lon in x[1:-1]] + [xpos + 0.25] * (len(y) - 2),\n",
    "                                lat = [ypos + 0.1] * (len(x) - 2) + [lat + 0.1 for lat in y[1:-1]],\n",
    "                                showlegend = False,\n",
    "                                text = x[1:-1] + y[1:-1], textfont=dict(size=11, color = \"rgba(0,0,0,0.25)\"),\n",
    "                                mode = \"text\"), row=1, col=x_plot+1)\n",
    "\n",
    "fig.add_scattergeo(geojson = eval(pmet_shape_main['geometry'].to_json()), locations = pmet_shape_main.index, text = pmet_shape_main['basin_name'], mode = 'text', \n",
    "                       showlegend = False, textfont=dict(size=11, color = \"rgba(0,0,0,0.3)\"),row=1, col=1)\n",
    "\n",
    "colorbar_config_a = dict(title='Q<sub>g</sub><sup>runoff</sup><br>(mm yr<sup>-1</sup>)', len=0.45, x=0.23, y= 0.77, thickness=20, tickwidth = 1, \n",
    "                         ticktext = [\"10<sup>0\", \"10<sup>1\", \"10<sup>2\", \"10<sup>3\", \"10<sup>4\"], tickvals =  [0,1,2,3,4])\n",
    "\n",
    "fig.add_trace(go.Choropleth(geojson = eval(pmet_shape['geometry'].to_json()),  locations = pmet_shape.index, z = np.log10(pmet_shape['runoff_mean']+0.001), \n",
    "                            colorscale = [cs[1], cs[4], cs[8]], marker_line_color ='white', marker_line_width=0.2, \n",
    "                            zmin = 0, zmax = 4, colorbar= colorbar_config_a), row=1, col=1)\n",
    "\n",
    "colorbar_config_b = dict(len=0.45, x=0.55, y= 0.77, title='Ratio<br>(Q<sub>g</sub><sup>melt</sup>/ Q<sub>g</sub><sup>runoff</sup>)', thickness=20, tickwidth=1, dtick = 15, ticksuffix = \"%\")\n",
    "fig.add_trace(go.Choropleth(geojson = eval(pmet_shape['geometry'].to_json()),  locations = pmet_shape.index, z = pmet_shape['melt_relative'].fillna(0)*100, \n",
    "                            colorscale = [cs[1], cs[4], cs[8]], marker_line_color ='white', marker_line_width=0.2, \n",
    "                            zmin = 20, zmax = 80, colorbar= colorbar_config_b), row=1, col=2)\n",
    "\n",
    "colorbar_config_c = dict(len=0.45, x=0.89, y= 0.77, title='Ratio<br>(Q<sub>g</sub><sup>runoff</sup>/ PP)', thickness=20, tickwidth=1, ticktext = [\"0%\", \"25%\", \"50%\", \"75%\", \">100%\"], tickvals =  [0,25,50,75,100])\n",
    "fig.add_trace(go.Choropleth(geojson = eval(pmet_shape['geometry'].to_json()),  locations = pmet_shape.index, z = pmet_shape['runoff_relative']*100, \n",
    "                            colorscale = [cs[1], cs[4], cs[8]], marker_line_color ='white', marker_line_width=0.2, \n",
    "                            zmin = 0, zmax = 100, colorbar=colorbar_config_c), row=1, col=3)\n",
    "\n",
    "\n",
    "# Layout -------------------------------------------------------------------------------------------------------------------\n",
    "fig.update_xaxes(showline = True, linecolor = 'rgba(0,0,0,0.5)', linewidth = 1, ticks=\"outside\", griddash = \"dot\", mirror=True)\n",
    "fig.update_yaxes(showline = True, linecolor = 'rgba(0,0,0,0.5)', linewidth = 1, ticks=\"outside\", griddash = \"dot\", mirror=True)\n",
    "\n",
    "fig.update_geos(showframe = True, framewidth = 1, framecolor = \"rgba(0,0,0,0.5)\", \n",
    "                lonaxis_range=[-76, -68], lataxis_range=[-56, -40.5], \n",
    "                bgcolor = \"rgb(255,255,255)\", \n",
    "                showland = False, showcoastlines = False, showlakes = False, \n",
    "                lataxis_showgrid=True, lonaxis_showgrid=True, \n",
    "                lonaxis_dtick = dtick, lataxis_dtick = dtick, \n",
    "                lonaxis_gridcolor = \"rgba(0,0,0,0.1)\", lataxis_gridcolor = \"rgba(0,0,0,0.1)\", \n",
    "                lonaxis_griddash = \"dot\", lataxis_griddash = \"dot\")\n",
    "\n",
    "fig.add_annotation(text=\"(a)\", font=dict(size=16), x=0.005, y=0.99, xref = \"paper\", yref = \"paper\", showarrow=False)\n",
    "fig.add_annotation(text=\"(b)\", font=dict(size=16), x=0.35, y=0.99,  xref = \"paper\", yref = \"paper\", showarrow=False)\n",
    "fig.add_annotation(text=\"(c)\", font=dict(size=16), x=0.70, y=0.99,  xref = \"paper\", yref = \"paper\", showarrow=False)\n",
    "\n",
    "fig.update_layout(autosize = False, width = 1000, height = 650, template = \"seaborn\", margin = dict(l=5, r=5, b=5, t=5))\n",
    "fig.write_image(\"reports/figures/Figure5_Regional_glacier_influence.png\", scale = 4)\n",
    "#fig.show()"
   ]
  },
  {
   "cell_type": "markdown",
   "id": "a3d29c10-9f1b-4867-8e35-19c34d5d8590",
   "metadata": {},
   "source": [
    "## Text"
   ]
  },
  {
   "cell_type": "code",
   "execution_count": null,
   "id": "bb7f064e-3dcd-4959-844f-e54df704855f",
   "metadata": {},
   "outputs": [],
   "source": [
    "data_runoff = pd.read_csv(\"results/runoff/glacier_runoff_historical_all.csv\", index_col = 0, parse_dates= [\"time\"])\n",
    "data_runoff = data_runoff[data_runoff.index.year >= 2000]\n",
    "data_runoff = data_runoff.resample(\"YS\").mean().sum(axis = 1)\n",
    "\n",
    "\"The  glacier runoff for the study area is {:.0f} +- {:.0f} mm yr-1\".format(data_runoff.mean()*365*1000*86400/pmet_shape.total_area.sum(), \n",
    "                                                                                   data_runoff.std()*365*1000*86400/pmet_shape.total_area.sum())"
   ]
  },
  {
   "cell_type": "code",
   "execution_count": null,
   "id": "ee95d339-96b7-4224-830a-2ab31e24792e",
   "metadata": {},
   "outputs": [],
   "source": [
    "\"greater than 1000 mm yr-1 in {:.1f}% of the study area\".format(\n",
    "    pmet_shape[pmet_shape['runoff_mean'] > 1000].total_area.sum()*100/pmet_shape.total_area.sum())"
   ]
  },
  {
   "cell_type": "code",
   "execution_count": null,
   "id": "56869c7e-53ee-46c1-b49c-f32eac15c7cf",
   "metadata": {},
   "outputs": [],
   "source": [
    "data_runoff = pd.read_csv(\"results/runoff/glacier_runoff_historical_all.csv\", index_col = 0, parse_dates= [\"time\"])\n",
    "data_runoff = data_runoff[data_runoff.index.year >= 2000]\n",
    "\n",
    "data_runoff_jdf = data_runoff[data_runoff.index.month.isin([1, 2, 12])]\n",
    "data_runoff_jdf = data_runoff_jdf.resample(\"YS\").mean().sum(axis = 1)\n",
    "data_runoff = data_runoff.resample(\"YS\").mean().sum(axis = 1)\n",
    "\n",
    "\"The total glacier runoff flux for the study area is {:.0f} +- {:.0f} m3/s (in summer {:.0f} +- {:.0f} m3/s)\".format(\n",
    "    data_runoff.mean(), data_runoff.std(),\n",
    "    data_runoff_jdf.mean(), data_runoff_jdf.std())\n",
    "\n",
    "# note high inter annual variablity\n"
   ]
  },
  {
   "cell_type": "code",
   "execution_count": null,
   "id": "b02dde53-eb8b-49f9-a760-3712d6149415",
   "metadata": {},
   "outputs": [],
   "source": [
    "data_runoff = pd.read_csv(\"results/runoff/glacier_melt_historical_all.csv\", index_col = 0, parse_dates= [\"time\"])\n",
    "data_runoff = data_runoff[data_runoff.index.year >= 2000]\n",
    "\n",
    "data_runoff_jdf = data_runoff[data_runoff.index.month.isin([1, 2, 12])]\n",
    "data_runoff_jdf = data_runoff_jdf.resample(\"YS\").mean().sum(axis = 1)\n",
    "data_runoff = data_runoff.resample(\"YS\").mean().sum(axis = 1)\n",
    "\n",
    "\"The total glacier melt flux for the study area is {:.0f} +- {:.0f} m3/s (in summer {:.0f} +- {:.0f} m3/s)\".format(\n",
    "    data_runoff.mean(), data_runoff.std(),\n",
    "    data_runoff_jdf.mean(), data_runoff_jdf.std())\n"
   ]
  },
  {
   "cell_type": "code",
   "execution_count": null,
   "id": "759903ed-898c-4095-b05b-7b895e42be8e",
   "metadata": {},
   "outputs": [],
   "source": [
    "(((pmet_shape_main.runoff_mean * pmet_shape_main.total_area / (365*1000*86400))*100 / data_runoff.mean()).set_axis(pmet_shape_main[\"basin_name\"])).round(1)"
   ]
  },
  {
   "cell_type": "code",
   "execution_count": null,
   "id": "165fe755-9f70-4fa6-8e80-7c992a0a5943",
   "metadata": {},
   "outputs": [],
   "source": [
    "\"The mean ratio melt / total is {:.1f}% (weigthed glacier area)\".format(\n",
    "    (pmet_shape['melt_relative'] * pmet_shape.glacier_cover*0.01 * pmet_shape.total_area).sum()*100 /  (pmet_shape.glacier_cover*0.01 * pmet_shape.total_area).sum())"
   ]
  },
  {
   "cell_type": "code",
   "execution_count": null,
   "id": "943f987a-c67c-4406-acda-a85debdd5feb",
   "metadata": {},
   "outputs": [],
   "source": [
    "\"When compared to total climatic input, the ratio between glacier runoff and precipitation was greater than 50% and 10% in {:.1f}% and {:.1f}% of the total area, respectively\".format(\n",
    "    pmet_shape.total_area[pmet_shape['runoff_relative'] > 0.5].sum() *100 / pmet_shape.total_area.sum(),\n",
    "    pmet_shape.total_area[pmet_shape['runoff_relative'] > 0.1].sum() *100 / pmet_shape.total_area.sum())"
   ]
  },
  {
   "cell_type": "code",
   "execution_count": null,
   "id": "26f5b1f4-cc25-406a-9d25-77ea11e5f0d6",
   "metadata": {},
   "outputs": [],
   "source": []
  }
 ],
 "metadata": {
  "kernelspec": {
   "display_name": "climate",
   "language": "python",
   "name": "python3"
  },
  "language_info": {
   "codemirror_mode": {
    "name": "ipython",
    "version": 3
   },
   "file_extension": ".py",
   "mimetype": "text/x-python",
   "name": "python",
   "nbconvert_exporter": "python",
   "pygments_lexer": "ipython3",
   "version": "3.11.9"
  }
 },
 "nbformat": 4,
 "nbformat_minor": 5
}
