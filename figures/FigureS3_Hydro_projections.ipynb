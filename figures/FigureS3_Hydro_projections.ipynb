{
 "cells": [
  {
   "cell_type": "markdown",
   "id": "546609a9-0940-419c-ae28-cac52ea2ec11",
   "metadata": {},
   "source": [
    "# Figure S3: Glacier projections for the main basins"
   ]
  },
  {
   "cell_type": "code",
   "execution_count": 1,
   "id": "10885fd0-3cf4-4958-ade7-81c84c48e333",
   "metadata": {
    "tags": []
   },
   "outputs": [],
   "source": [
    "import pandas as pd\n",
    "import xarray as xr \n",
    "\n",
    "import os\n",
    "from tqdm.notebook import tqdm\n",
    "\n",
    "import plotly.express as px\n",
    "import plotly.graph_objects as go\n",
    "from   plotly.subplots import make_subplots\n",
    "\n",
    "import warnings\n",
    "warnings.simplefilter(\"ignore\")\n",
    "\n",
    "os.chdir('/home/rooda/OneDrive/Projects/DeepHydro/')"
   ]
  },
  {
   "cell_type": "markdown",
   "id": "8f6e8ce5-9cae-42de-8be3-873b622cdc37",
   "metadata": {
    "tags": []
   },
   "source": [
    "## Data"
   ]
  },
  {
   "cell_type": "code",
   "execution_count": 2,
   "id": "81a9e694-4b92-4bab-b7fc-3a2d490fdb16",
   "metadata": {
    "tags": []
   },
   "outputs": [],
   "source": [
    "dict_basins = {\"Y00004842\":'Puelo', \n",
    "              \"Y00004886\":'Yelcho', \n",
    "              \"Y00004938\":'Palena', \n",
    "              \"Y00004983\":'Cisnes', \n",
    "              \"Y00004956\":'Aysen', \n",
    "              \"Y00004957\":'Baker', \n",
    "              \"Y00004946\":'Pascua', \n",
    "              \"Y00004814\":'Santa Cruz', \n",
    "              \"Y00004894\":'Grey'}"
   ]
  },
  {
   "cell_type": "code",
   "execution_count": 3,
   "id": "160ebf72-917f-4a8a-b8f7-cc0bcd50acdf",
   "metadata": {},
   "outputs": [],
   "source": [
    "# historical\n",
    "runoff     = pd.read_csv(\"results/runoff/glacier_runoff_historical_all.csv\", parse_dates = [\"time\"], index_col = 0)\n",
    "runoff     = runoff[runoff.index.year >= 2000]\n",
    "runoff     = runoff.resample(\"YS\").mean()\n",
    "\n",
    "melt       = pd.read_csv(\"results/runoff/glacier_melt_historical_all.csv\", parse_dates = [\"time\"], index_col = 0)\n",
    "melt       = melt[melt.index.year >= 2000]\n",
    "melt       = melt.resample(\"YS\").mean()\n",
    "\n",
    "volume     = pd.read_csv(\"results/runoff/glacier_volume_historical_all.csv\", parse_dates = [\"time\"], index_col = 0)\n",
    "volume     = volume[volume.index >= 2000]\n",
    "volume_ref = volume.loc[2020].rename(\"volume\")\n",
    "volume     = volume / volume_ref"
   ]
  },
  {
   "cell_type": "code",
   "execution_count": 4,
   "id": "39adda2c-8b5f-41e3-807b-42264cad876c",
   "metadata": {},
   "outputs": [],
   "source": [
    "# future\n",
    "runoff_future = xr.open_dataset(\"results/runoff/glacier_runoff_future_all.nc\", chunks = \"auto\").glacier_runoff\n",
    "runoff_future = runoff_future.resample(time = \"YS\").mean()\n",
    "runoff_future_mean = runoff_future.mean(dim = \"gcm\").load()\n",
    "runoff_future_std  = runoff_future.std(dim = \"gcm\").load()\n",
    "\n",
    "melt_future = xr.open_dataset(\"results/runoff/glacier_melt_future_all.nc\", chunks=\"auto\").melt_on_glacier_daily\n",
    "melt_future = melt_future.resample(time = \"YS\").mean()\n",
    "melt_future_mean = melt_future.mean(dim = \"gcm\").load()\n",
    "melt_future_std  = melt_future.std(dim = \"gcm\").load()\n",
    "\n",
    "volume_ref    = volume_ref.to_xarray().rename({\"index\": \"rgi_id\"})\n",
    "volume_future = xr.open_dataset(\"results/runoff/glacier_volume_future_all.nc\").volume\n",
    "volume_future = volume_future / volume_ref\n",
    "volume_future_mean = volume_future.mean(dim = \"gcm\")\n",
    "volume_future_std  = volume_future.std(dim = \"gcm\")"
   ]
  },
  {
   "cell_type": "markdown",
   "id": "1e3e6dfe-daa2-436f-973b-8347337839c2",
   "metadata": {},
   "source": [
    "## Plot"
   ]
  },
  {
   "cell_type": "code",
   "execution_count": 5,
   "id": "04573e8d-2b28-452e-bf17-f8684ed6b943",
   "metadata": {
    "tags": []
   },
   "outputs": [],
   "source": [
    "fig    = make_subplots(rows=9, cols=3, horizontal_spacing = 0.05, vertical_spacing = 0.01, \n",
    "                       shared_xaxes= True, shared_yaxes= False, row_titles = list(dict_basins.values()),\n",
    "                       subplot_titles= [\"Volume relative to 2020 (%)\", \n",
    "                                        \"Glacier runoff (Q<sub>g</sub><sup>runoff</sup>; m<sup>3</sup> s<sup>-1</sup>)\", \n",
    "                                        \"Glacier melt (Q<sub>g</sub><sup>melt</sup>; m<sup>3</sup> s<sup>-1</sup>)\"])\n",
    "\n",
    "cl = px.colors.qualitative.D3\n",
    "scen_colors = {\"Historical\":\"rgba(0, 0, 0, 0.8)\", \"ssp126\":cl[0], \"ssp585\":cl[3]}\n",
    "shaded_colors = {\"Historical\":\"rgba(0, 0, 0, 0.15)\", \"ssp126\": \"rgba(31, 119, 180,0.15)\", \"ssp585\":\"rgba(214, 39, 40, 0.15)\"}\n",
    "\n",
    "for x in range(0,9):\n",
    "    \n",
    "    # historical\n",
    "    fig.add_trace(go.Scatter(x=volume.index, y=volume[list(dict_basins)[x]] , mode='lines', name= \"Historical\", \n",
    "                                     line=dict(color=scen_colors[\"Historical\"], width = 1), showlegend=False), row=x+1, col=1)\n",
    "\n",
    "    fig.add_trace(go.Scatter(x=volume.index, y=runoff[list(dict_basins)[x]] , mode='lines', name= \"Historical\", \n",
    "                                     line=dict(color=scen_colors[\"Historical\"], width = 1), showlegend=False), row=x+1, col=2)\n",
    "    \n",
    "    fig.add_trace(go.Scatter(x=volume.index, y=melt[list(dict_basins)[x]] , mode='lines', name= \"Historical\", \n",
    "                                     line=dict(color=scen_colors[\"Historical\"], width = 1), showlegend=False), row=x+1, col=3)\n",
    "\n",
    "    # future\n",
    "    for ssp in [\"ssp126\", \"ssp585\"]:\n",
    "\n",
    "        ## volume\n",
    "        fig.add_trace(go.Scatter(x=volume_future.time.to_series(), y= (volume_future_mean + volume_future_std).sel(ssp = ssp, rgi_id = [list(dict_basins)[x]]).to_series(), \n",
    "                                 line=dict(width=0), fillcolor=shaded_colors[ssp], showlegend=False), row=x+1, col=1)\n",
    "        fig.add_trace(go.Scatter(x=volume_future.time.to_series(), y= (volume_future_mean - volume_future_std).sel(ssp = ssp, rgi_id = [list(dict_basins)[x]]).to_series(), \n",
    "                                 line=dict(width=0), fillcolor=shaded_colors[ssp], fill='tonexty', showlegend=False), row=x+1, col=1)\n",
    "        fig.add_trace(go.Scatter(x=volume_future.time.to_series(), y=volume_future_mean.sel(ssp = ssp, rgi_id = [list(dict_basins)[x]]).to_series(), mode='lines', name= \"Historical\", \n",
    "                                         line=dict(color=scen_colors[ssp], width = 1), showlegend=False), row=x+1, col=1)\n",
    "    \n",
    "        ## runoff\n",
    "        fig.add_trace(go.Scatter(x=pd.DatetimeIndex(runoff_future.time).year, y= (runoff_future_mean + runoff_future_std).sel(ssp = ssp, rgi_id = [list(dict_basins)[x]]).to_series(), \n",
    "                                 line=dict(width=0), fillcolor=shaded_colors[ssp], showlegend=False), row=x+1, col=2)\n",
    "        fig.add_trace(go.Scatter(x=pd.DatetimeIndex(runoff_future.time).year, y= (runoff_future_mean - runoff_future_std).sel(ssp = ssp, rgi_id = [list(dict_basins)[x]]).to_series(), \n",
    "                                 line=dict(width=0), fillcolor=shaded_colors[ssp], fill='tonexty', showlegend=False), row=x+1, col=2)\n",
    "        fig.add_trace(go.Scatter(x=pd.DatetimeIndex(runoff_future.time).year, y=runoff_future_mean.sel(ssp = ssp, rgi_id = [list(dict_basins)[x]]).to_series(), mode='lines', name= \"Historical\", \n",
    "                                         line=dict(color=scen_colors[ssp], width = 1), showlegend=False), row=x+1, col=2)\n",
    "\n",
    "        ## melt\n",
    "        fig.add_trace(go.Scatter(x=pd.DatetimeIndex(melt_future.time).year, y= (melt_future_mean + melt_future_std).sel(ssp = ssp, rgi_id = [list(dict_basins)[x]]).to_series(), \n",
    "                                 line=dict(width=0), fillcolor=shaded_colors[ssp], showlegend=False), row=x+1, col=3)\n",
    "        fig.add_trace(go.Scatter(x=pd.DatetimeIndex(melt_future.time).year, y= (melt_future_mean - melt_future_std).sel(ssp = ssp, rgi_id = [list(dict_basins)[x]]).to_series(), \n",
    "                                 line=dict(width=0), fillcolor=shaded_colors[ssp], fill='tonexty', showlegend=False), row=x+1, col=3)\n",
    "        fig.add_trace(go.Scatter(x=pd.DatetimeIndex(melt_future.time).year, y=melt_future_mean.sel(ssp = ssp, rgi_id = [list(dict_basins)[x]]).to_series(), mode='lines', name= \"Historical\", \n",
    "                                         line=dict(color=scen_colors[ssp], width = 1), showlegend=False), row=x+1, col=3)\n",
    "\n",
    "# legend\n",
    "fig.add_trace(go.Scatter(x=[0], y= [0], mode='lines', name= \"Historical\", line=dict(color=scen_colors[\"Historical\"], width = 1), showlegend=True), row=1, col=1)\n",
    "fig.add_trace(go.Scatter(x=[0], y= [0], mode='lines', name= \"SSP 1-2.6\", line=dict(color=scen_colors[\"ssp126\"], width = 1), showlegend=True), row=1, col=1)\n",
    "fig.add_trace(go.Scatter(x=[0], y= [0], mode='lines', name= \"SSP 5-8.5\", line=dict(color=scen_colors[\"ssp585\"], width = 1), showlegend=True), row=1, col=1)\n",
    "\n",
    "#  some tweaks\n",
    "for x in range(0,9):\n",
    "    fig.update_yaxes(tickformat=\".0%\", dtick = 0.4, range = [0, 1.29], row=x+1, col=1)\n",
    "\n",
    "fig.update_yaxes(ticks=\"outside\", griddash = \"dot\",  zeroline = False)\n",
    "fig.update_xaxes(range = (2000,2099), ticks=\"outside\", griddash = \"dot\", dtick = 20)\n",
    "fig.update_layout(legend=dict(yanchor=\"top\", y=1, xanchor=\"left\", x=0.185, orientation=\"v\", bgcolor = 'rgba(0,0,0,0.0)'))\n",
    "fig.update_layout(height=1200, width=1050, template = \"seaborn\", margin = dict(l=10, r=10, b=10, t=30), hovermode = False)\n",
    "\n",
    "# save figure \n",
    "fig.write_image(\"reports/figures/FigureS3_hydro_projections.png\", scale=4)\n",
    "#fig.show()"
   ]
  },
  {
   "cell_type": "markdown",
   "id": "06fb57aa-ed68-45ae-966b-325550491222",
   "metadata": {},
   "source": [
    "## Text"
   ]
  },
  {
   "cell_type": "code",
   "execution_count": null,
   "id": "ab192794-300f-42d0-8619-9373770883b8",
   "metadata": {},
   "outputs": [],
   "source": [
    "volume_future = xr.open_dataset(\"results/runoff/glacier_volume_future_all.nc\").volume\n",
    "volume_future = volume_future.sum(\"rgi_id\") \n",
    "volume_future = (1-(volume_future / volume_ref.sum(\"rgi_id\")))*100"
   ]
  },
  {
   "cell_type": "code",
   "execution_count": null,
   "id": "0be54161-a63d-4769-a19b-1ff8086c8224",
   "metadata": {},
   "outputs": [],
   "source": [
    "\"The volume loss varies from {:.0f} ± {:.0f}% in SSP 1-2.6 to {:.0f} ± {:.0f}% in SSP 5-8.5\".format(\n",
    "    volume_future.mean(\"gcm\").sel(time = 2099).sel(ssp = \"ssp126\").values,\n",
    "    volume_future.std(\"gcm\").sel(time = 2099).sel(ssp = \"ssp126\").values,\n",
    "    volume_future.mean(\"gcm\").sel(time = 2099).sel(ssp = \"ssp585\").values,\n",
    "    volume_future.std(\"gcm\").sel(time = 2099).sel(ssp = \"ssp585\").values)"
   ]
  },
  {
   "cell_type": "code",
   "execution_count": null,
   "id": "4267ba96-881d-40e7-b05a-8b34e33d9568",
   "metadata": {},
   "outputs": [],
   "source": [
    "runoff_future_2050 = runoff_future.sum(\"rgi_id\").sel(time = slice(\"2040-01-01\",\"2059-01-01\")).mean(\"time\").load()\n",
    "runoff_future_2090 = runoff_future.sum(\"rgi_id\").sel(time = slice(\"2080-01-01\",\"2099-01-01\")).mean(\"time\").load()\n",
    "melt_future_2050   = melt_future.sum(\"rgi_id\").sel(time = slice(\"2040-01-01\",\"2059-01-01\")).mean(\"time\").load()\n",
    "melt_future_2090   = melt_future.sum(\"rgi_id\").sel(time = slice(\"2080-01-01\",\"2099-01-01\")).mean(\"time\").load()"
   ]
  },
  {
   "cell_type": "code",
   "execution_count": null,
   "id": "7c8142b3-5115-43fe-bb62-ff2ae7dcd14f",
   "metadata": {},
   "outputs": [],
   "source": [
    "\"Historical melt mantains until mid century {:.1f} ± {:.1f}% and decreases to {:.1f} ± {:.1f}%  \".format(\n",
    "    melt_future_2050.mean(\"gcm\").sel(ssp = \"ssp585\").values * 100 / melt.sum(axis = 1).mean(),\n",
    "    melt_future_2050.std(\"gcm\").sel(ssp = \"ssp585\").values * 100 /  melt.sum(axis = 1).mean(), \n",
    "    melt_future_2090.mean(\"gcm\").sel(ssp = \"ssp585\").values * 100 / melt.sum(axis = 1).mean(),\n",
    "    melt_future_2090.std(\"gcm\").sel(ssp = \"ssp585\").values * 100 /  melt.sum(axis = 1).mean())"
   ]
  },
  {
   "cell_type": "code",
   "execution_count": null,
   "id": "b2c8e98f-3fcd-44a5-a25b-56fe83af16b1",
   "metadata": {},
   "outputs": [],
   "source": [
    "\"Historical runoff mantains until mid century {} and decreases to {} \".format(\n",
    "    runoff_future_2050.mean(\"gcm\").sel(ssp = \"ssp585\").values /    runoff.sum(axis = 1).mean(),    \n",
    "    runoff_future_2090.mean(\"gcm\").sel(ssp = \"ssp585\").values /    runoff.sum(axis = 1).mean())"
   ]
  },
  {
   "cell_type": "code",
   "execution_count": null,
   "id": "721f1a9f-969f-4caf-90b3-80c6812b1102",
   "metadata": {},
   "outputs": [],
   "source": []
  }
 ],
 "metadata": {
  "kernelspec": {
   "display_name": "climate",
   "language": "python",
   "name": "python3"
  },
  "language_info": {
   "codemirror_mode": {
    "name": "ipython",
    "version": 3
   },
   "file_extension": ".py",
   "mimetype": "text/x-python",
   "name": "python",
   "nbconvert_exporter": "python",
   "pygments_lexer": "ipython3",
   "version": "3.11.9"
  }
 },
 "nbformat": 4,
 "nbformat_minor": 5
}
