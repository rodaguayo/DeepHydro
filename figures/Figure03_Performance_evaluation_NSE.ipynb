{
 "cells": [
  {
   "cell_type": "markdown",
   "id": "5d0b9751-c0ac-43b3-9e7b-5e1a297c7ed5",
   "metadata": {},
   "source": [
    "# Figure 3: Performance evaluation [NSE] (PUR + PUB)"
   ]
  },
  {
   "cell_type": "code",
   "execution_count": 4,
   "id": "3e9ef5f0-99c1-4e92-bc1c-1b49fcccdf9b",
   "metadata": {
    "tags": []
   },
   "outputs": [],
   "source": [
    "import os \n",
    "import numpy as np\n",
    "import pandas as pd\n",
    "import geopandas as gpd\n",
    "\n",
    "import plotly.express as px\n",
    "import plotly.graph_objects as go\n",
    "from plotly.subplots import make_subplots\n",
    "\n",
    "os.chdir('/home/rooda/OneDrive/Projects/DeepHydro/')\n",
    "path_pmet = \"/home/rooda/OneDrive/Projects/PatagoniaMet/\""
   ]
  },
  {
   "cell_type": "markdown",
   "id": "61c90470-72cb-4687-862e-1cf2c5f504db",
   "metadata": {},
   "source": [
    "## Data"
   ]
  },
  {
   "cell_type": "code",
   "execution_count": 5,
   "id": "4e1efea8-4ae7-4209-a525-06ced8a087d3",
   "metadata": {
    "tags": []
   },
   "outputs": [],
   "source": [
    "# pmet-obs\n",
    "selection = gpd.read_file(\"data/GIS/Basins_PMETobs_points_subset.gpkg\").set_index(\"gauge_id\").sort_values(\"gauge_lat\", ascending = False)\n",
    "pmet_metadata = pd.read_csv(path_pmet + \"data/Zenodo/v11/Q_PMETobs_v11_metadata.csv\", index_col = 0)\n",
    "pmet_metadata = pmet_metadata.loc[selection.index]\n",
    "\n",
    "pmet_data = pd.read_csv(path_pmet + \"data/Zenodo/v11/Q_PMETobs_1950_2020_v11d.csv\", parse_dates= [\"Date\"], index_col = 0)\n",
    "pmet_data = pmet_data['1990-01-01' :'2019-12-31']\n",
    "pmet_data = pmet_data[selection.index]\n",
    "pmet_data = (pmet_data*1000*86400) / (pmet_metadata.total_area*1e6)"
   ]
  },
  {
   "cell_type": "code",
   "execution_count": 6,
   "id": "1b51b6ad-9a58-4e69-932d-7656c6a81b06",
   "metadata": {
    "tags": []
   },
   "outputs": [],
   "source": [
    "new_names = {\"Pearson-r\": \"r\", \"Beta-KGE\": \"Beta\", \"Alpha-NSE\": \"Gamma\"}\n",
    "\n",
    "# cross-validation (PUR)\n",
    "pur_lstm_oggm_on  = pd.read_csv(\"results/performance/Historical_CV_PUR_LSTM_OGGM_on.csv\", index_col = 0).rename(columns = new_names)\n",
    "pur_lstm_oggm_off = pd.read_csv(\"results/performance/Historical_CV_PUR_LSTM_OGGM_off.csv\", index_col = 0).rename(columns = new_names)\n",
    "pur_GR4J       = pd.read_csv(\"results/performance/Historical_CV_PUR_process_based.csv\")\n",
    "pur_GR4J       = pur_GR4J[pur_GR4J.Model == \"GR4J\"].set_index(\"Basin\")\n",
    "pur_TUWmodel   = pd.read_csv(\"results/performance/Historical_CV_PUR_process_based.csv\")\n",
    "pur_TUWmodel   = pur_TUWmodel[pur_TUWmodel.Model == \"TUWmodel\"].set_index(\"Basin\")\n",
    "\n",
    "# cross-validation (PUB)\n",
    "pub_lstm_oggm_on  = pd.read_csv(\"results/performance/Historical_CV_PUB_LSTM_OGGM_on.csv\", index_col = 0).rename(columns = new_names)\n",
    "pub_lstm_oggm_off = pd.read_csv(\"results/performance/Historical_CV_PUB_LSTM_OGGM_off.csv\", index_col = 0).rename(columns = new_names)\n",
    "pub_GR4J       = pd.read_csv(\"results/performance/Historical_CV_PUB_process_based.csv\")\n",
    "pub_GR4J       = pub_GR4J[pub_GR4J.Model == \"GR4J\"].set_index(\"Basin\")\n",
    "pub_TUWmodel   = pd.read_csv(\"results/performance/Historical_CV_PUB_process_based.csv\")\n",
    "pub_TUWmodel   = pub_TUWmodel[pub_TUWmodel.Model == \"TUWmodel\"].set_index(\"Basin\")\n",
    "\n",
    "# only one df\n",
    "lstm_oggm_on  = pd.concat([pur_lstm_oggm_on, pub_lstm_oggm_on], keys=['PUR', 'PUB'], axis = 1).reindex(selection.index)\n",
    "lstm_oggm_off = pd.concat([pur_lstm_oggm_off, pub_lstm_oggm_off], keys=['PUR', 'PUB'], axis = 1).reindex(selection.index)\n",
    "GR4J          = pd.concat([pur_GR4J, pub_GR4J], keys=['PUR', 'PUB'], axis = 1).reindex(selection.index)\n",
    "TUWmodel      = pd.concat([pur_TUWmodel, pub_TUWmodel], keys=['PUR', 'PUB'], axis = 1).reindex(selection.index)"
   ]
  },
  {
   "cell_type": "markdown",
   "id": "6f4c23cd-3a79-4a13-a8c0-faa372b39232",
   "metadata": {},
   "source": [
    "## Plot"
   ]
  },
  {
   "cell_type": "code",
   "execution_count": 8,
   "id": "0fb4eaae-2936-42d3-a9fa-f7e81e1efb15",
   "metadata": {},
   "outputs": [],
   "source": [
    "colorscale = [(0, \"#ccebc5\"), (0.3, \"#4eb3d3\"), (1, \"#034b8a\")]\n",
    "parameter = \"NSE\"\n",
    "\n",
    "fig = make_subplots(rows=2, cols=3, horizontal_spacing = 0.02, vertical_spacing= 0.03, shared_yaxes= True, shared_xaxes= True, row_titles= [\"PUB\", \"PUR\"])\n",
    "\n",
    "for x in range (0,2): \n",
    "    for y in range(0,3):\n",
    "        fig.add_trace(go.Scatter(x= np.array([-1,1]), y= np.array([-1,1]), mode='lines',  line=dict(color='black', width=1, dash='dot'), showlegend = False), row = x+1, col = y+1)\n",
    "\n",
    "fig.add_trace(go.Scatter(x= lstm_oggm_off[\"PUB\"][parameter], y= lstm_oggm_on[\"PUB\"][parameter], text=pmet_metadata.gauge_name,  marker=dict(size=np.exp2(np.log10(pmet_metadata.total_area)), \n",
    "            color=pmet_metadata.glacier_cover, opacity = 0.9, showscale = True, line_width = 1, line_color = \"grey\", cmin = 0, cmax = 40,\n",
    "                                     colorscale=colorscale, colorbar=dict(len=1, x=1.01, title='Glacier<br>area (%)', thickness=20, tickwidth=1)), \n",
    "                         mode='markers', showlegend = False), row = 1, col = 1)\n",
    "\n",
    "fig.add_trace(go.Scatter(x= TUWmodel[\"PUB\"][parameter], y= lstm_oggm_on[\"PUB\"][parameter], text=pmet_metadata.gauge_name,  marker=dict(size=np.exp2(np.log10(pmet_metadata.total_area)), \n",
    "                                     color=pmet_metadata.glacier_cover, opacity = 0.9, showscale = False, line_width = 1, line_color = \"grey\", cmin = 0, cmax = 40,\n",
    "                                     colorscale=colorscale), mode='markers', showlegend = False), row = 1, col = 2)\n",
    "\n",
    "fig.add_trace(go.Scatter(x= GR4J[\"PUB\"][parameter], y= lstm_oggm_on[\"PUB\"][parameter], text=pmet_metadata.gauge_name,  marker=dict(size=np.exp2(np.log10(pmet_metadata.total_area)), \n",
    "                                     color=pmet_metadata.glacier_cover, opacity = 0.9, showscale = False, line_width = 1, line_color = \"grey\", cmin = 0, cmax = 40,\n",
    "                                     colorscale=colorscale), mode='markers', showlegend = False), row = 1, col = 3)\n",
    "\n",
    "fig.add_trace(go.Scatter(x= lstm_oggm_off[\"PUR\"][parameter], y= lstm_oggm_on[\"PUR\"][parameter], text=pmet_metadata.gauge_name,  marker=dict(size=np.exp2(np.log10(pmet_metadata.total_area)), \n",
    "                                     color=pmet_metadata.glacier_cover, opacity = 0.9, line_width = 1, line_color = \"grey\", cmin = 0, cmax = 40,\n",
    "                                     colorscale=colorscale,showscale = False),  mode='markers', showlegend = False), row = 2, col = 1)\n",
    "\n",
    "fig.add_trace(go.Scatter(x= TUWmodel[\"PUR\"][parameter], y= lstm_oggm_on[\"PUR\"][parameter], text=pmet_metadata.gauge_name,  marker=dict(size=np.exp2(np.log10(pmet_metadata.total_area)), \n",
    "                                     color=pmet_metadata.glacier_cover, opacity = 0.9, showscale = False, line_width = 1, line_color = \"grey\", cmin = 0, cmax = 40,\n",
    "                                     colorscale=colorscale), mode='markers', showlegend = False), row = 2, col = 2)\n",
    "\n",
    "fig.add_trace(go.Scatter(x= GR4J[\"PUR\"][parameter], y= lstm_oggm_on[\"PUR\"][parameter], text=pmet_metadata.gauge_name,  marker=dict(size=np.exp2(np.log10(pmet_metadata.total_area)), \n",
    "                                     color=pmet_metadata.glacier_cover, opacity = 0.9, showscale = False, line_width = 1, line_color = \"grey\", cmin = 0, cmax = 40,\n",
    "                                     colorscale=colorscale), mode='markers', showlegend = False), row = 2, col = 3)\n",
    "\n",
    "fig.add_annotation(text=\"a)\", font=dict(size=16), x=-0.15, y=0.95, showarrow=False, row=1, col=1)\n",
    "fig.add_annotation(text=\"b)\", font=dict(size=16), x=-0.15, y=0.95, showarrow=False, row=1, col=2)\n",
    "fig.add_annotation(text=\"c)\", font=dict(size=16), x=-0.15, y=0.95, showarrow=False, row=1, col=3)\n",
    "fig.add_annotation(text=\"d)\", font=dict(size=16), x=-0.15, y=0.95, showarrow=False, row=2, col=1)\n",
    "fig.add_annotation(text=\"e)\", font=dict(size=16), x=-0.15, y=0.95, showarrow=False, row=2, col=2)\n",
    "fig.add_annotation(text=\"f)\", font=dict(size=16), x=-0.15, y=0.95, showarrow=False, row=2, col=3)\n",
    "\n",
    "fig.add_annotation(x=0.25, y=0.5, ax=65, ay=65, arrowcolor= \"black\", arrowwidth= 1.5, showarrow=True, arrowhead=4, row=1, col=1)\n",
    "fig.add_annotation(x=0.08, y=0.54, text=\"Hybrid approach<br>is better\", \n",
    "                   font=dict(size=15),  opacity= 0.9, showarrow=False, row=1, col=1)\n",
    "\n",
    "fig.update_yaxes(title = \"NSE (LSTM + OGGM)\",     title_standoff = 5, col = 1)\n",
    "fig.update_xaxes(title = \"NSE (Only LSTM)\",       title_standoff = 5, row = 2, col = 1)\n",
    "fig.update_xaxes(title = \"NSE (TUWmodel + OGGM)\", title_standoff = 5, row = 2, col = 2)\n",
    "fig.update_xaxes(title = \"NSE (GR4J + OGGM)\",     title_standoff = 5, row = 2, col = 3)\n",
    "fig.update_xaxes(ticks=\"outside\", griddash = \"dot\", range = [-0.2, 1], dtick = 0.2)\n",
    "fig.update_yaxes(ticks=\"outside\", griddash = \"dot\", range = [-0.2, 1], dtick = 0.2)\n",
    "\n",
    "fig.update_layout(font=dict(size=13), autosize = False, width = 1100, height = 700, template = \"seaborn\", margin = dict(l=5, r=0, b=5, t=5))\n",
    "fig.update_layout(legend=dict(y=0.52, x = 1.01, orientation=\"v\"))\n",
    "\n",
    "fig.write_image(\"reports/figures/Figure3_Performance_calibration_{}.png\".format(parameter), scale = 4)\n",
    "#fig.show()"
   ]
  },
  {
   "cell_type": "markdown",
   "id": "942fe62b-1648-4854-9be3-32f5169dd237",
   "metadata": {},
   "source": [
    "## Text"
   ]
  },
  {
   "cell_type": "code",
   "execution_count": null,
   "id": "f35b728d-424b-4751-bcac-0f2f6f307975",
   "metadata": {},
   "outputs": [],
   "source": [
    "parameter = \"NSE\""
   ]
  },
  {
   "cell_type": "code",
   "execution_count": null,
   "id": "74620cf8-1287-40af-a415-44738c9ff480",
   "metadata": {
    "tags": []
   },
   "outputs": [],
   "source": [
    "# OGGM on > alternatives (PUB)\n",
    "\"OGGM on is better than OGGM off, TUWmodel and GR4J in {:.0f}%, {:.0f}% and {:.0f}%\".format(\n",
    "    (lstm_oggm_on[\"PUB\"][parameter] > lstm_oggm_off[\"PUB\"][parameter]).sum() * 100 / len(lstm_oggm_on),\n",
    "    (lstm_oggm_on[\"PUB\"][parameter] > TUWmodel[\"PUB\"][parameter]).sum() * 100 / len(lstm_oggm_on),\n",
    "    (lstm_oggm_on[\"PUB\"][parameter] > GR4J[\"PUB\"][parameter]).sum() * 100 / len(lstm_oggm_on))"
   ]
  },
  {
   "cell_type": "code",
   "execution_count": null,
   "id": "3e62be79-02f2-4452-8f86-52ba27075909",
   "metadata": {},
   "outputs": [],
   "source": [
    "# OGGM on > ALL alternatives (PUR)\n",
    "\"OGGM on is better than OGGM off, TUWmodel and GR4J in {:.0f}%, {:.0f}% and {:.0f}%\".format(\n",
    "    (lstm_oggm_on[\"PUR\"][parameter] > lstm_oggm_off[\"PUR\"][parameter]).sum() * 100 / len(lstm_oggm_on),\n",
    "    (lstm_oggm_on[\"PUR\"][parameter] > TUWmodel[\"PUR\"][parameter]).sum() * 100 / len(lstm_oggm_on),\n",
    "    (lstm_oggm_on[\"PUR\"][parameter] > GR4J[\"PUR\"][parameter]).sum() * 100 / len(lstm_oggm_on))"
   ]
  },
  {
   "cell_type": "code",
   "execution_count": null,
   "id": "f5510312-0b05-4c5f-8be9-c02157591ee7",
   "metadata": {},
   "outputs": [],
   "source": [
    "# OGGM on > ALL alternatives (PUB)\n",
    "exp = \"PUB\"\n",
    "\n",
    "\"OGGM on is better than all alternatives in {:.0f}% of the basins\".format(\n",
    "    (pd.concat([lstm_oggm_on[exp][parameter].rename(\"OGGM_on\"), lstm_oggm_off[exp][parameter], TUWmodel[exp][parameter], GR4J[exp][parameter]], axis = 1).idxmax(axis=1) == \"OGGM_on\").sum()*100/len(selection))"
   ]
  },
  {
   "cell_type": "code",
   "execution_count": null,
   "id": "147b68b9-bcf9-4aa2-9f01-e52653f44b78",
   "metadata": {},
   "outputs": [],
   "source": [
    "# OGGM on > ALL alternatives (PUR)\n",
    "exp = \"PUR\"\n",
    "\n",
    "\"OGGM on is better than all alternatives in {:.0f}% of the basins\".format(\n",
    "    (pd.concat([lstm_oggm_on[exp][parameter].rename(\"OGGM_on\"), lstm_oggm_off[exp][parameter], TUWmodel[exp][parameter], GR4J[exp][parameter]], axis = 1).idxmax(axis=1) == \"OGGM_on\").sum()*100/len(selection))"
   ]
  },
  {
   "cell_type": "code",
   "execution_count": null,
   "id": "f3404759-1833-4135-96b2-5109fc517c24",
   "metadata": {},
   "outputs": [],
   "source": [
    "# Median NSE (only basin with glaciers)\n",
    "threshold = 5\n",
    "exp = \"PUR\"\n",
    "\n",
    "\"Median NSE for all models {:.2f}, {:.2f} and {:.2f}, {:.2f}, (in total {} basins)\".format(\n",
    "    lstm_oggm_on[exp][parameter][selection.glacier_a > threshold].median(),\n",
    "    lstm_oggm_off[exp][parameter][selection.glacier_a > threshold].median(),\n",
    "    TUWmodel[exp][parameter][selection.glacier_a > threshold].median(),\n",
    "    GR4J[exp][parameter][selection.glacier_a > threshold].median(),\n",
    "    len(lstm_oggm_on[selection.glacier_a > threshold].index))"
   ]
  },
  {
   "cell_type": "code",
   "execution_count": null,
   "id": "aa5bfa3f-98f3-48ea-99c5-ef38d0a1837b",
   "metadata": {},
   "outputs": [],
   "source": []
  }
 ],
 "metadata": {
  "kernelspec": {
   "display_name": "climate",
   "language": "python",
   "name": "python3"
  },
  "language_info": {
   "codemirror_mode": {
    "name": "ipython",
    "version": 3
   },
   "file_extension": ".py",
   "mimetype": "text/x-python",
   "name": "python",
   "nbconvert_exporter": "python",
   "pygments_lexer": "ipython3",
   "version": "3.11.9"
  }
 },
 "nbformat": 4,
 "nbformat_minor": 5
}
