{
 "cells": [
  {
   "cell_type": "markdown",
   "id": "9c9b64f0-5b96-4828-b54e-d2aafb92062a",
   "metadata": {},
   "source": [
    "# Figure 4: Performance evaluation [all metrics] (PUR + PUB)"
   ]
  },
  {
   "cell_type": "code",
   "execution_count": null,
   "id": "5c2441ae-192f-47f8-96d0-b01e6a41d8c2",
   "metadata": {
    "tags": []
   },
   "outputs": [],
   "source": [
    "import os \n",
    "import numpy as np\n",
    "import pandas as pd\n",
    "\n",
    "import plotly.express as px\n",
    "import plotly.graph_objects as go\n",
    "from plotly.subplots import make_subplots\n",
    "\n",
    "os.chdir('/home/rooda/OneDrive/Projects/DeepHydro/')\n",
    "path_pmet = \"/home/rooda/OneDrive/Projects/PatagoniaMet/\""
   ]
  },
  {
   "cell_type": "code",
   "execution_count": null,
   "id": "290779be-2961-42e7-b213-1df7fe134074",
   "metadata": {
    "tags": []
   },
   "outputs": [],
   "source": [
    "new_names = {\"Pearson-r\": \"r\", \"Beta-KGE\": \"Beta\", \"Alpha-NSE\": \"Gamma\"}"
   ]
  },
  {
   "cell_type": "markdown",
   "id": "4f6b7b6c-9529-4a09-8c29-e771bd51fc23",
   "metadata": {},
   "source": [
    "## Data"
   ]
  },
  {
   "cell_type": "code",
   "execution_count": null,
   "id": "f2bbfcc8-408b-4246-b939-2b6cdd934f2f",
   "metadata": {
    "tags": []
   },
   "outputs": [],
   "source": [
    "# cross-validation (PUR)\n",
    "pur_lstm_oggm_on  = pd.read_csv(\"results/performance/Historical_CV_PUR_LSTM_OGGM_on.csv\", index_col = 0).rename(columns = new_names)\n",
    "pur_lstm_oggm_off = pd.read_csv(\"results/performance/Historical_CV_PUR_LSTM_OGGM_off.csv\", index_col = 0).rename(columns = new_names)\n",
    "pur_GR4J       = pd.read_csv(\"results/performance/Historical_CV_PUR_process_based.csv\")\n",
    "pur_GR4J       = pur_GR4J[pur_GR4J.Model == \"GR4J\"].set_index(\"Basin\").drop(\"Model\", axis = 1)\n",
    "pur_TUWmodel   = pd.read_csv(\"results/performance/Historical_CV_PUR_process_based.csv\")\n",
    "pur_TUWmodel   = pur_TUWmodel[pur_TUWmodel.Model == \"TUWmodel\"].set_index(\"Basin\").drop(\"Model\", axis = 1)\n",
    "\n",
    "# cross-validation (PUB)\n",
    "pub_lstm_oggm_on  = pd.read_csv(\"results/performance/Historical_CV_PUB_LSTM_OGGM_on.csv\", index_col = 0).rename(columns = new_names)\n",
    "pub_lstm_oggm_off = pd.read_csv(\"results/performance/Historical_CV_PUB_LSTM_OGGM_off.csv\", index_col = 0).rename(columns = new_names)\n",
    "pub_GR4J       = pd.read_csv(\"results/performance/Historical_CV_PUB_process_based.csv\")\n",
    "pub_GR4J       = pub_GR4J[pub_GR4J.Model == \"GR4J\"].set_index(\"Basin\").drop(\"Model\", axis = 1)\n",
    "pub_TUWmodel   = pd.read_csv(\"results/performance/Historical_CV_PUB_process_based.csv\")\n",
    "pub_TUWmodel   = pub_TUWmodel[pub_TUWmodel.Model == \"TUWmodel\"].set_index(\"Basin\").drop(\"Model\", axis = 1)\n",
    "\n",
    "# only one df\n",
    "lstm_oggm_on  = pd.concat([pur_lstm_oggm_on, pub_lstm_oggm_on], keys=['PUR', 'PUB'], axis = 1).reindex(pur_lstm_oggm_on.index)\n",
    "lstm_oggm_off = pd.concat([pur_lstm_oggm_off, pub_lstm_oggm_off], keys=['PUR', 'PUB'], axis = 1).reindex(pur_lstm_oggm_on.index)\n",
    "GR4J          = pd.concat([pur_GR4J, pub_GR4J], keys=['PUR', 'PUB'], axis = 1).reindex(pur_lstm_oggm_on.index)\n",
    "TUWmodel      = pd.concat([pur_TUWmodel, pub_TUWmodel], keys=['PUR', 'PUB'], axis = 1).reindex(pur_lstm_oggm_on.index)"
   ]
  },
  {
   "cell_type": "markdown",
   "id": "8e2945ec-de81-4887-a1cd-59a334dd2f22",
   "metadata": {},
   "source": [
    "## Plot"
   ]
  },
  {
   "cell_type": "code",
   "execution_count": null,
   "id": "be1a2038-402e-440b-a471-a618878af808",
   "metadata": {
    "tags": []
   },
   "outputs": [],
   "source": [
    "fig = make_subplots(rows=3, cols=2, vertical_spacing = 0.03, shared_xaxes = True,\n",
    "                    horizontal_spacing = 0.07)\n",
    "\n",
    "cl = px.colors.qualitative.D3\n",
    "color_dic = {\"PUB\" : 0.85, \"PUR\" : 0.45}\n",
    "\n",
    "for sce in [\"PUB\", \"PUR\"]:\n",
    "\n",
    "    # NSE -----------------------------------------------------------------------------------------------------------\n",
    "    fig.add_trace(go.Box(y = lstm_oggm_on[sce].NSE,  marker_color= cl[0], name = \"LSTM + OGGM\", offsetgroup= sce, opacity=color_dic[sce], showlegend = False), row=1, col=1)\n",
    "    fig.add_trace(go.Box(y = lstm_oggm_off[sce].NSE, marker_color= cl[2], name = \"Only LSTM\", offsetgroup= sce, opacity=color_dic[sce], showlegend = False), row=1, col=1)\n",
    "    fig.add_trace(go.Box(y = TUWmodel[sce].NSE, marker_color= cl[1], name = \"TUWmodel + OGGM\", offsetgroup= sce,  opacity=color_dic[sce],  showlegend = False), row=1, col=1)\n",
    "    fig.add_trace(go.Box(y = GR4J[sce].NSE, marker_color= cl[4], name = \"GR4J + OGGM\", offsetgroup= sce, opacity=color_dic[sce],  showlegend = False), row=1, col=1)\n",
    "    \n",
    "    # KGE -----------------------------------------------------------------------------------------------------------\n",
    "    fig.add_trace(go.Box(y = lstm_oggm_on[sce].KGE, marker_color= cl[0], name = \"LSTM + OGGM\",offsetgroup= sce,  opacity=color_dic[sce],  showlegend = False), row=1, col=2)\n",
    "    fig.add_trace(go.Box(y = lstm_oggm_off[sce].KGE, marker_color= cl[2], name = \"Only LSTM\",offsetgroup= sce,  opacity=color_dic[sce],  showlegend = False), row=1, col=2)\n",
    "    fig.add_trace(go.Box(y = TUWmodel[sce].KGE, marker_color= cl[1], name = \"TUWmodel + OGGM\",  offsetgroup= sce, opacity=color_dic[sce], showlegend = False), row=1, col=2)\n",
    "    fig.add_trace(go.Box(y = GR4J[sce].KGE, marker_color= cl[4], name = \"GR4J + OGGM\",  offsetgroup= sce, opacity=color_dic[sce], showlegend = False), row=1, col=2)\n",
    "    \n",
    "    # Gamma -----------------------------------------------------------------------------------------------------------\n",
    "    fig.add_trace(go.Box(y = lstm_oggm_on[sce].Gamma, marker_color= cl[0], name = \"LSTM + OGGM\",offsetgroup= sce, opacity=color_dic[sce], showlegend = False), row=2, col=1)\n",
    "    fig.add_trace(go.Box(y = lstm_oggm_off[sce].Gamma, marker_color= cl[2], name = \"Only LSTM\",offsetgroup= sce,  opacity=color_dic[sce], showlegend = False), row=2, col=1)\n",
    "    fig.add_trace(go.Box(y = TUWmodel[sce].Gamma, marker_color= cl[1], name = \"TUWmodel + OGGM\", offsetgroup= sce, opacity=color_dic[sce], showlegend = False), row=2, col=1)\n",
    "    fig.add_trace(go.Box(y = GR4J[sce].Gamma, marker_color= cl[4], name = \"GR4J + OGGM\", offsetgroup= sce, opacity=color_dic[sce], showlegend = False), row=2, col=1)\n",
    "    \n",
    "    # FMS -----------------------------------------------------------------------------------------------------------\n",
    "    fig.add_trace(go.Box(y = lstm_oggm_on[sce].FMS/100, marker_color= cl[0], name = \"LSTM + OGGM\", offsetgroup= sce, opacity=color_dic[sce], showlegend = False), row=2, col=2)\n",
    "    fig.add_trace(go.Box(y = lstm_oggm_off[sce].FMS/100, marker_color= cl[2], name = \"Only LSTM\", offsetgroup= sce, opacity=color_dic[sce], showlegend = False), row=2, col=2)\n",
    "    fig.add_trace(go.Box(y = TUWmodel[sce].FMS/100, marker_color= cl[1], name = \"TUWmodel + OGGM\", offsetgroup= sce, opacity=color_dic[sce], showlegend = False), row=2, col=2)\n",
    "    fig.add_trace(go.Box(y = GR4J[sce].FMS/100, marker_color= cl[4], name = \"GR4J + OGGM\", offsetgroup= sce, opacity=color_dic[sce], showlegend = False), row=2, col=2)\n",
    "    \n",
    "    # FHV -----------------------------------------------------------------------------------------------------------\n",
    "    fig.add_trace(go.Box(y = lstm_oggm_on[sce].FHV/100, marker_color= cl[0], name = \"LSTM + OGGM\", offsetgroup= sce, opacity=color_dic[sce], showlegend = False), row=3, col=1)\n",
    "    fig.add_trace(go.Box(y = lstm_oggm_off[sce].FHV/100, marker_color= cl[2], name = \"Only LSTM\", offsetgroup= sce, opacity=color_dic[sce], showlegend = False), row=3, col=1)\n",
    "    fig.add_trace(go.Box(y = TUWmodel[sce].FHV/100, marker_color= cl[1], name = \"TUWmodel + OGGM\", offsetgroup= sce, opacity=color_dic[sce], showlegend = False), row=3, col=1)\n",
    "    fig.add_trace(go.Box(y = GR4J[sce].FHV/100, marker_color= cl[4], name = \"GR4J + OGGM\", offsetgroup= sce, opacity=color_dic[sce], showlegend = False), row=3, col=1)\n",
    "    \n",
    "    # FLV -----------------------------------------------------------------------------------------------------------\n",
    "    fig.add_trace(go.Box(y = lstm_oggm_on[sce].FLV/100, marker_color= cl[0], name = \"LSTM + OGGM\", offsetgroup= sce, opacity=color_dic[sce], showlegend = False), row=3, col=2)\n",
    "    fig.add_trace(go.Box(y = lstm_oggm_off[sce].FLV/100, marker_color= cl[2], name = \"Only LSTM\", offsetgroup= sce, opacity=color_dic[sce], showlegend = False), row=3, col=2)\n",
    "    fig.add_trace(go.Box(y = TUWmodel[sce].FLV/100, marker_color= cl[1], name = \"TUWmodel + OGGM\", offsetgroup= sce, opacity=color_dic[sce], showlegend = False), row=3, col=2)\n",
    "    fig.add_trace(go.Box(y = GR4J[sce].FLV/100, marker_color= cl[4], name = \"GR4J + OGGM\", offsetgroup= sce, opacity=color_dic[sce], showlegend = False), row=3, col=2)\n",
    "\n",
    "# Axes\n",
    "fig.add_hline(y=1, line_width=1, line_dash=\"dot\", line_color=\"black\", opacity=0.7, row = 1, col = 1)\n",
    "fig.update_yaxes(title = \"NSE\", title_standoff = 0, range = [-0.5, 1.01], dtick = 0.5, row = 1, col = 1)\n",
    "fig.add_annotation(text=\"a)\", font=dict(size=16), x=-0.5, y=-0.4, showarrow=False, row=1, col=1)\n",
    "\n",
    "fig.add_hline(y=1, line_width=1, line_dash=\"dot\", line_color=\"black\", opacity=0.7, row = 1, col = 2)\n",
    "fig.update_yaxes(title = \"mKGE\", title_standoff = 0, range = [-0.5, 1.01], dtick = 0.5, row=1, col=2)\n",
    "fig.add_annotation(text=\"b)\", font=dict(size=16), x=-0.5, y=-0.4, showarrow=False, row=1, col=2)\n",
    "\n",
    "fig.add_hline(y=1, line_width=1, line_dash=\"dot\", line_color=\"black\", opacity=0.7, row = 2, col = 1)\n",
    "fig.update_yaxes(title = \"Ratio CVs\", title_standoff = 0, range = [0, 2], dtick = 0.5, row=2, col=1)\n",
    "fig.add_annotation(text=\"c)\", font=dict(size=16), x=-0.5, y=0.1,  showarrow=False, row=2, col=1)\n",
    "\n",
    "fig.add_hline(y=0, line_width=1, line_dash=\"dot\", line_color=\"black\", opacity=0.7, row = 2, col = 2)\n",
    "fig.update_yaxes(title = \"FMS\", title_standoff = 0, range = [-0.99, 0.99], tickformat = \",.0%\", dtick = 0.5, row = 2, col = 2)\n",
    "fig.add_annotation(text=\"d)\", font=dict(size=16), x=-0.5, y=-0.9, showarrow=False, row=2, col=2)\n",
    "\n",
    "fig.add_hline(y=0, line_width=1, line_dash=\"dot\", line_color=\"black\", opacity=0.7, row = 3, col = 1)\n",
    "fig.update_yaxes(title = \"FHV\", title_standoff = 0, range = [-0.99, 0.99],tickformat = \",.0%\", row = 3, col = 1)\n",
    "fig.add_annotation(text=\"e)\", font=dict(size=16), x=-0.5, y=-0.90, showarrow=False, row=3, col=1)\n",
    "    \n",
    "fig.add_hline(y=0, line_width=1, line_dash=\"dot\", line_color=\"black\", opacity=0.7, row = 3, col = 2)\n",
    "fig.update_yaxes(title = \"FLV\", title_standoff = 0, range = [-0.99, 0.99], tickformat = \",.0%\", row = 3, col = 2)\n",
    "fig.add_annotation(text=\"f)\", font=dict(size=16), x=-0.5, y=-0.90, showarrow=False, row=3, col=2)\n",
    "\n",
    "# Legends\n",
    "fig.add_annotation(x=0.80, y=1.03, xref = \"paper\", yref = \"paper\", text=\"  \", showarrow = False, bgcolor=cl[0], opacity=0.85)\n",
    "fig.add_annotation(x=0.81, y=1.03, xref = \"paper\", yref = \"paper\", text=\"  \", showarrow = False, bgcolor=cl[2], opacity=0.85)\n",
    "fig.add_annotation(x=0.82, y=1.03, xref = \"paper\", yref = \"paper\", text=\"  \", showarrow = False, bgcolor=cl[1], opacity=0.85)\n",
    "fig.add_annotation(x=0.83, y=1.03, xref = \"paper\", yref = \"paper\", text=\"  \", showarrow = False, bgcolor=cl[4], opacity=0.85)\n",
    "fig.add_annotation(x=0.87, y=1.03, xref = \"paper\", yref = \"paper\", text=\"PUB\", showarrow = False, font=dict(size=14))\n",
    "\n",
    "fig.add_annotation(x=0.90, y=1.03, xref = \"paper\", yref = \"paper\", text=\"  \", showarrow = False, bgcolor=cl[0], opacity=0.45)\n",
    "fig.add_annotation(x=0.91, y=1.03, xref = \"paper\", yref = \"paper\", text=\"  \", showarrow = False, bgcolor=cl[2], opacity=0.45)\n",
    "fig.add_annotation(x=0.92, y=1.03, xref = \"paper\", yref = \"paper\", text=\"  \", showarrow = False, bgcolor=cl[1], opacity=0.45)\n",
    "fig.add_annotation(x=0.93, y=1.03, xref = \"paper\", yref = \"paper\", text=\"  \", showarrow = False, bgcolor=cl[4], opacity=0.45)\n",
    "fig.add_annotation(x=0.97, y=1.03, xref = \"paper\", yref = \"paper\", text=\"PUR\", showarrow = False, font=dict(size=14))\n",
    "\n",
    "# Layout -------------------------------------------------------------------------------------------------------------------\n",
    "fig.update_xaxes(ticks=\"outside\", griddash = \"dot\")\n",
    "fig.update_yaxes(ticks=\"outside\", griddash = \"dot\")\n",
    "\n",
    "fig.update_layout(boxmode='group', boxgap=0.3, font_size = 13)\n",
    "fig.update_layout(legend=dict(bgcolor = 'rgba(0,0,0,0.0)'))\n",
    "fig.update_layout(autosize = False, width = 1050, height = 800, template = \"seaborn\", margin = dict(l=10, r=5, b=5, t=25))\n",
    "\n",
    "fig.write_image(\"reports/figures/Figure4_Performance_evaluation.png\", scale = 4)\n",
    "fig.show()"
   ]
  },
  {
   "cell_type": "markdown",
   "id": "fe9099dc-b1f6-478d-94dc-2f9546dfe450",
   "metadata": {},
   "source": [
    "## Text"
   ]
  },
  {
   "cell_type": "code",
   "execution_count": null,
   "id": "fe9af167-c258-4a55-b345-551116bc00df",
   "metadata": {
    "tags": []
   },
   "outputs": [],
   "source": [
    "# comparison PUB vs PUR\n",
    "df   = pd.concat([lstm_oggm_on, lstm_oggm_off, TUWmodel, GR4J], keys=['LSTM_OGGM', 'LSTM', \"TUWmodel\", \"GR4J\"], axis = 1)\n",
    "df_nse = df.xs(key=\"NSE\", level=2, axis=1)\n",
    "df_nse.median().round(2)"
   ]
  },
  {
   "cell_type": "code",
   "execution_count": null,
   "id": "7557f78e-b131-4dfa-b9c1-9e4ca0a574f9",
   "metadata": {},
   "outputs": [],
   "source": []
  }
 ],
 "metadata": {
  "kernelspec": {
   "display_name": "neural",
   "language": "python",
   "name": "python3"
  },
  "language_info": {
   "codemirror_mode": {
    "name": "ipython",
    "version": 3
   },
   "file_extension": ".py",
   "mimetype": "text/x-python",
   "name": "python",
   "nbconvert_exporter": "python",
   "pygments_lexer": "ipython3",
   "version": "3.10.13"
  }
 },
 "nbformat": 4,
 "nbformat_minor": 5
}
