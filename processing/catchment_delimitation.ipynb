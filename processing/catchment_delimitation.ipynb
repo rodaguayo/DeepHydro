{
 "cells": [
  {
   "cell_type": "markdown",
   "id": "6164eb13-4f9e-4c51-bb1e-c7f0f5a37cfc",
   "metadata": {},
   "source": [
    "# Code for basin delimitation"
   ]
  },
  {
   "cell_type": "code",
   "execution_count": 2,
   "id": "af7fc119-38bf-4e0b-a345-5bd577581061",
   "metadata": {},
   "outputs": [],
   "source": [
    "# basic\n",
    "import numpy as np\n",
    "import os\n",
    "\n",
    "import geopandas as gpd\n",
    "\n",
    "# grass\n",
    "import grass.jupyter as gj\n",
    "import grass.script as gs\n",
    "from grass.pygrass.modules.grid import GridModule\n",
    "\n",
    "os.chdir('/home/rooda/OneDrive/Projects/DeepHydro')\n",
    "pmet_path = '/home/rooda/OneDrive/Projects/PatagoniaMet/'"
   ]
  },
  {
   "cell_type": "markdown",
   "id": "ea3a2407-ff2d-4dff-924a-d98010f6867a",
   "metadata": {},
   "source": [
    "## Elevation"
   ]
  },
  {
   "cell_type": "code",
   "execution_count": null,
   "id": "74879ae4-7b9e-4873-b136-e2305f939afb",
   "metadata": {},
   "outputs": [],
   "source": [
    "# import raster NASADEM 30 m\n",
    "gs.run_command(\"r.import\", input= pmet_path + \"GIS/dem_patagonia3f.tif\", output=\"elevation_lr\", flags = \"o\", overwrite=True)\n",
    "gs.run_command(\"g.region\", raster=\"elevation_lr\", flags=\"p\")"
   ]
  },
  {
   "cell_type": "code",
   "execution_count": null,
   "id": "2bace2d5-534d-4643-bdf8-4e4aaed010e9",
   "metadata": {},
   "outputs": [],
   "source": [
    "# sink removal using Lindsay et al. (2005) [MULTICORE]\n",
    "grid = GridModule(\"r.hydrodem\", input=\"elevation_lr\", \n",
    "                  output = \"elevation_filled\",\n",
    "                  overwrite = True, processes = 20)\n",
    "grid.run()"
   ]
  },
  {
   "cell_type": "markdown",
   "id": "91fb92c5-f16c-49c0-964b-db8b7ecfea4a",
   "metadata": {},
   "source": [
    "## Delimitate all basins "
   ]
  },
  {
   "cell_type": "code",
   "execution_count": null,
   "id": "9d8e930c-d32e-4d2b-bc38-df9071809ec4",
   "metadata": {},
   "outputs": [],
   "source": [
    "# calculate accumulation raster map and drainage direction raster map using MFD: multiple flow direction\n",
    "gs.run_command(\"r.stream.extract\", \n",
    "                  elevation = \"elevation_lr\",  \n",
    "                  threshold = 200,\n",
    "                  direction = \"fdir\", \n",
    "                  stream_raster = \"stream_r\",\n",
    "                  overwrite = True)\n",
    "\n",
    "gs.run_command(\"r.stream.basins\", \n",
    "               direction=\"fdir\", \n",
    "               stream_rast = \"stream_r\", \n",
    "               basins=\"basins\", \n",
    "               flags=\"l\", \n",
    "               overwrite = True)"
   ]
  },
  {
   "cell_type": "code",
   "execution_count": null,
   "id": "a63fa6b6-1dab-4c60-aedc-e73555cfa031",
   "metadata": {},
   "outputs": [],
   "source": [
    "# save\n",
    "gs.run_command('r.to.vect', input=\"basins\", output= 'basins_vect', overwrite=True, type = \"area\")\n",
    "gs.run_command('v.out.ogr', input=\"basins_vect\", output= 'data/GIS/Basins_Patagonia_all_complete.gpkg', overwrite=True, type = \"area\")\n",
    "\n",
    "basins = gpd.read_file(\"data/GIS/Basins_Patagonia_all_complete.gpkg\")\n",
    "basins[\"total_area\"]  = basins.to_crs(32719).area / 1e6\n",
    "basins[\"lat\"]         = basins.representative_point().y\n",
    "basins[\"lon\"]         = basins.representative_point().x"
   ]
  },
  {
   "cell_type": "code",
   "execution_count": 8,
   "id": "23db443f-badf-4937-b82c-a10a037ef507",
   "metadata": {
    "tags": []
   },
   "outputs": [],
   "source": [
    "# only study area\n",
    "basins = basins[basins.lat  < -41.0]\n",
    "basins = basins[basins.lon  < -68.0]\n",
    "basins = basins[~((basins.lon > -71.4) & (basins.lat > -45.0) & (basins.lat < -40))]\n",
    "basins = basins[~((basins.lon > -71.9) & (basins.lat > -41.3) & (basins.lat < -40.9))]\n",
    "basins = basins[~((basins.lon > -72) & (basins.lat > -50.0) & (basins.lat < -44.7))]\n",
    "basins = basins[~((basins.lon > -72.4) & (basins.lat > -49) & (basins.lat < -46))]\n",
    "basins = basins[~((basins.lon > -72) & (basins.lat > -52.2) & (basins.lat < -50.4))]\n",
    "basins = basins[~((basins.lon > -70.8) & (basins.lat > -51) & (basins.lat < -49))] \n",
    "basins = basins[~((basins.lon > -71) & (basins.lat > -52.4) & (basins.lat < -51))] \n",
    "basins = basins[~((basins.lon > -69.4) & (basins.lat > -54.2) & (basins.lat < -51))] \n",
    "basins = basins[~((basins.lon > -69.5) & (basins.lat > -54) & (basins.lat < -52))] \n",
    "basins = basins[~((basins.lon > -68.8) & (basins.lat > -54.5) & (basins.lat < -53))] \n",
    "# *small islands outside pmet coverage were manually removed in QGIS (n < 10)"
   ]
  },
  {
   "cell_type": "code",
   "execution_count": null,
   "id": "8bd974c5-2f2c-4a73-99f2-a0cdb7e98078",
   "metadata": {
    "tags": []
   },
   "outputs": [],
   "source": [
    "# area greater than 10 km2 (2,200 catchments)-> 88% of tha total area\n",
    "basins = basins[basins.total_area > 10]"
   ]
  },
  {
   "cell_type": "code",
   "execution_count": null,
   "id": "0646dce4-fb62-42eb-8b11-5bbc2f7d37e9",
   "metadata": {
    "tags": []
   },
   "outputs": [],
   "source": [
    "# ID for each basin\n",
    "names = np.linspace(start=1, stop=len(basins), num = len(basins), dtype = \"int16\").tolist()\n",
    "names = [str(item).zfill(8) for item in names]\n",
    "names = [\"Y\" + str(item) for item in names]\n",
    "basins[\"gauge_id\"] = names\n",
    "\n",
    "# ID for each hydro zone\n",
    "basins[\"ID_Zone\"] = np.nan\n",
    "basins.loc[basins.lat > -43.4, \"ID_Zone\"] = 1\n",
    "basins.loc[(basins.lat < -43.4) & (basins.lat > -46), \"ID_Zone\"] = 2\n",
    "basins.loc[(basins.lat < -46)   & (basins.lat > -47.8) & (basins.lon > -73), \"ID_Zone\"] = 3\n",
    "basins.loc[(basins.lat < -46)   & (basins.lat > -47.8) & (basins.lon < -73), \"ID_Zone\"] = 4\n",
    "basins.loc[(basins.lat < -47.8) & (basins.lat > -49.4), \"ID_Zone\"] = 5\n",
    "basins.loc[(basins.lat < -49.4) & (basins.lat > -50.7), \"ID_Zone\"] = 6\n",
    "basins.loc[(basins.lat < -50.7) & (basins.lat > -52.1), \"ID_Zone\"] = 7\n",
    "basins.loc[(basins.lat < -52.1) & (basins.lat > -54.1), \"ID_Zone\"] = 8\n",
    "basins.loc[basins.lat < -54.1, \"ID_Zone\"] = 9\n",
    "\n",
    "# save file\n",
    "basins.to_file(\"data/GIS/Basins_Patagonia_all.gpkg\")"
   ]
  },
  {
   "cell_type": "markdown",
   "id": "67247e36-300c-4a60-a5fa-5ee1fa19cdae",
   "metadata": {},
   "source": [
    "## Basin outlets (R kernel)"
   ]
  },
  {
   "cell_type": "markdown",
   "id": "5b52a389-83f5-4fa6-b076-87040bb87194",
   "metadata": {},
   "source": [
    "In python is super slow :("
   ]
  },
  {
   "cell_type": "code",
   "execution_count": null,
   "id": "84a79744-318a-421b-b075-106682c230eb",
   "metadata": {},
   "outputs": [],
   "source": [
    "library(\"terra\")\n",
    "library(\"dplyr\") \n",
    "\n",
    "# dataset recently created\n",
    "all_basins = vect(\"data/GIS/Basins_Patagonia_all.shp\")\n",
    "dem = rast(\"GIS/dem_patagonia3f_subset.tif\")\n",
    "\n",
    "basins_xy = extract(dem, as.lines(all_basins), xy=TRUE)\n",
    "basins_xy = basins_xy %>% group_by(ID) %>% slice_min(order_by = dem_patagonia1)\n",
    "basins_xy = aggregate(basins_xy, by = list(basins_xy$ID), FUN = mean) # several options \n",
    "basins_xy = basins_xy[c(\"ID\", \"x\", \"y\")]\n",
    "\n",
    "basins_xy[\"gauge_id\"] = all_basins$gauge_id \n",
    "basins_xy[\"area_km2\"] = all_basins$total_area\n",
    "\n",
    "basins_xy = vect(basins_xy, geom = c(\"x\", \"y\"), crs=\"epsg:4326\", keepgeom=T)\n",
    "writeVector(basins_xy, \"GIS South/Basins_Patagonia_all_mouth.shp\", overwrite=TRUE)"
   ]
  }
 ],
 "metadata": {
  "kernelspec": {
   "display_name": "Python 3 (ipykernel)",
   "language": "python",
   "name": "python3"
  },
  "language_info": {
   "codemirror_mode": {
    "name": "ipython",
    "version": 3
   },
   "file_extension": ".py",
   "mimetype": "text/x-python",
   "name": "python",
   "nbconvert_exporter": "python",
   "pygments_lexer": "ipython3",
   "version": "3.11.9"
  }
 },
 "nbformat": 4,
 "nbformat_minor": 5
}
