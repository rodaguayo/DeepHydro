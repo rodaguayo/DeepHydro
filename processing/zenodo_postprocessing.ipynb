{
 "cells": [
  {
   "cell_type": "markdown",
   "id": "b01f1944-5467-4fa0-87dd-74055316122a",
   "metadata": {},
   "source": [
    "# Post-processing files for Zenodo upload (csv to clean netcdf)"
   ]
  },
  {
   "cell_type": "code",
   "execution_count": null,
   "id": "1a16f757-ef33-453a-ae74-6c11503f6876",
   "metadata": {},
   "outputs": [],
   "source": [
    "import os \n",
    "import pandas as pd\n",
    "import xarray as xr\n",
    "\n",
    "from tqdm import tqdm\n",
    "\n",
    "os.chdir('/home/rooda/OneDrive/Projects/DeepHydro/')\n",
    "encode_Q = {'Q': {'dtype': 'int32', 'scale_factor': 0.0001, '_FillValue': -9999, 'zlib': True, 'complevel': 1}}"
   ]
  },
  {
   "cell_type": "code",
   "execution_count": null,
   "id": "fa389277-3805-43be-9068-5ec15c577b93",
   "metadata": {},
   "outputs": [],
   "source": [
    "# data to convert mm/day to m3/s (or viceversa)\n",
    "shape = pd.read_csv(\"data/Attributes_all_basins.csv\", index_col = 0)"
   ]
  },
  {
   "cell_type": "code",
   "execution_count": null,
   "id": "b6031ff5-6c3e-4a8f-b659-d7f8b5b1a01f",
   "metadata": {},
   "outputs": [],
   "source": [
    "def preprocessing(dataframe, initial_year):\n",
    "    dataframe = dataframe[shape.index]\n",
    "    dataframe = dataframe[dataframe.index.year >= initial_year]\n",
    "    dataframe = xr.Dataset({\"Q\": ([\"date\", \"basin_id\"], dataframe.values)},  coords={\"date\": dataframe.index, \"basin_id\": dataframe.columns})\n",
    "    return dataframe"
   ]
  },
  {
   "cell_type": "markdown",
   "id": "000cc3b6-1eb0-4e0c-af70-b50ac42c56b4",
   "metadata": {},
   "source": [
    "## Historical "
   ]
  },
  {
   "cell_type": "code",
   "execution_count": null,
   "id": "513a80e2-7946-4569-bc75-6a7315a842b9",
   "metadata": {
    "tags": []
   },
   "outputs": [],
   "source": [
    "LSTM_OGGM_on = pd.read_csv(\"results/runoff/total_runoff_historical_LSTM_OGGM_on_all.csv\", index_col = 0, parse_dates= [\"date\"])\n",
    "LSTM_OGGM_on = preprocessing(LSTM_OGGM_on, 2000)\n",
    "\n",
    "LSTM_OGGM_off = pd.read_csv(\"results/runoff/total_runoff_historical_LSTM_OGGM_off_all.csv\", index_col = 0, parse_dates= [\"date\"])\n",
    "LSTM_OGGM_off = preprocessing(LSTM_OGGM_off, 2000)\n",
    "\n",
    "TUWmodel_base = pd.read_csv(\"results/runoff/total_runoff_historical_TUWmodel_all.csv\", index_col = 0, parse_dates= [\"date\"])\n",
    "TUWmodel_base = preprocessing(TUWmodel_base, 2000)\n",
    "\n",
    "GR4J_base = pd.read_csv(\"results/runoff/total_runoff_historical_GR4J_all.csv\", index_col = 0, parse_dates= [\"date\"])\n",
    "GR4J_base = preprocessing(GR4J_base, 2000)\n",
    "\n",
    "historical_df = xr.concat([LSTM_OGGM_on, LSTM_OGGM_off, TUWmodel_base, GR4J_base], dim = \"model\")\n",
    "historical_df = historical_df.assign_coords(model=[\"LSTM_OGGM_on\", \"LSTM_OGGM_off\", \"TUWmodel\", \"GR4J\"])\n",
    "historical_df[\"Q\"].attrs[\"units\"] = \"mm d-1\"\n",
    "historical_df[\"Q\"] = historical_df[\"Q\"].astype(\"float32\")\n",
    "\n",
    "historical_df.to_netcdf(\"results/zenodo/Q_historical.nc\", encoding = encode_Q)"
   ]
  },
  {
   "cell_type": "markdown",
   "id": "c522d6d3-6f6f-4358-a771-3e0eaa209db7",
   "metadata": {},
   "source": [
    "## Future"
   ]
  },
  {
   "cell_type": "code",
   "execution_count": null,
   "id": "e7ce76e3-247c-4f50-b6f2-905ae9b8391d",
   "metadata": {},
   "outputs": [],
   "source": [
    "gcms  = [\"GFDL-ESM4\", \"IPSL-CM6A-LR\", \"MIROC6\", \"MPI-ESM1-2-LR\", \"MRI-ESM2-0\"]\n",
    "ssps  = [\"ssp126\", \"ssp585\"]\n",
    "\n",
    "df_ssp = []\n",
    "\n",
    "for ssp in tqdm(ssps):\n",
    "\n",
    "    df_gcm = []\n",
    "    for gcm in tqdm(gcms, leave = False):\n",
    "        \n",
    "        LSTM_OGGM_on_future_i = pd.read_csv(\"results/runoff/total_runoff_future_{}_{}_LSTM_OGGM_on_all.csv\".format(gcm, ssp), parse_dates = [\"date\"], index_col = 0)\n",
    "        LSTM_OGGM_on_future_i = preprocessing(LSTM_OGGM_on_future_i, 2020)\n",
    "\n",
    "        LSTM_OGGM_off_future_i = pd.read_csv(\"results/runoff/total_runoff_future_{}_{}_LSTM_OGGM_off_all.csv\".format(gcm, ssp), parse_dates = [\"date\"], index_col = 0)\n",
    "        LSTM_OGGM_off_future_i = preprocessing(LSTM_OGGM_off_future_i, 2020)\n",
    "\n",
    "        TUWmodel_future_i = pd.read_parquet(\"results/runoff/total_runoff_future_{}_{}_TUWmodel_all.parquet\".format(gcm, ssp))\n",
    "        TUWmodel_future_i.index = TUWmodel_future_i[\"date\"].dt.tz_localize(None).astype(\"datetime64[ns]\")\n",
    "        TUWmodel_future_i = preprocessing(TUWmodel_future_i, 2020)    \n",
    "\n",
    "        GR4J_future_i = pd.read_parquet(\"results/runoff/total_runoff_future_{}_{}_GR4J_all.parquet\".format(gcm, ssp))\n",
    "        GR4J_future_i.index = GR4J_future_i[\"date\"].dt.tz_localize(None).astype(\"datetime64[ns]\")\n",
    "        GR4J_future_i = preprocessing(GR4J_future_i, 2020)\n",
    "\n",
    "        df_i = xr.concat([LSTM_OGGM_on_future_i, LSTM_OGGM_off_future_i, TUWmodel_future_i, GR4J_future_i], dim = \"model\")\n",
    "        df_i = df_i.assign_coords(model=[\"LSTM_OGGM_on\", \"LSTM_OGGM_off\", \"TUWmodel\", \"GR4J\"])\n",
    "        df_gcm.append(df_i)\n",
    "\n",
    "    df_gcm = xr.concat(df_gcm, dim='gcm')\n",
    "    df_ssp.append(df_gcm)\n",
    "\n",
    "df_ssp = xr.concat(df_ssp, dim='ssp')\n",
    "df_ssp = df_ssp.assign_coords(gcm=gcms, ssp=ssps)\n",
    "df_ssp[\"Q\"].attrs[\"units\"] = \"mm d-1\"\n",
    "df_ssp[\"Q\"] = df_ssp[\"Q\"].astype(\"float32\")\n",
    "\n",
    "df_ssp.to_netcdf(\"results/zenodo/Q_future.nc\", encoding = encode_Q)"
   ]
  }
 ],
 "metadata": {
  "kernelspec": {
   "display_name": "climate",
   "language": "python",
   "name": "python3"
  },
  "language_info": {
   "codemirror_mode": {
    "name": "ipython",
    "version": 3
   },
   "file_extension": ".py",
   "mimetype": "text/x-python",
   "name": "python",
   "nbconvert_exporter": "python",
   "pygments_lexer": "ipython3",
   "version": "3.11.9"
  }
 },
 "nbformat": 4,
 "nbformat_minor": 5
}
